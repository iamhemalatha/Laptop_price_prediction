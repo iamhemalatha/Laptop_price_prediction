{
  "cells": [
    {
      "cell_type": "code",
      "execution_count": 84,
      "id": "uQCHfGQhPV9T",
      "metadata": {
        "id": "uQCHfGQhPV9T"
      },
      "outputs": [],
      "source": [
        "# Importing necessary libraries\n",
        "import numpy as np\n",
        "import pandas as pd\n",
        "import matplotlib.pyplot as plt\n",
        "import seaborn as sns\n",
        "\n",
        "# Reading the dataset from a CSV file\n",
        "df = pd.read_csv(\"/content/laptop.csv\")"
      ]
    },
    {
      "cell_type": "code",
      "execution_count": 85,
      "id": "9d54affe-666f-4fb0-905a-4eb85dcbcaca",
      "metadata": {
        "colab": {
          "base_uri": "https://localhost:8080/"
        },
        "id": "9d54affe-666f-4fb0-905a-4eb85dcbcaca",
        "outputId": "d0a683f1-bafb-4e45-b148-2ccf6fa75915"
      },
      "outputs": [
        {
          "output_type": "execute_result",
          "data": {
            "text/plain": [
              "(1303, 13)"
            ]
          },
          "metadata": {},
          "execution_count": 85
        }
      ],
      "source": [
        "# Shape of the dataset\n",
        "df.shape"
      ]
    },
    {
      "cell_type": "code",
      "source": [
        "# Displaying the data types of each column in the DataFrame\n",
        "df.dtypes"
      ],
      "metadata": {
        "colab": {
          "base_uri": "https://localhost:8080/"
        },
        "id": "orxQ-e10mx9F",
        "outputId": "faa29bdd-d409-4206-f517-6095ab832c13"
      },
      "id": "orxQ-e10mx9F",
      "execution_count": 86,
      "outputs": [
        {
          "output_type": "execute_result",
          "data": {
            "text/plain": [
              "Unnamed: 0.1          int64\n",
              "Unnamed: 0          float64\n",
              "Company              object\n",
              "TypeName             object\n",
              "Inches               object\n",
              "ScreenResolution     object\n",
              "Cpu                  object\n",
              "Ram                  object\n",
              "Memory               object\n",
              "Gpu                  object\n",
              "OpSys                object\n",
              "Weight               object\n",
              "Price               float64\n",
              "dtype: object"
            ]
          },
          "metadata": {},
          "execution_count": 86
        }
      ]
    },
    {
      "cell_type": "code",
      "execution_count": 87,
      "id": "hf_hq9sunbZY",
      "metadata": {
        "colab": {
          "base_uri": "https://localhost:8080/"
        },
        "id": "hf_hq9sunbZY",
        "outputId": "9552ebf2-bc8c-4d00-c664-ff9a0e7f9533"
      },
      "outputs": [
        {
          "output_type": "stream",
          "name": "stdout",
          "text": [
            "<class 'pandas.core.frame.DataFrame'>\n",
            "RangeIndex: 1303 entries, 0 to 1302\n",
            "Data columns (total 13 columns):\n",
            " #   Column            Non-Null Count  Dtype  \n",
            "---  ------            --------------  -----  \n",
            " 0   Unnamed: 0.1      1303 non-null   int64  \n",
            " 1   Unnamed: 0        1273 non-null   float64\n",
            " 2   Company           1273 non-null   object \n",
            " 3   TypeName          1273 non-null   object \n",
            " 4   Inches            1273 non-null   object \n",
            " 5   ScreenResolution  1273 non-null   object \n",
            " 6   Cpu               1273 non-null   object \n",
            " 7   Ram               1273 non-null   object \n",
            " 8   Memory            1273 non-null   object \n",
            " 9   Gpu               1273 non-null   object \n",
            " 10  OpSys             1273 non-null   object \n",
            " 11  Weight            1273 non-null   object \n",
            " 12  Price             1273 non-null   float64\n",
            "dtypes: float64(2), int64(1), object(10)\n",
            "memory usage: 132.5+ KB\n"
          ]
        }
      ],
      "source": [
        "# Basic summary of the DataFrame to understand the structure and data types\n",
        "df.info()"
      ]
    },
    {
      "cell_type": "code",
      "execution_count": 88,
      "id": "ip5p5fbrQsVM",
      "metadata": {
        "colab": {
          "base_uri": "https://localhost:8080/",
          "height": 310
        },
        "id": "ip5p5fbrQsVM",
        "outputId": "89ca6170-ef15-4573-afa4-b8654d8b0898"
      },
      "outputs": [
        {
          "output_type": "execute_result",
          "data": {
            "text/plain": [
              "   Unnamed: 0.1  Unnamed: 0 Company   TypeName Inches  \\\n",
              "0             0         0.0   Apple  Ultrabook   13.3   \n",
              "1             1         1.0   Apple  Ultrabook   13.3   \n",
              "2             2         2.0      HP   Notebook   15.6   \n",
              "3             3         3.0   Apple  Ultrabook   15.4   \n",
              "4             4         4.0   Apple  Ultrabook   13.3   \n",
              "\n",
              "                     ScreenResolution                         Cpu   Ram  \\\n",
              "0  IPS Panel Retina Display 2560x1600        Intel Core i5 2.3GHz   8GB   \n",
              "1                            1440x900        Intel Core i5 1.8GHz   8GB   \n",
              "2                   Full HD 1920x1080  Intel Core i5 7200U 2.5GHz   8GB   \n",
              "3  IPS Panel Retina Display 2880x1800        Intel Core i7 2.7GHz  16GB   \n",
              "4  IPS Panel Retina Display 2560x1600        Intel Core i5 3.1GHz   8GB   \n",
              "\n",
              "                Memory                           Gpu  OpSys  Weight  \\\n",
              "0            128GB SSD  Intel Iris Plus Graphics 640  macOS  1.37kg   \n",
              "1  128GB Flash Storage        Intel HD Graphics 6000  macOS  1.34kg   \n",
              "2            256GB SSD         Intel HD Graphics 620  No OS  1.86kg   \n",
              "3            512GB SSD            AMD Radeon Pro 455  macOS  1.83kg   \n",
              "4            256GB SSD  Intel Iris Plus Graphics 650  macOS  1.37kg   \n",
              "\n",
              "         Price  \n",
              "0   71378.6832  \n",
              "1   47895.5232  \n",
              "2   30636.0000  \n",
              "3  135195.3360  \n",
              "4   96095.8080  "
            ],
            "text/html": [
              "\n",
              "  <div id=\"df-61806308-4f5a-4bc2-907c-7316004e9088\" class=\"colab-df-container\">\n",
              "    <div>\n",
              "<style scoped>\n",
              "    .dataframe tbody tr th:only-of-type {\n",
              "        vertical-align: middle;\n",
              "    }\n",
              "\n",
              "    .dataframe tbody tr th {\n",
              "        vertical-align: top;\n",
              "    }\n",
              "\n",
              "    .dataframe thead th {\n",
              "        text-align: right;\n",
              "    }\n",
              "</style>\n",
              "<table border=\"1\" class=\"dataframe\">\n",
              "  <thead>\n",
              "    <tr style=\"text-align: right;\">\n",
              "      <th></th>\n",
              "      <th>Unnamed: 0.1</th>\n",
              "      <th>Unnamed: 0</th>\n",
              "      <th>Company</th>\n",
              "      <th>TypeName</th>\n",
              "      <th>Inches</th>\n",
              "      <th>ScreenResolution</th>\n",
              "      <th>Cpu</th>\n",
              "      <th>Ram</th>\n",
              "      <th>Memory</th>\n",
              "      <th>Gpu</th>\n",
              "      <th>OpSys</th>\n",
              "      <th>Weight</th>\n",
              "      <th>Price</th>\n",
              "    </tr>\n",
              "  </thead>\n",
              "  <tbody>\n",
              "    <tr>\n",
              "      <th>0</th>\n",
              "      <td>0</td>\n",
              "      <td>0.0</td>\n",
              "      <td>Apple</td>\n",
              "      <td>Ultrabook</td>\n",
              "      <td>13.3</td>\n",
              "      <td>IPS Panel Retina Display 2560x1600</td>\n",
              "      <td>Intel Core i5 2.3GHz</td>\n",
              "      <td>8GB</td>\n",
              "      <td>128GB SSD</td>\n",
              "      <td>Intel Iris Plus Graphics 640</td>\n",
              "      <td>macOS</td>\n",
              "      <td>1.37kg</td>\n",
              "      <td>71378.6832</td>\n",
              "    </tr>\n",
              "    <tr>\n",
              "      <th>1</th>\n",
              "      <td>1</td>\n",
              "      <td>1.0</td>\n",
              "      <td>Apple</td>\n",
              "      <td>Ultrabook</td>\n",
              "      <td>13.3</td>\n",
              "      <td>1440x900</td>\n",
              "      <td>Intel Core i5 1.8GHz</td>\n",
              "      <td>8GB</td>\n",
              "      <td>128GB Flash Storage</td>\n",
              "      <td>Intel HD Graphics 6000</td>\n",
              "      <td>macOS</td>\n",
              "      <td>1.34kg</td>\n",
              "      <td>47895.5232</td>\n",
              "    </tr>\n",
              "    <tr>\n",
              "      <th>2</th>\n",
              "      <td>2</td>\n",
              "      <td>2.0</td>\n",
              "      <td>HP</td>\n",
              "      <td>Notebook</td>\n",
              "      <td>15.6</td>\n",
              "      <td>Full HD 1920x1080</td>\n",
              "      <td>Intel Core i5 7200U 2.5GHz</td>\n",
              "      <td>8GB</td>\n",
              "      <td>256GB SSD</td>\n",
              "      <td>Intel HD Graphics 620</td>\n",
              "      <td>No OS</td>\n",
              "      <td>1.86kg</td>\n",
              "      <td>30636.0000</td>\n",
              "    </tr>\n",
              "    <tr>\n",
              "      <th>3</th>\n",
              "      <td>3</td>\n",
              "      <td>3.0</td>\n",
              "      <td>Apple</td>\n",
              "      <td>Ultrabook</td>\n",
              "      <td>15.4</td>\n",
              "      <td>IPS Panel Retina Display 2880x1800</td>\n",
              "      <td>Intel Core i7 2.7GHz</td>\n",
              "      <td>16GB</td>\n",
              "      <td>512GB SSD</td>\n",
              "      <td>AMD Radeon Pro 455</td>\n",
              "      <td>macOS</td>\n",
              "      <td>1.83kg</td>\n",
              "      <td>135195.3360</td>\n",
              "    </tr>\n",
              "    <tr>\n",
              "      <th>4</th>\n",
              "      <td>4</td>\n",
              "      <td>4.0</td>\n",
              "      <td>Apple</td>\n",
              "      <td>Ultrabook</td>\n",
              "      <td>13.3</td>\n",
              "      <td>IPS Panel Retina Display 2560x1600</td>\n",
              "      <td>Intel Core i5 3.1GHz</td>\n",
              "      <td>8GB</td>\n",
              "      <td>256GB SSD</td>\n",
              "      <td>Intel Iris Plus Graphics 650</td>\n",
              "      <td>macOS</td>\n",
              "      <td>1.37kg</td>\n",
              "      <td>96095.8080</td>\n",
              "    </tr>\n",
              "  </tbody>\n",
              "</table>\n",
              "</div>\n",
              "    <div class=\"colab-df-buttons\">\n",
              "\n",
              "  <div class=\"colab-df-container\">\n",
              "    <button class=\"colab-df-convert\" onclick=\"convertToInteractive('df-61806308-4f5a-4bc2-907c-7316004e9088')\"\n",
              "            title=\"Convert this dataframe to an interactive table.\"\n",
              "            style=\"display:none;\">\n",
              "\n",
              "  <svg xmlns=\"http://www.w3.org/2000/svg\" height=\"24px\" viewBox=\"0 -960 960 960\">\n",
              "    <path d=\"M120-120v-720h720v720H120Zm60-500h600v-160H180v160Zm220 220h160v-160H400v160Zm0 220h160v-160H400v160ZM180-400h160v-160H180v160Zm440 0h160v-160H620v160ZM180-180h160v-160H180v160Zm440 0h160v-160H620v160Z\"/>\n",
              "  </svg>\n",
              "    </button>\n",
              "\n",
              "  <style>\n",
              "    .colab-df-container {\n",
              "      display:flex;\n",
              "      gap: 12px;\n",
              "    }\n",
              "\n",
              "    .colab-df-convert {\n",
              "      background-color: #E8F0FE;\n",
              "      border: none;\n",
              "      border-radius: 50%;\n",
              "      cursor: pointer;\n",
              "      display: none;\n",
              "      fill: #1967D2;\n",
              "      height: 32px;\n",
              "      padding: 0 0 0 0;\n",
              "      width: 32px;\n",
              "    }\n",
              "\n",
              "    .colab-df-convert:hover {\n",
              "      background-color: #E2EBFA;\n",
              "      box-shadow: 0px 1px 2px rgba(60, 64, 67, 0.3), 0px 1px 3px 1px rgba(60, 64, 67, 0.15);\n",
              "      fill: #174EA6;\n",
              "    }\n",
              "\n",
              "    .colab-df-buttons div {\n",
              "      margin-bottom: 4px;\n",
              "    }\n",
              "\n",
              "    [theme=dark] .colab-df-convert {\n",
              "      background-color: #3B4455;\n",
              "      fill: #D2E3FC;\n",
              "    }\n",
              "\n",
              "    [theme=dark] .colab-df-convert:hover {\n",
              "      background-color: #434B5C;\n",
              "      box-shadow: 0px 1px 3px 1px rgba(0, 0, 0, 0.15);\n",
              "      filter: drop-shadow(0px 1px 2px rgba(0, 0, 0, 0.3));\n",
              "      fill: #FFFFFF;\n",
              "    }\n",
              "  </style>\n",
              "\n",
              "    <script>\n",
              "      const buttonEl =\n",
              "        document.querySelector('#df-61806308-4f5a-4bc2-907c-7316004e9088 button.colab-df-convert');\n",
              "      buttonEl.style.display =\n",
              "        google.colab.kernel.accessAllowed ? 'block' : 'none';\n",
              "\n",
              "      async function convertToInteractive(key) {\n",
              "        const element = document.querySelector('#df-61806308-4f5a-4bc2-907c-7316004e9088');\n",
              "        const dataTable =\n",
              "          await google.colab.kernel.invokeFunction('convertToInteractive',\n",
              "                                                    [key], {});\n",
              "        if (!dataTable) return;\n",
              "\n",
              "        const docLinkHtml = 'Like what you see? Visit the ' +\n",
              "          '<a target=\"_blank\" href=https://colab.research.google.com/notebooks/data_table.ipynb>data table notebook</a>'\n",
              "          + ' to learn more about interactive tables.';\n",
              "        element.innerHTML = '';\n",
              "        dataTable['output_type'] = 'display_data';\n",
              "        await google.colab.output.renderOutput(dataTable, element);\n",
              "        const docLink = document.createElement('div');\n",
              "        docLink.innerHTML = docLinkHtml;\n",
              "        element.appendChild(docLink);\n",
              "      }\n",
              "    </script>\n",
              "  </div>\n",
              "\n",
              "\n",
              "<div id=\"df-bdc1c446-bf29-4be6-af63-7476a4a4fc47\">\n",
              "  <button class=\"colab-df-quickchart\" onclick=\"quickchart('df-bdc1c446-bf29-4be6-af63-7476a4a4fc47')\"\n",
              "            title=\"Suggest charts\"\n",
              "            style=\"display:none;\">\n",
              "\n",
              "<svg xmlns=\"http://www.w3.org/2000/svg\" height=\"24px\"viewBox=\"0 0 24 24\"\n",
              "     width=\"24px\">\n",
              "    <g>\n",
              "        <path d=\"M19 3H5c-1.1 0-2 .9-2 2v14c0 1.1.9 2 2 2h14c1.1 0 2-.9 2-2V5c0-1.1-.9-2-2-2zM9 17H7v-7h2v7zm4 0h-2V7h2v10zm4 0h-2v-4h2v4z\"/>\n",
              "    </g>\n",
              "</svg>\n",
              "  </button>\n",
              "\n",
              "<style>\n",
              "  .colab-df-quickchart {\n",
              "      --bg-color: #E8F0FE;\n",
              "      --fill-color: #1967D2;\n",
              "      --hover-bg-color: #E2EBFA;\n",
              "      --hover-fill-color: #174EA6;\n",
              "      --disabled-fill-color: #AAA;\n",
              "      --disabled-bg-color: #DDD;\n",
              "  }\n",
              "\n",
              "  [theme=dark] .colab-df-quickchart {\n",
              "      --bg-color: #3B4455;\n",
              "      --fill-color: #D2E3FC;\n",
              "      --hover-bg-color: #434B5C;\n",
              "      --hover-fill-color: #FFFFFF;\n",
              "      --disabled-bg-color: #3B4455;\n",
              "      --disabled-fill-color: #666;\n",
              "  }\n",
              "\n",
              "  .colab-df-quickchart {\n",
              "    background-color: var(--bg-color);\n",
              "    border: none;\n",
              "    border-radius: 50%;\n",
              "    cursor: pointer;\n",
              "    display: none;\n",
              "    fill: var(--fill-color);\n",
              "    height: 32px;\n",
              "    padding: 0;\n",
              "    width: 32px;\n",
              "  }\n",
              "\n",
              "  .colab-df-quickchart:hover {\n",
              "    background-color: var(--hover-bg-color);\n",
              "    box-shadow: 0 1px 2px rgba(60, 64, 67, 0.3), 0 1px 3px 1px rgba(60, 64, 67, 0.15);\n",
              "    fill: var(--button-hover-fill-color);\n",
              "  }\n",
              "\n",
              "  .colab-df-quickchart-complete:disabled,\n",
              "  .colab-df-quickchart-complete:disabled:hover {\n",
              "    background-color: var(--disabled-bg-color);\n",
              "    fill: var(--disabled-fill-color);\n",
              "    box-shadow: none;\n",
              "  }\n",
              "\n",
              "  .colab-df-spinner {\n",
              "    border: 2px solid var(--fill-color);\n",
              "    border-color: transparent;\n",
              "    border-bottom-color: var(--fill-color);\n",
              "    animation:\n",
              "      spin 1s steps(1) infinite;\n",
              "  }\n",
              "\n",
              "  @keyframes spin {\n",
              "    0% {\n",
              "      border-color: transparent;\n",
              "      border-bottom-color: var(--fill-color);\n",
              "      border-left-color: var(--fill-color);\n",
              "    }\n",
              "    20% {\n",
              "      border-color: transparent;\n",
              "      border-left-color: var(--fill-color);\n",
              "      border-top-color: var(--fill-color);\n",
              "    }\n",
              "    30% {\n",
              "      border-color: transparent;\n",
              "      border-left-color: var(--fill-color);\n",
              "      border-top-color: var(--fill-color);\n",
              "      border-right-color: var(--fill-color);\n",
              "    }\n",
              "    40% {\n",
              "      border-color: transparent;\n",
              "      border-right-color: var(--fill-color);\n",
              "      border-top-color: var(--fill-color);\n",
              "    }\n",
              "    60% {\n",
              "      border-color: transparent;\n",
              "      border-right-color: var(--fill-color);\n",
              "    }\n",
              "    80% {\n",
              "      border-color: transparent;\n",
              "      border-right-color: var(--fill-color);\n",
              "      border-bottom-color: var(--fill-color);\n",
              "    }\n",
              "    90% {\n",
              "      border-color: transparent;\n",
              "      border-bottom-color: var(--fill-color);\n",
              "    }\n",
              "  }\n",
              "</style>\n",
              "\n",
              "  <script>\n",
              "    async function quickchart(key) {\n",
              "      const quickchartButtonEl =\n",
              "        document.querySelector('#' + key + ' button');\n",
              "      quickchartButtonEl.disabled = true;  // To prevent multiple clicks.\n",
              "      quickchartButtonEl.classList.add('colab-df-spinner');\n",
              "      try {\n",
              "        const charts = await google.colab.kernel.invokeFunction(\n",
              "            'suggestCharts', [key], {});\n",
              "      } catch (error) {\n",
              "        console.error('Error during call to suggestCharts:', error);\n",
              "      }\n",
              "      quickchartButtonEl.classList.remove('colab-df-spinner');\n",
              "      quickchartButtonEl.classList.add('colab-df-quickchart-complete');\n",
              "    }\n",
              "    (() => {\n",
              "      let quickchartButtonEl =\n",
              "        document.querySelector('#df-bdc1c446-bf29-4be6-af63-7476a4a4fc47 button');\n",
              "      quickchartButtonEl.style.display =\n",
              "        google.colab.kernel.accessAllowed ? 'block' : 'none';\n",
              "    })();\n",
              "  </script>\n",
              "</div>\n",
              "\n",
              "    </div>\n",
              "  </div>\n"
            ],
            "application/vnd.google.colaboratory.intrinsic+json": {
              "type": "dataframe",
              "variable_name": "df",
              "summary": "{\n  \"name\": \"df\",\n  \"rows\": 1303,\n  \"fields\": [\n    {\n      \"column\": \"Unnamed: 0.1\",\n      \"properties\": {\n        \"dtype\": \"number\",\n        \"std\": 376,\n        \"min\": 0,\n        \"max\": 1302,\n        \"num_unique_values\": 1303,\n        \"samples\": [\n          479,\n          1022,\n          298\n        ],\n        \"semantic_type\": \"\",\n        \"description\": \"\"\n      }\n    },\n    {\n      \"column\": \"Unnamed: 0\",\n      \"properties\": {\n        \"dtype\": \"number\",\n        \"std\": 376.49302715628085,\n        \"min\": 0.0,\n        \"max\": 1302.0,\n        \"num_unique_values\": 1273,\n        \"samples\": [\n          44.0,\n          1188.0,\n          133.0\n        ],\n        \"semantic_type\": \"\",\n        \"description\": \"\"\n      }\n    },\n    {\n      \"column\": \"Company\",\n      \"properties\": {\n        \"dtype\": \"category\",\n        \"num_unique_values\": 19,\n        \"samples\": [\n          \"Apple\",\n          \"Lenovo\",\n          \"Xiaomi\"\n        ],\n        \"semantic_type\": \"\",\n        \"description\": \"\"\n      }\n    },\n    {\n      \"column\": \"TypeName\",\n      \"properties\": {\n        \"dtype\": \"category\",\n        \"num_unique_values\": 6,\n        \"samples\": [\n          \"Ultrabook\",\n          \"Notebook\",\n          \"Netbook\"\n        ],\n        \"semantic_type\": \"\",\n        \"description\": \"\"\n      }\n    },\n    {\n      \"column\": \"Inches\",\n      \"properties\": {\n        \"dtype\": \"category\",\n        \"num_unique_values\": 25,\n        \"samples\": [\n          \"13\",\n          \"24\",\n          \"13.3\"\n        ],\n        \"semantic_type\": \"\",\n        \"description\": \"\"\n      }\n    },\n    {\n      \"column\": \"ScreenResolution\",\n      \"properties\": {\n        \"dtype\": \"category\",\n        \"num_unique_values\": 40,\n        \"samples\": [\n          \"Touchscreen 1366x768\",\n          \"1600x900\",\n          \"4K Ultra HD / Touchscreen 3840x2160\"\n        ],\n        \"semantic_type\": \"\",\n        \"description\": \"\"\n      }\n    },\n    {\n      \"column\": \"Cpu\",\n      \"properties\": {\n        \"dtype\": \"category\",\n        \"num_unique_values\": 118,\n        \"samples\": [\n          \"AMD A12-Series 9720P 2.7GHz\",\n          \"Intel Atom Z8350 1.92GHz\",\n          \"Intel Core i5 3.1GHz\"\n        ],\n        \"semantic_type\": \"\",\n        \"description\": \"\"\n      }\n    },\n    {\n      \"column\": \"Ram\",\n      \"properties\": {\n        \"dtype\": \"category\",\n        \"num_unique_values\": 10,\n        \"samples\": [\n          \"24GB\",\n          \"16GB\",\n          \"64GB\"\n        ],\n        \"semantic_type\": \"\",\n        \"description\": \"\"\n      }\n    },\n    {\n      \"column\": \"Memory\",\n      \"properties\": {\n        \"dtype\": \"category\",\n        \"num_unique_values\": 40,\n        \"samples\": [\n          \"256GB SSD +  500GB HDD\",\n          \"1.0TB Hybrid\",\n          \"64GB SSD\"\n        ],\n        \"semantic_type\": \"\",\n        \"description\": \"\"\n      }\n    },\n    {\n      \"column\": \"Gpu\",\n      \"properties\": {\n        \"dtype\": \"category\",\n        \"num_unique_values\": 110,\n        \"samples\": [\n          \"AMD Radeon R7\",\n          \"AMD Radeon Pro 555\",\n          \"Intel Iris Plus Graphics 650\"\n        ],\n        \"semantic_type\": \"\",\n        \"description\": \"\"\n      }\n    },\n    {\n      \"column\": \"OpSys\",\n      \"properties\": {\n        \"dtype\": \"category\",\n        \"num_unique_values\": 9,\n        \"samples\": [\n          \"Windows 7\",\n          \"No OS\",\n          \"Windows 10 S\"\n        ],\n        \"semantic_type\": \"\",\n        \"description\": \"\"\n      }\n    },\n    {\n      \"column\": \"Weight\",\n      \"properties\": {\n        \"dtype\": \"category\",\n        \"num_unique_values\": 189,\n        \"samples\": [\n          \"2.21kg\",\n          \"3.74kg\",\n          \"1.65kg\"\n        ],\n        \"semantic_type\": \"\",\n        \"description\": \"\"\n      }\n    },\n    {\n      \"column\": \"Price\",\n      \"properties\": {\n        \"dtype\": \"number\",\n        \"std\": 37332.251004569844,\n        \"min\": 9270.72,\n        \"max\": 324954.72,\n        \"num_unique_values\": 777,\n        \"samples\": [\n          68464.8,\n          71341.92,\n          77788.8\n        ],\n        \"semantic_type\": \"\",\n        \"description\": \"\"\n      }\n    }\n  ]\n}"
            }
          },
          "metadata": {},
          "execution_count": 88
        }
      ],
      "source": [
        "# Display the first few rows of the DataFrame to verify that the data has been loaded correctly\n",
        "df.head()"
      ]
    },
    {
      "cell_type": "code",
      "execution_count": 89,
      "id": "69072504-7087-420b-992e-f1477ec9dfd7",
      "metadata": {
        "colab": {
          "base_uri": "https://localhost:8080/"
        },
        "id": "69072504-7087-420b-992e-f1477ec9dfd7",
        "outputId": "b27a49aa-dc32-41d0-91a8-a4bc476d8949"
      },
      "outputs": [
        {
          "output_type": "execute_result",
          "data": {
            "text/plain": [
              "Unnamed: 0.1         0\n",
              "Unnamed: 0          30\n",
              "Company             30\n",
              "TypeName            30\n",
              "Inches              30\n",
              "ScreenResolution    30\n",
              "Cpu                 30\n",
              "Ram                 30\n",
              "Memory              30\n",
              "Gpu                 30\n",
              "OpSys               30\n",
              "Weight              30\n",
              "Price               30\n",
              "dtype: int64"
            ]
          },
          "metadata": {},
          "execution_count": 89
        }
      ],
      "source": [
        "# count of the null values in each column\n",
        "df.isnull().sum()"
      ]
    },
    {
      "cell_type": "code",
      "execution_count": 90,
      "id": "adEKsbo8rCN9",
      "metadata": {
        "colab": {
          "base_uri": "https://localhost:8080/",
          "height": 561
        },
        "id": "adEKsbo8rCN9",
        "outputId": "942097e0-2b74-409c-a456-687b2ad78154"
      },
      "outputs": [
        {
          "output_type": "execute_result",
          "data": {
            "text/plain": [
              "<Axes: >"
            ]
          },
          "metadata": {},
          "execution_count": 90
        },
        {
          "output_type": "display_data",
          "data": {
            "text/plain": [
              "<Figure size 640x480 with 2 Axes>"
            ],
            "image/png": "[encoded data removed]"
          },
          "metadata": {}
        }
      ],
      "source": [
        "# null values in Graph\n",
        "import seaborn as sns\n",
        "sns.heatmap(df.isnull())"
      ]
    },
    {
      "cell_type": "code",
      "execution_count": 91,
      "id": "oWrUpGgESYG9",
      "metadata": {
        "colab": {
          "base_uri": "https://localhost:8080/"
        },
        "id": "oWrUpGgESYG9",
        "outputId": "afda17eb-5acc-402a-8dd6-a2ec3b09654d"
      },
      "outputs": [
        {
          "output_type": "execute_result",
          "data": {
            "text/plain": [
              "Unnamed: 0.1        0\n",
              "Unnamed: 0          0\n",
              "Company             0\n",
              "TypeName            0\n",
              "Inches              0\n",
              "ScreenResolution    0\n",
              "Cpu                 0\n",
              "Ram                 0\n",
              "Memory              0\n",
              "Gpu                 0\n",
              "OpSys               0\n",
              "Weight              0\n",
              "Price               0\n",
              "dtype: int64"
            ]
          },
          "metadata": {},
          "execution_count": 91
        }
      ],
      "source": [
        "# removing the null rows and checking the count of null values again\n",
        "df=df.dropna()\n",
        "df.isnull().sum()"
      ]
    },
    {
      "cell_type": "code",
      "execution_count": 92,
      "id": "YtY2sj5zrWf8",
      "metadata": {
        "colab": {
          "base_uri": "https://localhost:8080/",
          "height": 561
        },
        "id": "YtY2sj5zrWf8",
        "outputId": "744da7bc-b3d8-40f8-b28c-de86fe3d0194"
      },
      "outputs": [
        {
          "output_type": "execute_result",
          "data": {
            "text/plain": [
              "<Axes: >"
            ]
          },
          "metadata": {},
          "execution_count": 92
        },
        {
          "output_type": "display_data",
          "data": {
            "text/plain": [
              "<Figure size 640x480 with 2 Axes>"
            ],
            "image/png": "[encoded data removed]"
          },
          "metadata": {}
        }
      ],
      "source": [
        "import seaborn as sns\n",
        "sns.heatmap(df.isnull())"
      ]
    },
    {
      "cell_type": "code",
      "execution_count": 93,
      "id": "47692296-58e1-40ae-af71-87b5baa74820",
      "metadata": {
        "colab": {
          "base_uri": "https://localhost:8080/"
        },
        "id": "47692296-58e1-40ae-af71-87b5baa74820",
        "outputId": "59e33ef7-5eb8-4cc9-c06e-101f21b40693"
      },
      "outputs": [
        {
          "output_type": "execute_result",
          "data": {
            "text/plain": [
              "(1273, 11)"
            ]
          },
          "metadata": {},
          "execution_count": 93
        }
      ],
      "source": [
        "# Dropping unnecessary columns from the DataFrame\n",
        "df.drop(columns=[\"Unnamed: 0.1\",\"Unnamed: 0\"],axis=1,inplace=True)\n",
        "# Displaying the shape of the DataFrame\n",
        "df.shape"
      ]
    },
    {
      "cell_type": "code",
      "execution_count": 94,
      "id": "dq-JPmuusm3o",
      "metadata": {
        "id": "dq-JPmuusm3o"
      },
      "outputs": [],
      "source": [
        "# Stripping whitespace from string columns in the DataFrame\n",
        "\n",
        "df[\"Company\"]=df[\"Company\"].str.strip()\n",
        "df[\"TypeName\"]=df[\"TypeName\"].str.strip()\n",
        "df[\"Inches\"]=df[\"Inches\"].str.strip()\n",
        "df[\"ScreenResolution\"]=df[\"ScreenResolution\"].str.strip()\n",
        "df[\"Cpu\"]=df[\"Cpu\"].str.strip()\n",
        "df[\"Ram\"]=df[\"Ram\"].str.strip()\n",
        "df[\"Memory\"]=df[\"Memory\"].str.strip()\n",
        "df[\"Gpu\"]=df[\"Gpu\"].str.strip()\n",
        "df[\"Weight\"]=df[\"Weight\"].str.strip()\n"
      ]
    },
    {
      "cell_type": "code",
      "execution_count": 95,
      "id": "61ff4bf6-11b2-4804-8953-48b8e9d970e3",
      "metadata": {
        "colab": {
          "base_uri": "https://localhost:8080/",
          "height": 206
        },
        "id": "61ff4bf6-11b2-4804-8953-48b8e9d970e3",
        "outputId": "35905276-c2f6-4214-fd19-b09ca870b589"
      },
      "outputs": [
        {
          "output_type": "execute_result",
          "data": {
            "text/plain": [
              "  Company   TypeName Inches                    ScreenResolution  \\\n",
              "0   Apple  Ultrabook   13.3  IPS Panel Retina Display 2560x1600   \n",
              "1   Apple  Ultrabook   13.3                            1440x900   \n",
              "2      HP   Notebook   15.6                   Full HD 1920x1080   \n",
              "3   Apple  Ultrabook   15.4  IPS Panel Retina Display 2880x1800   \n",
              "4   Apple  Ultrabook   13.3  IPS Panel Retina Display 2560x1600   \n",
              "\n",
              "                          Cpu   Ram               Memory  \\\n",
              "0        Intel Core i5 2.3GHz   8GB            128GB SSD   \n",
              "1        Intel Core i5 1.8GHz   8GB  128GB Flash Storage   \n",
              "2  Intel Core i5 7200U 2.5GHz   8GB            256GB SSD   \n",
              "3        Intel Core i7 2.7GHz  16GB            512GB SSD   \n",
              "4        Intel Core i5 3.1GHz   8GB            256GB SSD   \n",
              "\n",
              "                            Gpu  OpSys  Weight        Price     Pixels  \n",
              "0  Intel Iris Plus Graphics 640  macOS  1.37kg   71378.6832  2560x1600  \n",
              "1        Intel HD Graphics 6000  macOS  1.34kg   47895.5232   1440x900  \n",
              "2         Intel HD Graphics 620  No OS  1.86kg   30636.0000  1920x1080  \n",
              "3            AMD Radeon Pro 455  macOS  1.83kg  135195.3360  2880x1800  \n",
              "4  Intel Iris Plus Graphics 650  macOS  1.37kg   96095.8080  2560x1600  "
            ],
            "text/html": [
              "\n",
              "  <div id=\"df-0d0e5719-36c7-4431-82e2-fae9a16c4676\" class=\"colab-df-container\">\n",
              "    <div>\n",
              "<style scoped>\n",
              "    .dataframe tbody tr th:only-of-type {\n",
              "        vertical-align: middle;\n",
              "    }\n",
              "\n",
              "    .dataframe tbody tr th {\n",
              "        vertical-align: top;\n",
              "    }\n",
              "\n",
              "    .dataframe thead th {\n",
              "        text-align: right;\n",
              "    }\n",
              "</style>\n",
              "<table border=\"1\" class=\"dataframe\">\n",
              "  <thead>\n",
              "    <tr style=\"text-align: right;\">\n",
              "      <th></th>\n",
              "      <th>Company</th>\n",
              "      <th>TypeName</th>\n",
              "      <th>Inches</th>\n",
              "      <th>ScreenResolution</th>\n",
              "      <th>Cpu</th>\n",
              "      <th>Ram</th>\n",
              "      <th>Memory</th>\n",
              "      <th>Gpu</th>\n",
              "      <th>OpSys</th>\n",
              "      <th>Weight</th>\n",
              "      <th>Price</th>\n",
              "      <th>Pixels</th>\n",
              "    </tr>\n",
              "  </thead>\n",
              "  <tbody>\n",
              "    <tr>\n",
              "      <th>0</th>\n",
              "      <td>Apple</td>\n",
              "      <td>Ultrabook</td>\n",
              "      <td>13.3</td>\n",
              "      <td>IPS Panel Retina Display 2560x1600</td>\n",
              "      <td>Intel Core i5 2.3GHz</td>\n",
              "      <td>8GB</td>\n",
              "      <td>128GB SSD</td>\n",
              "      <td>Intel Iris Plus Graphics 640</td>\n",
              "      <td>macOS</td>\n",
              "      <td>1.37kg</td>\n",
              "      <td>71378.6832</td>\n",
              "      <td>2560x1600</td>\n",
              "    </tr>\n",
              "    <tr>\n",
              "      <th>1</th>\n",
              "      <td>Apple</td>\n",
              "      <td>Ultrabook</td>\n",
              "      <td>13.3</td>\n",
              "      <td>1440x900</td>\n",
              "      <td>Intel Core i5 1.8GHz</td>\n",
              "      <td>8GB</td>\n",
              "      <td>128GB Flash Storage</td>\n",
              "      <td>Intel HD Graphics 6000</td>\n",
              "      <td>macOS</td>\n",
              "      <td>1.34kg</td>\n",
              "      <td>47895.5232</td>\n",
              "      <td>1440x900</td>\n",
              "    </tr>\n",
              "    <tr>\n",
              "      <th>2</th>\n",
              "      <td>HP</td>\n",
              "      <td>Notebook</td>\n",
              "      <td>15.6</td>\n",
              "      <td>Full HD 1920x1080</td>\n",
              "      <td>Intel Core i5 7200U 2.5GHz</td>\n",
              "      <td>8GB</td>\n",
              "      <td>256GB SSD</td>\n",
              "      <td>Intel HD Graphics 620</td>\n",
              "      <td>No OS</td>\n",
              "      <td>1.86kg</td>\n",
              "      <td>30636.0000</td>\n",
              "      <td>1920x1080</td>\n",
              "    </tr>\n",
              "    <tr>\n",
              "      <th>3</th>\n",
              "      <td>Apple</td>\n",
              "      <td>Ultrabook</td>\n",
              "      <td>15.4</td>\n",
              "      <td>IPS Panel Retina Display 2880x1800</td>\n",
              "      <td>Intel Core i7 2.7GHz</td>\n",
              "      <td>16GB</td>\n",
              "      <td>512GB SSD</td>\n",
              "      <td>AMD Radeon Pro 455</td>\n",
              "      <td>macOS</td>\n",
              "      <td>1.83kg</td>\n",
              "      <td>135195.3360</td>\n",
              "      <td>2880x1800</td>\n",
              "    </tr>\n",
              "    <tr>\n",
              "      <th>4</th>\n",
              "      <td>Apple</td>\n",
              "      <td>Ultrabook</td>\n",
              "      <td>13.3</td>\n",
              "      <td>IPS Panel Retina Display 2560x1600</td>\n",
              "      <td>Intel Core i5 3.1GHz</td>\n",
              "      <td>8GB</td>\n",
              "      <td>256GB SSD</td>\n",
              "      <td>Intel Iris Plus Graphics 650</td>\n",
              "      <td>macOS</td>\n",
              "      <td>1.37kg</td>\n",
              "      <td>96095.8080</td>\n",
              "      <td>2560x1600</td>\n",
              "    </tr>\n",
              "  </tbody>\n",
              "</table>\n",
              "</div>\n",
              "    <div class=\"colab-df-buttons\">\n",
              "\n",
              "  <div class=\"colab-df-container\">\n",
              "    <button class=\"colab-df-convert\" onclick=\"convertToInteractive('df-0d0e5719-36c7-4431-82e2-fae9a16c4676')\"\n",
              "            title=\"Convert this dataframe to an interactive table.\"\n",
              "            style=\"display:none;\">\n",
              "\n",
              "  <svg xmlns=\"http://www.w3.org/2000/svg\" height=\"24px\" viewBox=\"0 -960 960 960\">\n",
              "    <path d=\"M120-120v-720h720v720H120Zm60-500h600v-160H180v160Zm220 220h160v-160H400v160Zm0 220h160v-160H400v160ZM180-400h160v-160H180v160Zm440 0h160v-160H620v160ZM180-180h160v-160H180v160Zm440 0h160v-160H620v160Z\"/>\n",
              "  </svg>\n",
              "    </button>\n",
              "\n",
              "  <style>\n",
              "    .colab-df-container {\n",
              "      display:flex;\n",
              "      gap: 12px;\n",
              "    }\n",
              "\n",
              "    .colab-df-convert {\n",
              "      background-color: #E8F0FE;\n",
              "      border: none;\n",
              "      border-radius: 50%;\n",
              "      cursor: pointer;\n",
              "      display: none;\n",
              "      fill: #1967D2;\n",
              "      height: 32px;\n",
              "      padding: 0 0 0 0;\n",
              "      width: 32px;\n",
              "    }\n",
              "\n",
              "    .colab-df-convert:hover {\n",
              "      background-color: #E2EBFA;\n",
              "      box-shadow: 0px 1px 2px rgba(60, 64, 67, 0.3), 0px 1px 3px 1px rgba(60, 64, 67, 0.15);\n",
              "      fill: #174EA6;\n",
              "    }\n",
              "\n",
              "    .colab-df-buttons div {\n",
              "      margin-bottom: 4px;\n",
              "    }\n",
              "\n",
              "    [theme=dark] .colab-df-convert {\n",
              "      background-color: #3B4455;\n",
              "      fill: #D2E3FC;\n",
              "    }\n",
              "\n",
              "    [theme=dark] .colab-df-convert:hover {\n",
              "      background-color: #434B5C;\n",
              "      box-shadow: 0px 1px 3px 1px rgba(0, 0, 0, 0.15);\n",
              "      filter: drop-shadow(0px 1px 2px rgba(0, 0, 0, 0.3));\n",
              "      fill: #FFFFFF;\n",
              "    }\n",
              "  </style>\n",
              "\n",
              "    <script>\n",
              "      const buttonEl =\n",
              "        document.querySelector('#df-0d0e5719-36c7-4431-82e2-fae9a16c4676 button.colab-df-convert');\n",
              "      buttonEl.style.display =\n",
              "        google.colab.kernel.accessAllowed ? 'block' : 'none';\n",
              "\n",
              "      async function convertToInteractive(key) {\n",
              "        const element = document.querySelector('#df-0d0e5719-36c7-4431-82e2-fae9a16c4676');\n",
              "        const dataTable =\n",
              "          await google.colab.kernel.invokeFunction('convertToInteractive',\n",
              "                                                    [key], {});\n",
              "        if (!dataTable) return;\n",
              "\n",
              "        const docLinkHtml = 'Like what you see? Visit the ' +\n",
              "          '<a target=\"_blank\" href=https://colab.research.google.com/notebooks/data_table.ipynb>data table notebook</a>'\n",
              "          + ' to learn more about interactive tables.';\n",
              "        element.innerHTML = '';\n",
              "        dataTable['output_type'] = 'display_data';\n",
              "        await google.colab.output.renderOutput(dataTable, element);\n",
              "        const docLink = document.createElement('div');\n",
              "        docLink.innerHTML = docLinkHtml;\n",
              "        element.appendChild(docLink);\n",
              "      }\n",
              "    </script>\n",
              "  </div>\n",
              "\n",
              "\n",
              "<div id=\"df-b16a1160-ebf4-4051-ade2-ca16ebe01cf4\">\n",
              "  <button class=\"colab-df-quickchart\" onclick=\"quickchart('df-b16a1160-ebf4-4051-ade2-ca16ebe01cf4')\"\n",
              "            title=\"Suggest charts\"\n",
              "            style=\"display:none;\">\n",
              "\n",
              "<svg xmlns=\"http://www.w3.org/2000/svg\" height=\"24px\"viewBox=\"0 0 24 24\"\n",
              "     width=\"24px\">\n",
              "    <g>\n",
              "        <path d=\"M19 3H5c-1.1 0-2 .9-2 2v14c0 1.1.9 2 2 2h14c1.1 0 2-.9 2-2V5c0-1.1-.9-2-2-2zM9 17H7v-7h2v7zm4 0h-2V7h2v10zm4 0h-2v-4h2v4z\"/>\n",
              "    </g>\n",
              "</svg>\n",
              "  </button>\n",
              "\n",
              "<style>\n",
              "  .colab-df-quickchart {\n",
              "      --bg-color: #E8F0FE;\n",
              "      --fill-color: #1967D2;\n",
              "      --hover-bg-color: #E2EBFA;\n",
              "      --hover-fill-color: #174EA6;\n",
              "      --disabled-fill-color: #AAA;\n",
              "      --disabled-bg-color: #DDD;\n",
              "  }\n",
              "\n",
              "  [theme=dark] .colab-df-quickchart {\n",
              "      --bg-color: #3B4455;\n",
              "      --fill-color: #D2E3FC;\n",
              "      --hover-bg-color: #434B5C;\n",
              "      --hover-fill-color: #FFFFFF;\n",
              "      --disabled-bg-color: #3B4455;\n",
              "      --disabled-fill-color: #666;\n",
              "  }\n",
              "\n",
              "  .colab-df-quickchart {\n",
              "    background-color: var(--bg-color);\n",
              "    border: none;\n",
              "    border-radius: 50%;\n",
              "    cursor: pointer;\n",
              "    display: none;\n",
              "    fill: var(--fill-color);\n",
              "    height: 32px;\n",
              "    padding: 0;\n",
              "    width: 32px;\n",
              "  }\n",
              "\n",
              "  .colab-df-quickchart:hover {\n",
              "    background-color: var(--hover-bg-color);\n",
              "    box-shadow: 0 1px 2px rgba(60, 64, 67, 0.3), 0 1px 3px 1px rgba(60, 64, 67, 0.15);\n",
              "    fill: var(--button-hover-fill-color);\n",
              "  }\n",
              "\n",
              "  .colab-df-quickchart-complete:disabled,\n",
              "  .colab-df-quickchart-complete:disabled:hover {\n",
              "    background-color: var(--disabled-bg-color);\n",
              "    fill: var(--disabled-fill-color);\n",
              "    box-shadow: none;\n",
              "  }\n",
              "\n",
              "  .colab-df-spinner {\n",
              "    border: 2px solid var(--fill-color);\n",
              "    border-color: transparent;\n",
              "    border-bottom-color: var(--fill-color);\n",
              "    animation:\n",
              "      spin 1s steps(1) infinite;\n",
              "  }\n",
              "\n",
              "  @keyframes spin {\n",
              "    0% {\n",
              "      border-color: transparent;\n",
              "      border-bottom-color: var(--fill-color);\n",
              "      border-left-color: var(--fill-color);\n",
              "    }\n",
              "    20% {\n",
              "      border-color: transparent;\n",
              "      border-left-color: var(--fill-color);\n",
              "      border-top-color: var(--fill-color);\n",
              "    }\n",
              "    30% {\n",
              "      border-color: transparent;\n",
              "      border-left-color: var(--fill-color);\n",
              "      border-top-color: var(--fill-color);\n",
              "      border-right-color: var(--fill-color);\n",
              "    }\n",
              "    40% {\n",
              "      border-color: transparent;\n",
              "      border-right-color: var(--fill-color);\n",
              "      border-top-color: var(--fill-color);\n",
              "    }\n",
              "    60% {\n",
              "      border-color: transparent;\n",
              "      border-right-color: var(--fill-color);\n",
              "    }\n",
              "    80% {\n",
              "      border-color: transparent;\n",
              "      border-right-color: var(--fill-color);\n",
              "      border-bottom-color: var(--fill-color);\n",
              "    }\n",
              "    90% {\n",
              "      border-color: transparent;\n",
              "      border-bottom-color: var(--fill-color);\n",
              "    }\n",
              "  }\n",
              "</style>\n",
              "\n",
              "  <script>\n",
              "    async function quickchart(key) {\n",
              "      const quickchartButtonEl =\n",
              "        document.querySelector('#' + key + ' button');\n",
              "      quickchartButtonEl.disabled = true;  // To prevent multiple clicks.\n",
              "      quickchartButtonEl.classList.add('colab-df-spinner');\n",
              "      try {\n",
              "        const charts = await google.colab.kernel.invokeFunction(\n",
              "            'suggestCharts', [key], {});\n",
              "      } catch (error) {\n",
              "        console.error('Error during call to suggestCharts:', error);\n",
              "      }\n",
              "      quickchartButtonEl.classList.remove('colab-df-spinner');\n",
              "      quickchartButtonEl.classList.add('colab-df-quickchart-complete');\n",
              "    }\n",
              "    (() => {\n",
              "      let quickchartButtonEl =\n",
              "        document.querySelector('#df-b16a1160-ebf4-4051-ade2-ca16ebe01cf4 button');\n",
              "      quickchartButtonEl.style.display =\n",
              "        google.colab.kernel.accessAllowed ? 'block' : 'none';\n",
              "    })();\n",
              "  </script>\n",
              "</div>\n",
              "\n",
              "    </div>\n",
              "  </div>\n"
            ],
            "application/vnd.google.colaboratory.intrinsic+json": {
              "type": "dataframe",
              "variable_name": "df",
              "summary": "{\n  \"name\": \"df\",\n  \"rows\": 1273,\n  \"fields\": [\n    {\n      \"column\": \"Company\",\n      \"properties\": {\n        \"dtype\": \"category\",\n        \"num_unique_values\": 19,\n        \"samples\": [\n          \"Apple\",\n          \"Lenovo\",\n          \"Xiaomi\"\n        ],\n        \"semantic_type\": \"\",\n        \"description\": \"\"\n      }\n    },\n    {\n      \"column\": \"TypeName\",\n      \"properties\": {\n        \"dtype\": \"category\",\n        \"num_unique_values\": 6,\n        \"samples\": [\n          \"Ultrabook\",\n          \"Notebook\",\n          \"Netbook\"\n        ],\n        \"semantic_type\": \"\",\n        \"description\": \"\"\n      }\n    },\n    {\n      \"column\": \"Inches\",\n      \"properties\": {\n        \"dtype\": \"category\",\n        \"num_unique_values\": 25,\n        \"samples\": [\n          \"13\",\n          \"24\",\n          \"13.3\"\n        ],\n        \"semantic_type\": \"\",\n        \"description\": \"\"\n      }\n    },\n    {\n      \"column\": \"ScreenResolution\",\n      \"properties\": {\n        \"dtype\": \"category\",\n        \"num_unique_values\": 40,\n        \"samples\": [\n          \"Touchscreen 1366x768\",\n          \"1600x900\",\n          \"4K Ultra HD / Touchscreen 3840x2160\"\n        ],\n        \"semantic_type\": \"\",\n        \"description\": \"\"\n      }\n    },\n    {\n      \"column\": \"Cpu\",\n      \"properties\": {\n        \"dtype\": \"category\",\n        \"num_unique_values\": 118,\n        \"samples\": [\n          \"AMD A12-Series 9720P 2.7GHz\",\n          \"Intel Atom Z8350 1.92GHz\",\n          \"Intel Core i5 3.1GHz\"\n        ],\n        \"semantic_type\": \"\",\n        \"description\": \"\"\n      }\n    },\n    {\n      \"column\": \"Ram\",\n      \"properties\": {\n        \"dtype\": \"category\",\n        \"num_unique_values\": 10,\n        \"samples\": [\n          \"24GB\",\n          \"16GB\",\n          \"64GB\"\n        ],\n        \"semantic_type\": \"\",\n        \"description\": \"\"\n      }\n    },\n    {\n      \"column\": \"Memory\",\n      \"properties\": {\n        \"dtype\": \"category\",\n        \"num_unique_values\": 40,\n        \"samples\": [\n          \"256GB SSD +  500GB HDD\",\n          \"1.0TB Hybrid\",\n          \"64GB SSD\"\n        ],\n        \"semantic_type\": \"\",\n        \"description\": \"\"\n      }\n    },\n    {\n      \"column\": \"Gpu\",\n      \"properties\": {\n        \"dtype\": \"category\",\n        \"num_unique_values\": 106,\n        \"samples\": [\n          \"AMD Radeon R5 M315\",\n          \"AMD Radeon Pro 555\",\n          \"Intel Iris Plus Graphics 650\"\n        ],\n        \"semantic_type\": \"\",\n        \"description\": \"\"\n      }\n    },\n    {\n      \"column\": \"OpSys\",\n      \"properties\": {\n        \"dtype\": \"category\",\n        \"num_unique_values\": 9,\n        \"samples\": [\n          \"Windows 7\",\n          \"No OS\",\n          \"Windows 10 S\"\n        ],\n        \"semantic_type\": \"\",\n        \"description\": \"\"\n      }\n    },\n    {\n      \"column\": \"Weight\",\n      \"properties\": {\n        \"dtype\": \"category\",\n        \"num_unique_values\": 189,\n        \"samples\": [\n          \"2.21kg\",\n          \"3.74kg\",\n          \"1.65kg\"\n        ],\n        \"semantic_type\": \"\",\n        \"description\": \"\"\n      }\n    },\n    {\n      \"column\": \"Price\",\n      \"properties\": {\n        \"dtype\": \"number\",\n        \"std\": 37332.251004569844,\n        \"min\": 9270.72,\n        \"max\": 324954.72,\n        \"num_unique_values\": 777,\n        \"samples\": [\n          68464.8,\n          71341.92,\n          77788.8\n        ],\n        \"semantic_type\": \"\",\n        \"description\": \"\"\n      }\n    },\n    {\n      \"column\": \"Pixels\",\n      \"properties\": {\n        \"dtype\": \"category\",\n        \"num_unique_values\": 15,\n        \"samples\": [\n          \"2160x1440\",\n          \"2560x1440\",\n          \"2560x1600\"\n        ],\n        \"semantic_type\": \"\",\n        \"description\": \"\"\n      }\n    }\n  ]\n}"
            }
          },
          "metadata": {},
          "execution_count": 95
        }
      ],
      "source": [
        "# Extracting pixel resolution information from the 'ScreenResolution' column\n",
        "df[\"Pixels\"]=df[\"ScreenResolution\"].str.extract(r'(\\d+x\\d+)')\n",
        "\n",
        "# Displaying the first few rows of the DataFrame to verify the extraction\n",
        "df.head()"
      ]
    },
    {
      "cell_type": "code",
      "execution_count": 96,
      "id": "7438047c-ce69-4e3e-98ed-998db1a43bbf",
      "metadata": {
        "id": "7438047c-ce69-4e3e-98ed-998db1a43bbf"
      },
      "outputs": [],
      "source": [
        "# Creating a new column 'Touchscreen' to indicate whether a laptop has a touchscreen\n",
        "df['Touchscreen'] = df['ScreenResolution'].apply(lambda x:1 if 'Touchscreen' in x else 0)"
      ]
    },
    {
      "cell_type": "code",
      "source": [
        "# Creating a new column 'Ips' to indicate whether a laptop has a touchscreen\n",
        "df['Ips'] = df['ScreenResolution'].apply(lambda x:1 if 'IPS' in x else 0)"
      ],
      "metadata": {
        "id": "j0CAyBTZwDoG"
      },
      "id": "j0CAyBTZwDoG",
      "execution_count": 97,
      "outputs": []
    },
    {
      "cell_type": "code",
      "execution_count": 98,
      "id": "d120d8fe-5725-49d1-ac08-95d029f4d2ba",
      "metadata": {
        "id": "d120d8fe-5725-49d1-ac08-95d029f4d2ba"
      },
      "outputs": [],
      "source": [
        "# Replacing the 'x' character with a space in the 'Pixels' column\n",
        "df[\"Pixels\"]=df[\"Pixels\"].str.replace(\"x\",\" \")\n",
        "\n",
        "# Splitting the 'Pixels' column into 'Length' and 'Breadth' columns\n",
        "df[\"Length\"]=df[\"Pixels\"].str.split().str[0].astype(int)\n",
        "df[\"Breadth\"]=df[\"Pixels\"].str.split().str[1].astype(int)"
      ]
    },
    {
      "cell_type": "code",
      "execution_count": 99,
      "id": "OjcqwwumTMU6",
      "metadata": {
        "id": "OjcqwwumTMU6"
      },
      "outputs": [],
      "source": [
        "# Replacing any '?' characters in the 'Inches' column with the mode of the column and Converting it to float type\n",
        "df[\"Inches\"]=df[\"Inches\"].replace(\"?\",df[\"Inches\"].mode()[0]).astype(float)"
      ]
    },
    {
      "cell_type": "code",
      "execution_count": 100,
      "id": "d58bc8d3-8c2e-43b3-95fe-e0ac61a24765",
      "metadata": {
        "colab": {
          "base_uri": "https://localhost:8080/",
          "height": 414
        },
        "id": "d58bc8d3-8c2e-43b3-95fe-e0ac61a24765",
        "outputId": "5f44b459-e6a7-49ce-9507-c691ef1cf64e"
      },
      "outputs": [
        {
          "output_type": "execute_result",
          "data": {
            "text/plain": [
              "     Company            TypeName  Inches  \\\n",
              "1298  Lenovo  2 in 1 Convertible    14.0   \n",
              "1299  Lenovo  2 in 1 Convertible    13.3   \n",
              "1300  Lenovo            Notebook    14.0   \n",
              "1301      HP            Notebook    15.6   \n",
              "1302    Asus            Notebook    15.6   \n",
              "\n",
              "                                ScreenResolution  \\\n",
              "1298   IPS Panel Full HD / Touchscreen 1920x1080   \n",
              "1299  IPS Panel Quad HD+ / Touchscreen 3200x1800   \n",
              "1300                                    1366x768   \n",
              "1301                                    1366x768   \n",
              "1302                                    1366x768   \n",
              "\n",
              "                                       Cpu   Ram              Memory  \\\n",
              "1298            Intel Core i7 6500U 2.5GHz   4GB           128GB SSD   \n",
              "1299            Intel Core i7 6500U 2.5GHz  16GB           512GB SSD   \n",
              "1300  Intel Celeron Dual Core N3050 1.6GHz   2GB  64GB Flash Storage   \n",
              "1301            Intel Core i7 6500U 2.5GHz   6GB             1TB HDD   \n",
              "1302  Intel Celeron Dual Core N3050 1.6GHz   4GB           500GB HDD   \n",
              "\n",
              "                        Gpu       OpSys  Weight     Price     Pixels  \\\n",
              "1298  Intel HD Graphics 520  Windows 10   1.8kg  33992.64  1920 1080   \n",
              "1299  Intel HD Graphics 520  Windows 10   1.3kg  79866.72  3200 1800   \n",
              "1300      Intel HD Graphics  Windows 10   1.5kg  12201.12   1366 768   \n",
              "1301     AMD Radeon R5 M330  Windows 10  2.19kg  40705.92   1366 768   \n",
              "1302      Intel HD Graphics  Windows 10   2.2kg  19660.32   1366 768   \n",
              "\n",
              "      Touchscreen  Ips  Length  Breadth     PPI  \n",
              "1298            1    1    1920     1080  157.35  \n",
              "1299            1    1    3200     1800  276.05  \n",
              "1300            0    0    1366      768  111.94  \n",
              "1301            0    0    1366      768  100.45  \n",
              "1302            0    0    1366      768  100.45  "
            ],
            "text/html": [
              "\n",
              "  <div id=\"df-f020271d-dfa9-4db6-b2d7-fcae44cff64c\" class=\"colab-df-container\">\n",
              "    <div>\n",
              "<style scoped>\n",
              "    .dataframe tbody tr th:only-of-type {\n",
              "        vertical-align: middle;\n",
              "    }\n",
              "\n",
              "    .dataframe tbody tr th {\n",
              "        vertical-align: top;\n",
              "    }\n",
              "\n",
              "    .dataframe thead th {\n",
              "        text-align: right;\n",
              "    }\n",
              "</style>\n",
              "<table border=\"1\" class=\"dataframe\">\n",
              "  <thead>\n",
              "    <tr style=\"text-align: right;\">\n",
              "      <th></th>\n",
              "      <th>Company</th>\n",
              "      <th>TypeName</th>\n",
              "      <th>Inches</th>\n",
              "      <th>ScreenResolution</th>\n",
              "      <th>Cpu</th>\n",
              "      <th>Ram</th>\n",
              "      <th>Memory</th>\n",
              "      <th>Gpu</th>\n",
              "      <th>OpSys</th>\n",
              "      <th>Weight</th>\n",
              "      <th>Price</th>\n",
              "      <th>Pixels</th>\n",
              "      <th>Touchscreen</th>\n",
              "      <th>Ips</th>\n",
              "      <th>Length</th>\n",
              "      <th>Breadth</th>\n",
              "      <th>PPI</th>\n",
              "    </tr>\n",
              "  </thead>\n",
              "  <tbody>\n",
              "    <tr>\n",
              "      <th>1298</th>\n",
              "      <td>Lenovo</td>\n",
              "      <td>2 in 1 Convertible</td>\n",
              "      <td>14.0</td>\n",
              "      <td>IPS Panel Full HD / Touchscreen 1920x1080</td>\n",
              "      <td>Intel Core i7 6500U 2.5GHz</td>\n",
              "      <td>4GB</td>\n",
              "      <td>128GB SSD</td>\n",
              "      <td>Intel HD Graphics 520</td>\n",
              "      <td>Windows 10</td>\n",
              "      <td>1.8kg</td>\n",
              "      <td>33992.64</td>\n",
              "      <td>1920 1080</td>\n",
              "      <td>1</td>\n",
              "      <td>1</td>\n",
              "      <td>1920</td>\n",
              "      <td>1080</td>\n",
              "      <td>157.35</td>\n",
              "    </tr>\n",
              "    <tr>\n",
              "      <th>1299</th>\n",
              "      <td>Lenovo</td>\n",
              "      <td>2 in 1 Convertible</td>\n",
              "      <td>13.3</td>\n",
              "      <td>IPS Panel Quad HD+ / Touchscreen 3200x1800</td>\n",
              "      <td>Intel Core i7 6500U 2.5GHz</td>\n",
              "      <td>16GB</td>\n",
              "      <td>512GB SSD</td>\n",
              "      <td>Intel HD Graphics 520</td>\n",
              "      <td>Windows 10</td>\n",
              "      <td>1.3kg</td>\n",
              "      <td>79866.72</td>\n",
              "      <td>3200 1800</td>\n",
              "      <td>1</td>\n",
              "      <td>1</td>\n",
              "      <td>3200</td>\n",
              "      <td>1800</td>\n",
              "      <td>276.05</td>\n",
              "    </tr>\n",
              "    <tr>\n",
              "      <th>1300</th>\n",
              "      <td>Lenovo</td>\n",
              "      <td>Notebook</td>\n",
              "      <td>14.0</td>\n",
              "      <td>1366x768</td>\n",
              "      <td>Intel Celeron Dual Core N3050 1.6GHz</td>\n",
              "      <td>2GB</td>\n",
              "      <td>64GB Flash Storage</td>\n",
              "      <td>Intel HD Graphics</td>\n",
              "      <td>Windows 10</td>\n",
              "      <td>1.5kg</td>\n",
              "      <td>12201.12</td>\n",
              "      <td>1366 768</td>\n",
              "      <td>0</td>\n",
              "      <td>0</td>\n",
              "      <td>1366</td>\n",
              "      <td>768</td>\n",
              "      <td>111.94</td>\n",
              "    </tr>\n",
              "    <tr>\n",
              "      <th>1301</th>\n",
              "      <td>HP</td>\n",
              "      <td>Notebook</td>\n",
              "      <td>15.6</td>\n",
              "      <td>1366x768</td>\n",
              "      <td>Intel Core i7 6500U 2.5GHz</td>\n",
              "      <td>6GB</td>\n",
              "      <td>1TB HDD</td>\n",
              "      <td>AMD Radeon R5 M330</td>\n",
              "      <td>Windows 10</td>\n",
              "      <td>2.19kg</td>\n",
              "      <td>40705.92</td>\n",
              "      <td>1366 768</td>\n",
              "      <td>0</td>\n",
              "      <td>0</td>\n",
              "      <td>1366</td>\n",
              "      <td>768</td>\n",
              "      <td>100.45</td>\n",
              "    </tr>\n",
              "    <tr>\n",
              "      <th>1302</th>\n",
              "      <td>Asus</td>\n",
              "      <td>Notebook</td>\n",
              "      <td>15.6</td>\n",
              "      <td>1366x768</td>\n",
              "      <td>Intel Celeron Dual Core N3050 1.6GHz</td>\n",
              "      <td>4GB</td>\n",
              "      <td>500GB HDD</td>\n",
              "      <td>Intel HD Graphics</td>\n",
              "      <td>Windows 10</td>\n",
              "      <td>2.2kg</td>\n",
              "      <td>19660.32</td>\n",
              "      <td>1366 768</td>\n",
              "      <td>0</td>\n",
              "      <td>0</td>\n",
              "      <td>1366</td>\n",
              "      <td>768</td>\n",
              "      <td>100.45</td>\n",
              "    </tr>\n",
              "  </tbody>\n",
              "</table>\n",
              "</div>\n",
              "    <div class=\"colab-df-buttons\">\n",
              "\n",
              "  <div class=\"colab-df-container\">\n",
              "    <button class=\"colab-df-convert\" onclick=\"convertToInteractive('df-f020271d-dfa9-4db6-b2d7-fcae44cff64c')\"\n",
              "            title=\"Convert this dataframe to an interactive table.\"\n",
              "            style=\"display:none;\">\n",
              "\n",
              "  <svg xmlns=\"http://www.w3.org/2000/svg\" height=\"24px\" viewBox=\"0 -960 960 960\">\n",
              "    <path d=\"M120-120v-720h720v720H120Zm60-500h600v-160H180v160Zm220 220h160v-160H400v160Zm0 220h160v-160H400v160ZM180-400h160v-160H180v160Zm440 0h160v-160H620v160ZM180-180h160v-160H180v160Zm440 0h160v-160H620v160Z\"/>\n",
              "  </svg>\n",
              "    </button>\n",
              "\n",
              "  <style>\n",
              "    .colab-df-container {\n",
              "      display:flex;\n",
              "      gap: 12px;\n",
              "    }\n",
              "\n",
              "    .colab-df-convert {\n",
              "      background-color: #E8F0FE;\n",
              "      border: none;\n",
              "      border-radius: 50%;\n",
              "      cursor: pointer;\n",
              "      display: none;\n",
              "      fill: #1967D2;\n",
              "      height: 32px;\n",
              "      padding: 0 0 0 0;\n",
              "      width: 32px;\n",
              "    }\n",
              "\n",
              "    .colab-df-convert:hover {\n",
              "      background-color: #E2EBFA;\n",
              "      box-shadow: 0px 1px 2px rgba(60, 64, 67, 0.3), 0px 1px 3px 1px rgba(60, 64, 67, 0.15);\n",
              "      fill: #174EA6;\n",
              "    }\n",
              "\n",
              "    .colab-df-buttons div {\n",
              "      margin-bottom: 4px;\n",
              "    }\n",
              "\n",
              "    [theme=dark] .colab-df-convert {\n",
              "      background-color: #3B4455;\n",
              "      fill: #D2E3FC;\n",
              "    }\n",
              "\n",
              "    [theme=dark] .colab-df-convert:hover {\n",
              "      background-color: #434B5C;\n",
              "      box-shadow: 0px 1px 3px 1px rgba(0, 0, 0, 0.15);\n",
              "      filter: drop-shadow(0px 1px 2px rgba(0, 0, 0, 0.3));\n",
              "      fill: #FFFFFF;\n",
              "    }\n",
              "  </style>\n",
              "\n",
              "    <script>\n",
              "      const buttonEl =\n",
              "        document.querySelector('#df-f020271d-dfa9-4db6-b2d7-fcae44cff64c button.colab-df-convert');\n",
              "      buttonEl.style.display =\n",
              "        google.colab.kernel.accessAllowed ? 'block' : 'none';\n",
              "\n",
              "      async function convertToInteractive(key) {\n",
              "        const element = document.querySelector('#df-f020271d-dfa9-4db6-b2d7-fcae44cff64c');\n",
              "        const dataTable =\n",
              "          await google.colab.kernel.invokeFunction('convertToInteractive',\n",
              "                                                    [key], {});\n",
              "        if (!dataTable) return;\n",
              "\n",
              "        const docLinkHtml = 'Like what you see? Visit the ' +\n",
              "          '<a target=\"_blank\" href=https://colab.research.google.com/notebooks/data_table.ipynb>data table notebook</a>'\n",
              "          + ' to learn more about interactive tables.';\n",
              "        element.innerHTML = '';\n",
              "        dataTable['output_type'] = 'display_data';\n",
              "        await google.colab.output.renderOutput(dataTable, element);\n",
              "        const docLink = document.createElement('div');\n",
              "        docLink.innerHTML = docLinkHtml;\n",
              "        element.appendChild(docLink);\n",
              "      }\n",
              "    </script>\n",
              "  </div>\n",
              "\n",
              "\n",
              "<div id=\"df-05fb8e58-0a8c-4b75-87e4-169cd54e82d5\">\n",
              "  <button class=\"colab-df-quickchart\" onclick=\"quickchart('df-05fb8e58-0a8c-4b75-87e4-169cd54e82d5')\"\n",
              "            title=\"Suggest charts\"\n",
              "            style=\"display:none;\">\n",
              "\n",
              "<svg xmlns=\"http://www.w3.org/2000/svg\" height=\"24px\"viewBox=\"0 0 24 24\"\n",
              "     width=\"24px\">\n",
              "    <g>\n",
              "        <path d=\"M19 3H5c-1.1 0-2 .9-2 2v14c0 1.1.9 2 2 2h14c1.1 0 2-.9 2-2V5c0-1.1-.9-2-2-2zM9 17H7v-7h2v7zm4 0h-2V7h2v10zm4 0h-2v-4h2v4z\"/>\n",
              "    </g>\n",
              "</svg>\n",
              "  </button>\n",
              "\n",
              "<style>\n",
              "  .colab-df-quickchart {\n",
              "      --bg-color: #E8F0FE;\n",
              "      --fill-color: #1967D2;\n",
              "      --hover-bg-color: #E2EBFA;\n",
              "      --hover-fill-color: #174EA6;\n",
              "      --disabled-fill-color: #AAA;\n",
              "      --disabled-bg-color: #DDD;\n",
              "  }\n",
              "\n",
              "  [theme=dark] .colab-df-quickchart {\n",
              "      --bg-color: #3B4455;\n",
              "      --fill-color: #D2E3FC;\n",
              "      --hover-bg-color: #434B5C;\n",
              "      --hover-fill-color: #FFFFFF;\n",
              "      --disabled-bg-color: #3B4455;\n",
              "      --disabled-fill-color: #666;\n",
              "  }\n",
              "\n",
              "  .colab-df-quickchart {\n",
              "    background-color: var(--bg-color);\n",
              "    border: none;\n",
              "    border-radius: 50%;\n",
              "    cursor: pointer;\n",
              "    display: none;\n",
              "    fill: var(--fill-color);\n",
              "    height: 32px;\n",
              "    padding: 0;\n",
              "    width: 32px;\n",
              "  }\n",
              "\n",
              "  .colab-df-quickchart:hover {\n",
              "    background-color: var(--hover-bg-color);\n",
              "    box-shadow: 0 1px 2px rgba(60, 64, 67, 0.3), 0 1px 3px 1px rgba(60, 64, 67, 0.15);\n",
              "    fill: var(--button-hover-fill-color);\n",
              "  }\n",
              "\n",
              "  .colab-df-quickchart-complete:disabled,\n",
              "  .colab-df-quickchart-complete:disabled:hover {\n",
              "    background-color: var(--disabled-bg-color);\n",
              "    fill: var(--disabled-fill-color);\n",
              "    box-shadow: none;\n",
              "  }\n",
              "\n",
              "  .colab-df-spinner {\n",
              "    border: 2px solid var(--fill-color);\n",
              "    border-color: transparent;\n",
              "    border-bottom-color: var(--fill-color);\n",
              "    animation:\n",
              "      spin 1s steps(1) infinite;\n",
              "  }\n",
              "\n",
              "  @keyframes spin {\n",
              "    0% {\n",
              "      border-color: transparent;\n",
              "      border-bottom-color: var(--fill-color);\n",
              "      border-left-color: var(--fill-color);\n",
              "    }\n",
              "    20% {\n",
              "      border-color: transparent;\n",
              "      border-left-color: var(--fill-color);\n",
              "      border-top-color: var(--fill-color);\n",
              "    }\n",
              "    30% {\n",
              "      border-color: transparent;\n",
              "      border-left-color: var(--fill-color);\n",
              "      border-top-color: var(--fill-color);\n",
              "      border-right-color: var(--fill-color);\n",
              "    }\n",
              "    40% {\n",
              "      border-color: transparent;\n",
              "      border-right-color: var(--fill-color);\n",
              "      border-top-color: var(--fill-color);\n",
              "    }\n",
              "    60% {\n",
              "      border-color: transparent;\n",
              "      border-right-color: var(--fill-color);\n",
              "    }\n",
              "    80% {\n",
              "      border-color: transparent;\n",
              "      border-right-color: var(--fill-color);\n",
              "      border-bottom-color: var(--fill-color);\n",
              "    }\n",
              "    90% {\n",
              "      border-color: transparent;\n",
              "      border-bottom-color: var(--fill-color);\n",
              "    }\n",
              "  }\n",
              "</style>\n",
              "\n",
              "  <script>\n",
              "    async function quickchart(key) {\n",
              "      const quickchartButtonEl =\n",
              "        document.querySelector('#' + key + ' button');\n",
              "      quickchartButtonEl.disabled = true;  // To prevent multiple clicks.\n",
              "      quickchartButtonEl.classList.add('colab-df-spinner');\n",
              "      try {\n",
              "        const charts = await google.colab.kernel.invokeFunction(\n",
              "            'suggestCharts', [key], {});\n",
              "      } catch (error) {\n",
              "        console.error('Error during call to suggestCharts:', error);\n",
              "      }\n",
              "      quickchartButtonEl.classList.remove('colab-df-spinner');\n",
              "      quickchartButtonEl.classList.add('colab-df-quickchart-complete');\n",
              "    }\n",
              "    (() => {\n",
              "      let quickchartButtonEl =\n",
              "        document.querySelector('#df-05fb8e58-0a8c-4b75-87e4-169cd54e82d5 button');\n",
              "      quickchartButtonEl.style.display =\n",
              "        google.colab.kernel.accessAllowed ? 'block' : 'none';\n",
              "    })();\n",
              "  </script>\n",
              "</div>\n",
              "\n",
              "    </div>\n",
              "  </div>\n"
            ],
            "application/vnd.google.colaboratory.intrinsic+json": {
              "type": "dataframe",
              "summary": "{\n  \"name\": \"df\",\n  \"rows\": 5,\n  \"fields\": [\n    {\n      \"column\": \"Company\",\n      \"properties\": {\n        \"dtype\": \"string\",\n        \"num_unique_values\": 3,\n        \"samples\": [\n          \"Lenovo\",\n          \"HP\",\n          \"Asus\"\n        ],\n        \"semantic_type\": \"\",\n        \"description\": \"\"\n      }\n    },\n    {\n      \"column\": \"TypeName\",\n      \"properties\": {\n        \"dtype\": \"category\",\n        \"num_unique_values\": 2,\n        \"samples\": [\n          \"Notebook\",\n          \"2 in 1 Convertible\"\n        ],\n        \"semantic_type\": \"\",\n        \"description\": \"\"\n      }\n    },\n    {\n      \"column\": \"Inches\",\n      \"properties\": {\n        \"dtype\": \"number\",\n        \"std\": 1.0440306508910546,\n        \"min\": 13.3,\n        \"max\": 15.6,\n        \"num_unique_values\": 3,\n        \"samples\": [\n          14.0,\n          13.3\n        ],\n        \"semantic_type\": \"\",\n        \"description\": \"\"\n      }\n    },\n    {\n      \"column\": \"ScreenResolution\",\n      \"properties\": {\n        \"dtype\": \"string\",\n        \"num_unique_values\": 3,\n        \"samples\": [\n          \"IPS Panel Full HD / Touchscreen 1920x1080\",\n          \"IPS Panel Quad HD+ / Touchscreen 3200x1800\"\n        ],\n        \"semantic_type\": \"\",\n        \"description\": \"\"\n      }\n    },\n    {\n      \"column\": \"Cpu\",\n      \"properties\": {\n        \"dtype\": \"category\",\n        \"num_unique_values\": 2,\n        \"samples\": [\n          \"Intel Celeron Dual Core N3050 1.6GHz\",\n          \"Intel Core i7 6500U 2.5GHz\"\n        ],\n        \"semantic_type\": \"\",\n        \"description\": \"\"\n      }\n    },\n    {\n      \"column\": \"Ram\",\n      \"properties\": {\n        \"dtype\": \"string\",\n        \"num_unique_values\": 4,\n        \"samples\": [\n          \"16GB\",\n          \"6GB\"\n        ],\n        \"semantic_type\": \"\",\n        \"description\": \"\"\n      }\n    },\n    {\n      \"column\": \"Memory\",\n      \"properties\": {\n        \"dtype\": \"string\",\n        \"num_unique_values\": 5,\n        \"samples\": [\n          \"512GB SSD\",\n          \"500GB HDD\"\n        ],\n        \"semantic_type\": \"\",\n        \"description\": \"\"\n      }\n    },\n    {\n      \"column\": \"Gpu\",\n      \"properties\": {\n        \"dtype\": \"string\",\n        \"num_unique_values\": 3,\n        \"samples\": [\n          \"Intel HD Graphics 520\",\n          \"Intel HD Graphics\"\n        ],\n        \"semantic_type\": \"\",\n        \"description\": \"\"\n      }\n    },\n    {\n      \"column\": \"OpSys\",\n      \"properties\": {\n        \"dtype\": \"category\",\n        \"num_unique_values\": 1,\n        \"samples\": [\n          \"Windows 10\"\n        ],\n        \"semantic_type\": \"\",\n        \"description\": \"\"\n      }\n    },\n    {\n      \"column\": \"Weight\",\n      \"properties\": {\n        \"dtype\": \"string\",\n        \"num_unique_values\": 5,\n        \"samples\": [\n          \"1.3kg\"\n        ],\n        \"semantic_type\": \"\",\n        \"description\": \"\"\n      }\n    },\n    {\n      \"column\": \"Price\",\n      \"properties\": {\n        \"dtype\": \"number\",\n        \"std\": 26341.86585333089,\n        \"min\": 12201.12,\n        \"max\": 79866.72,\n        \"num_unique_values\": 5,\n        \"samples\": [\n          79866.72\n        ],\n        \"semantic_type\": \"\",\n        \"description\": \"\"\n      }\n    },\n    {\n      \"column\": \"Pixels\",\n      \"properties\": {\n        \"dtype\": \"string\",\n        \"num_unique_values\": 3,\n        \"samples\": [\n          \"1920 1080\"\n        ],\n        \"semantic_type\": \"\",\n        \"description\": \"\"\n      }\n    },\n    {\n      \"column\": \"Touchscreen\",\n      \"properties\": {\n        \"dtype\": \"number\",\n        \"std\": 0,\n        \"min\": 0,\n        \"max\": 1,\n        \"num_unique_values\": 2,\n        \"samples\": [\n          0\n        ],\n        \"semantic_type\": \"\",\n        \"description\": \"\"\n      }\n    },\n    {\n      \"column\": \"Ips\",\n      \"properties\": {\n        \"dtype\": \"number\",\n        \"std\": 0,\n        \"min\": 0,\n        \"max\": 1,\n        \"num_unique_values\": 2,\n        \"samples\": [\n          0\n        ],\n        \"semantic_type\": \"\",\n        \"description\": \"\"\n      }\n    },\n    {\n      \"column\": \"Length\",\n      \"properties\": {\n        \"dtype\": \"number\",\n        \"std\": 795,\n        \"min\": 1366,\n        \"max\": 3200,\n        \"num_unique_values\": 3,\n        \"samples\": [\n          1920\n        ],\n        \"semantic_type\": \"\",\n        \"description\": \"\"\n      }\n    },\n    {\n      \"column\": \"Breadth\",\n      \"properties\": {\n        \"dtype\": \"number\",\n        \"std\": 447,\n        \"min\": 768,\n        \"max\": 1800,\n        \"num_unique_values\": 3,\n        \"samples\": [\n          1080\n        ],\n        \"semantic_type\": \"\",\n        \"description\": \"\"\n      }\n    },\n    {\n      \"column\": \"PPI\",\n      \"properties\": {\n        \"dtype\": \"number\",\n        \"std\": 74.66385685189321,\n        \"min\": 100.45,\n        \"max\": 276.05,\n        \"num_unique_values\": 4,\n        \"samples\": [\n          276.05\n        ],\n        \"semantic_type\": \"\",\n        \"description\": \"\"\n      }\n    }\n  ]\n}"
            }
          },
          "metadata": {},
          "execution_count": 100
        }
      ],
      "source": [
        "# Calculating the Pixel Per Inch (PPI) for each laptop\n",
        "df[\"PPI\"]=round((np.sqrt(df[\"Length\"]**2+df[\"Breadth\"]**2))/df[\"Inches\"],2)\n",
        "\n",
        "# Displaying the last few rows of the DataFrame to verify the calculations\n",
        "df.tail()"
      ]
    },
    {
      "cell_type": "code",
      "source": [
        "# Counting the occurrences of each unique value in the 'Cpu' column\n",
        "df[\"Cpu\"].value_counts()"
      ],
      "metadata": {
        "colab": {
          "base_uri": "https://localhost:8080/"
        },
        "id": "3gK1IpHLyaIR",
        "outputId": "14d75da5-e1be-46fe-efbc-ceb83eacb7fb"
      },
      "id": "3gK1IpHLyaIR",
      "execution_count": 101,
      "outputs": [
        {
          "output_type": "execute_result",
          "data": {
            "text/plain": [
              "Cpu\n",
              "Intel Core i5 7200U 2.5GHz     183\n",
              "Intel Core i7 7700HQ 2.8GHz    142\n",
              "Intel Core i7 7500U 2.7GHz     128\n",
              "Intel Core i7 8550U 1.8GHz      72\n",
              "Intel Core i5 8250U 1.6GHz      68\n",
              "                              ... \n",
              "AMD A9-Series 9420 2.9GHz        1\n",
              "Intel Core i7 2.2GHz             1\n",
              "AMD A6-Series 7310 2GHz          1\n",
              "Intel Atom Z8350 1.92GHz         1\n",
              "AMD E-Series 9000e 1.5GHz        1\n",
              "Name: count, Length: 118, dtype: int64"
            ]
          },
          "metadata": {},
          "execution_count": 101
        }
      ]
    },
    {
      "cell_type": "code",
      "execution_count": 102,
      "id": "275184ee-4eb6-4e2c-9b17-fca076365b18",
      "metadata": {
        "colab": {
          "base_uri": "https://localhost:8080/"
        },
        "id": "275184ee-4eb6-4e2c-9b17-fca076365b18",
        "outputId": "04e9b2e0-249d-45d3-c469-6b2b470970d9"
      },
      "outputs": [
        {
          "output_type": "execute_result",
          "data": {
            "text/plain": [
              "Cpu_Processor\n",
              "Intel Core i7               515\n",
              "Intel Core i5               410\n",
              "Intel Core i3               134\n",
              "Intel Celeron Dual           79\n",
              "Intel Pentium Quad           27\n",
              "Intel Core M                 19\n",
              "AMD A9-Series 9420           12\n",
              "Intel Celeron Quad            8\n",
              "AMD A6-Series 9220            8\n",
              "AMD A12-Series 9720P          7\n",
              "AMD A8-Series 7410            4\n",
              "Intel Atom x5-Z8350           4\n",
              "AMD Ryzen 1700                3\n",
              "Intel Atom x5-Z8550           3\n",
              "Intel Pentium Dual            3\n",
              "AMD A9-Series 9410            3\n",
              "AMD A10-Series A10-9620P      2\n",
              "Intel Xeon E3-1505M           2\n",
              "Intel Atom X5-Z8350           2\n",
              "AMD A6-Series A6-9220         2\n",
              "Intel Xeon E3-1535M           2\n",
              "AMD A9-Series A9-9420         2\n",
              "AMD A10-Series 9620P          2\n",
              "AMD E-Series 7110             2\n",
              "AMD E-Series E2-9000e         2\n",
              "AMD A10-Series 9600P          2\n",
              "AMD Ryzen 1600                1\n",
              "AMD E-Series E2-6110          1\n",
              "Intel Atom x5-Z8300           1\n",
              "AMD E-Series 9000e            1\n",
              "AMD A6-Series 7310            1\n",
              "Intel Atom Z8350              1\n",
              "AMD E-Series 6110             1\n",
              "AMD A12-Series 9700P          1\n",
              "AMD A4-Series 7210            1\n",
              "AMD FX 8800P                  1\n",
              "AMD FX 9830P                  1\n",
              "Samsung Cortex A72&A53        1\n",
              "AMD E-Series 9000             1\n",
              "AMD E-Series E2-9000          1\n",
              "Name: count, dtype: int64"
            ]
          },
          "metadata": {},
          "execution_count": 102
        }
      ],
      "source": [
        "# Extracting the first three words from the 'Cpu' column to create a new 'Cpu_Processor' column\n",
        "df[\"Cpu_Processor\"] = df[\"Cpu\"].apply(lambda x:\" \".join(x.split()[0:3]))\n",
        "\n",
        "# Counting the occurrences of each unique value in the 'Cpu_Processor' column\n",
        "df[\"Cpu_Processor\"].value_counts()"
      ]
    },
    {
      "cell_type": "code",
      "source": [
        "# Filtering the DataFrame to exclude rows where 'Cpu_Processor' is 'Samsung Cortex A72&A53'\n",
        "df = df[df[\"Cpu_Processor\"] != \"Samsung Cortex A72&A53\"]"
      ],
      "metadata": {
        "id": "lvYsyYrfyjUd"
      },
      "id": "lvYsyYrfyjUd",
      "execution_count": 103,
      "outputs": []
    },
    {
      "cell_type": "code",
      "source": [
        "# Displaying the counts of each unique CPU processor type\n",
        "df[\"Cpu_Processor\"].value_counts()"
      ],
      "metadata": {
        "colab": {
          "base_uri": "https://localhost:8080/"
        },
        "id": "g7AvO7w81Ygx",
        "outputId": "279d0896-411e-431a-a365-5d832c8f3231"
      },
      "id": "g7AvO7w81Ygx",
      "execution_count": 104,
      "outputs": [
        {
          "output_type": "execute_result",
          "data": {
            "text/plain": [
              "Cpu_Processor\n",
              "Intel Core i7               515\n",
              "Intel Core i5               410\n",
              "Intel Core i3               134\n",
              "Intel Celeron Dual           79\n",
              "Intel Pentium Quad           27\n",
              "Intel Core M                 19\n",
              "AMD A9-Series 9420           12\n",
              "Intel Celeron Quad            8\n",
              "AMD A6-Series 9220            8\n",
              "AMD A12-Series 9720P          7\n",
              "Intel Atom x5-Z8350           4\n",
              "AMD A8-Series 7410            4\n",
              "AMD A9-Series 9410            3\n",
              "Intel Atom x5-Z8550           3\n",
              "Intel Pentium Dual            3\n",
              "AMD Ryzen 1700                3\n",
              "AMD E-Series E2-9000e         2\n",
              "Intel Atom X5-Z8350           2\n",
              "Intel Xeon E3-1535M           2\n",
              "AMD A9-Series A9-9420         2\n",
              "AMD A10-Series 9620P          2\n",
              "AMD E-Series 7110             2\n",
              "Intel Xeon E3-1505M           2\n",
              "AMD A10-Series 9600P          2\n",
              "AMD A6-Series A6-9220         2\n",
              "AMD A10-Series A10-9620P      2\n",
              "AMD Ryzen 1600                1\n",
              "AMD A12-Series 9700P          1\n",
              "AMD E-Series 9000             1\n",
              "AMD E-Series 9000e            1\n",
              "AMD FX 8800P                  1\n",
              "AMD A4-Series 7210            1\n",
              "Intel Atom Z8350              1\n",
              "Intel Atom x5-Z8300           1\n",
              "AMD A6-Series 7310            1\n",
              "AMD E-Series E2-9000          1\n",
              "AMD E-Series 6110             1\n",
              "AMD E-Series E2-6110          1\n",
              "AMD FX 9830P                  1\n",
              "Name: count, dtype: int64"
            ]
          },
          "metadata": {},
          "execution_count": 104
        }
      ]
    },
    {
      "cell_type": "code",
      "source": [
        "import warnings\n",
        "warnings.filterwarnings('ignore')"
      ],
      "metadata": {
        "id": "Dh9GO0jFr327"
      },
      "id": "Dh9GO0jFr327",
      "execution_count": 105,
      "outputs": []
    },
    {
      "cell_type": "code",
      "execution_count": 106,
      "id": "uEnmzTc0Hk0h",
      "metadata": {
        "colab": {
          "base_uri": "https://localhost:8080/"
        },
        "id": "uEnmzTc0Hk0h",
        "outputId": "4c808c96-b661-4598-9f07-23c23273f5b0"
      },
      "outputs": [
        {
          "output_type": "execute_result",
          "data": {
            "text/plain": [
              "Cpu_Processor\n",
              "Intel Core i7            515\n",
              "Intel Core i5            410\n",
              "Other Intel Processor    151\n",
              "Intel Core i3            134\n",
              "AMD Processor             62\n",
              "Name: count, dtype: int64"
            ]
          },
          "metadata": {},
          "execution_count": 106
        }
      ],
      "source": [
        "# Defining a function to categorize CPU processors\n",
        "def processor(text):\n",
        "    if text == 'Intel Core i7' or text == 'Intel Core i5' or text == 'Intel Core i3':\n",
        "        return text\n",
        "    else:\n",
        "        if text.split()[0] == 'Intel':\n",
        "            return 'Other Intel Processor'\n",
        "        else:\n",
        "            return 'AMD Processor'\n",
        "\n",
        "# Applying the 'processor' function to the 'Cpu_Processor' column\n",
        "df[\"Cpu_Processor\"] = df[\"Cpu_Processor\"].apply(processor)\n",
        "\n",
        "# Displaying the counts of each unique CPU processor type\n",
        "df[\"Cpu_Processor\"].value_counts()"
      ]
    },
    {
      "cell_type": "code",
      "execution_count": 107,
      "id": "e0e38ecf-289f-4856-9f70-1a701aa8751a",
      "metadata": {
        "id": "e0e38ecf-289f-4856-9f70-1a701aa8751a"
      },
      "outputs": [],
      "source": [
        "# Extracting CPU frequency in GHz from the 'Cpu' column\n",
        "df[\"CpuFrequencyGHz\"]=df[\"Cpu\"].str.extract(r'(\\d+(?:\\.\\d+)?)GHz')"
      ]
    },
    {
      "cell_type": "code",
      "execution_count": 108,
      "id": "ad975ec2-e77a-4c6a-b5fe-dfc64fc640bc",
      "metadata": {
        "colab": {
          "base_uri": "https://localhost:8080/"
        },
        "id": "ad975ec2-e77a-4c6a-b5fe-dfc64fc640bc",
        "outputId": "ddb96b92-d4ea-4e08-946d-fcd4581ae7ce"
      },
      "outputs": [
        {
          "output_type": "execute_result",
          "data": {
            "text/plain": [
              "array([2.3 , 1.8 , 2.5 , 2.7 , 3.1 , 3.  , 2.2 , 1.6 , 2.  , 2.8 , 1.2 ,\n",
              "       2.9 , 2.4 , 1.5 , 1.9 , 1.44, 1.1 , 1.3 , 2.6 , 3.6 , 3.2 , 1.  ,\n",
              "       2.1 , 0.9 , 1.92])"
            ]
          },
          "metadata": {},
          "execution_count": 108
        }
      ],
      "source": [
        "# Replacing the 'GHz' suffix from the 'CpuFrequencyGHz' column with space\n",
        "df[\"CpuFrequencyGHz\"]=df[\"CpuFrequencyGHz\"].str.replace(\"GHz\",\"\")\n",
        "\n",
        "# Converting the 'CpuFrequencyGHz' column to float type\n",
        "df[\"CpuFrequencyGHz\"]=df[\"CpuFrequencyGHz\"].astype(float)\n",
        "\n",
        "# Displaying the unique values in the 'CpuFrequencyGHz' column\n",
        "df[\"CpuFrequencyGHz\"].unique()"
      ]
    },
    {
      "cell_type": "code",
      "execution_count": 109,
      "id": "f7d73726-82d6-4db1-95b0-64b1f1f19c14",
      "metadata": {
        "colab": {
          "base_uri": "https://localhost:8080/"
        },
        "id": "f7d73726-82d6-4db1-95b0-64b1f1f19c14",
        "outputId": "38614f5c-92bd-48d2-e075-86567775c99d"
      },
      "outputs": [
        {
          "output_type": "execute_result",
          "data": {
            "text/plain": [
              "GpuManufacturer\n",
              "Intel     703\n",
              "Nvidia    393\n",
              "AMD       176\n",
              "Name: count, dtype: int64"
            ]
          },
          "metadata": {},
          "execution_count": 109
        }
      ],
      "source": [
        "# Extracting the GPU manufacturer from the 'Gpu' column\n",
        "df[\"GpuManufacturer\"] = df[\"Gpu\"].str.split(\" \",n=1).str[0]\n",
        "\n",
        "# Displaying the counts of each GPU manufacturer\n",
        "df[\"GpuManufacturer\"].value_counts()"
      ]
    },
    {
      "cell_type": "code",
      "execution_count": 110,
      "id": "f13ff004-cca3-4c20-9d0c-9313e8ab7e2d",
      "metadata": {
        "id": "f13ff004-cca3-4c20-9d0c-9313e8ab7e2d"
      },
      "outputs": [],
      "source": [
        "# Extracting storage device type from the 'Memory' column and creating a new column 'StorageDevice'\n",
        "df[\"StorageDevice\"] = df[\"Memory\"].str.extract(r\"(HDD|SSD|Flash Storage|Hybrid)\\b\")"
      ]
    },
    {
      "cell_type": "code",
      "execution_count": 111,
      "id": "8d1506a6-837d-4c60-8538-6a3ca350a3e0",
      "metadata": {
        "colab": {
          "base_uri": "https://localhost:8080/"
        },
        "id": "8d1506a6-837d-4c60-8538-6a3ca350a3e0",
        "outputId": "f769c356-3f76-475c-88a9-527bd04f30f6"
      },
      "outputs": [
        {
          "output_type": "execute_result",
          "data": {
            "text/plain": [
              "array(['128GB', '256GB', '512GB', '500GB', '1TB', '64GB', '32GB', '2TB',\n",
              "       '1.0TB', '16GB', '180GB', '?', '240GB', '8GB', '508GB'],\n",
              "      dtype=object)"
            ]
          },
          "metadata": {},
          "execution_count": 111
        }
      ],
      "source": [
        "# Splitting the 'Memory' column values by whitespace and extracting the first part\n",
        "df[\"Memory\"] = df[\"Memory\"].str.split().str[0]\n",
        "\n",
        "# Displaying the unique values in the 'Memory' column\n",
        "df[\"Memory\"].unique()"
      ]
    },
    {
      "cell_type": "code",
      "execution_count": 112,
      "id": "8590eebc-bfe5-4a66-a1bc-be771ffc39f0",
      "metadata": {
        "colab": {
          "base_uri": "https://localhost:8080/"
        },
        "id": "8590eebc-bfe5-4a66-a1bc-be771ffc39f0",
        "outputId": "db708991-7c76-43ac-e867-a02b1fd4eb08"
      },
      "outputs": [
        {
          "output_type": "execute_result",
          "data": {
            "text/plain": [
              "array(['128GB', '256GB', '512GB', '500GB', '1TB', '64GB', '32GB', '2TB',\n",
              "       '1.0TB', '16GB', '180GB', '240GB', '8GB', '508GB'], dtype=object)"
            ]
          },
          "metadata": {},
          "execution_count": 112
        }
      ],
      "source": [
        "# Replacing missing or placeholder values ('?') in the 'Memory' column with the mode\n",
        "df[\"Memory\"]=df[\"Memory\"].replace(\"?\",df[\"Memory\"].mode()[0])\n",
        "\n",
        "# Displaying the unique values in the 'Memory' column\n",
        "df[\"Memory\"].unique()"
      ]
    },
    {
      "cell_type": "markdown",
      "id": "EhHa2lGs-WRN",
      "metadata": {
        "id": "EhHa2lGs-WRN"
      },
      "source": [
        "Laptop Company"
      ]
    },
    {
      "cell_type": "code",
      "execution_count": 113,
      "id": "UtFAUz5PCuLr",
      "metadata": {
        "colab": {
          "base_uri": "https://localhost:8080/"
        },
        "id": "UtFAUz5PCuLr",
        "outputId": "9709dad4-e74c-40f7-8572-20f9b9b5a99a"
      },
      "outputs": [
        {
          "output_type": "execute_result",
          "data": {
            "text/plain": [
              "Company\n",
              "Lenovo       290\n",
              "Dell         287\n",
              "HP           266\n",
              "Asus         156\n",
              "Acer         103\n",
              "MSI           53\n",
              "Toshiba       47\n",
              "Apple         21\n",
              "Samsung        8\n",
              "Razer          7\n",
              "Mediacom       7\n",
              "Microsoft      6\n",
              "Xiaomi         4\n",
              "Vero           4\n",
              "Chuwi          3\n",
              "Google         3\n",
              "LG             3\n",
              "Huawei         2\n",
              "Fujitsu        2\n",
              "Name: count, dtype: int64"
            ]
          },
          "metadata": {},
          "execution_count": 113
        }
      ],
      "source": [
        "# Counting the number of occurrences of each unique value in the 'Company' column\n",
        "df[\"Company\"].value_counts()"
      ]
    },
    {
      "cell_type": "code",
      "execution_count": 114,
      "id": "Q9BsWf60okxh",
      "metadata": {
        "colab": {
          "base_uri": "https://localhost:8080/"
        },
        "id": "Q9BsWf60okxh",
        "outputId": "1117761a-3a0a-4fd4-c0f7-84f363bc142f"
      },
      "outputs": [
        {
          "output_type": "execute_result",
          "data": {
            "text/plain": [
              "CompanyName\n",
              "Lenovo    290\n",
              "Dell      287\n",
              "HP        266\n",
              "Asus      156\n",
              "Acer      103\n",
              "Others     89\n",
              "MSI        53\n",
              "Apple      21\n",
              "Razer       7\n",
              "Name: count, dtype: int64"
            ]
          },
          "metadata": {},
          "execution_count": 114
        }
      ],
      "source": [
        "# Defining a function to categorize Laptop Company\n",
        "def CompanyNames(name):\n",
        "    valid_names = {\"Lenovo\", \"Dell\", \"HP\", \"Asus\", \"Acer\", \"Apple\", \"MSI\", \"Razer\"}\n",
        "    if name not in valid_names:\n",
        "        return \"Others\"\n",
        "    else:\n",
        "        return name\n",
        "\n",
        "# Apply the function to the Company column\n",
        "df[\"CompanyName\"] = df[\"Company\"].apply(CompanyNames)\n",
        "\n",
        "# Counting the number of occurrences of each unique value in the 'Company' column\n",
        "df[\"CompanyName\"].value_counts()"
      ]
    },
    {
      "cell_type": "markdown",
      "id": "InHu_SGn-kwV",
      "metadata": {
        "id": "InHu_SGn-kwV"
      },
      "source": [
        "Type of Laptop"
      ]
    },
    {
      "cell_type": "code",
      "execution_count": 115,
      "id": "IyesJGAyHXdR",
      "metadata": {
        "id": "IyesJGAyHXdR",
        "colab": {
          "base_uri": "https://localhost:8080/"
        },
        "outputId": "0b27bd8d-7010-4700-cfd5-500816d1bb5a"
      },
      "outputs": [
        {
          "output_type": "execute_result",
          "data": {
            "text/plain": [
              "Laptop_Type\n",
              "Notebook              710\n",
              "Gaming                203\n",
              "Ultrabook             191\n",
              "2 in 1 Convertible    115\n",
              "Workstation            29\n",
              "Netbook                24\n",
              "Name: count, dtype: int64"
            ]
          },
          "metadata": {},
          "execution_count": 115
        }
      ],
      "source": [
        "# Renaming the 'TypeName' column with 'Laptop Type'\n",
        "df = df.rename(columns={'TypeName': 'Laptop_Type'})\n",
        "\n",
        "# Counting the number of occurrences of each unique value in the 'Company' column\n",
        "df[\"Laptop_Type\"].value_counts()"
      ]
    },
    {
      "cell_type": "markdown",
      "id": "Bk9mosdp-rBk",
      "metadata": {
        "id": "Bk9mosdp-rBk"
      },
      "source": [
        "OpSystem in Laptop"
      ]
    },
    {
      "cell_type": "code",
      "execution_count": 116,
      "id": "1AsCdIJgrlAi",
      "metadata": {
        "colab": {
          "base_uri": "https://localhost:8080/"
        },
        "id": "1AsCdIJgrlAi",
        "outputId": "0f20c94a-cf56-4650-c049-8910b45ec999"
      },
      "outputs": [
        {
          "output_type": "execute_result",
          "data": {
            "text/plain": [
              "OpSys\n",
              "Windows 10      1047\n",
              "No OS             63\n",
              "Linux             61\n",
              "Windows 7         45\n",
              "Chrome OS         26\n",
              "macOS             13\n",
              "Mac OS X           8\n",
              "Windows 10 S       8\n",
              "Android            1\n",
              "Name: count, dtype: int64"
            ]
          },
          "metadata": {},
          "execution_count": 116
        }
      ],
      "source": [
        "# Counting the number of occurrences of each unique value in the 'OpSys' column\n",
        "df[\"OpSys\"].value_counts()"
      ]
    },
    {
      "cell_type": "code",
      "source": [
        "# Defining a function to categorize OpSys column\n",
        "def cat_os(inp):\n",
        "    if inp == 'Windows 10' or inp == 'Windows 7' or inp == 'Windows 10 S':\n",
        "        return 'Windows'\n",
        "    elif inp == 'macOS' or inp == 'Mac OS X':\n",
        "        return 'Mac'\n",
        "    else:\n",
        "        return 'Others/No OS/Linux'\n",
        "df['OpSys'] = df['OpSys'].apply(cat_os)\n",
        "\n",
        "# Counting the number of occurrences of each unique value in the 'OpSys' column\n",
        "df[\"OpSys\"].value_counts()"
      ],
      "metadata": {
        "colab": {
          "base_uri": "https://localhost:8080/"
        },
        "id": "H9P3qPOvxxsD",
        "outputId": "31eed489-7fff-4169-9c6e-c839a4d93f00"
      },
      "id": "H9P3qPOvxxsD",
      "execution_count": 117,
      "outputs": [
        {
          "output_type": "execute_result",
          "data": {
            "text/plain": [
              "OpSys\n",
              "Windows               1100\n",
              "Others/No OS/Linux     151\n",
              "Mac                     21\n",
              "Name: count, dtype: int64"
            ]
          },
          "metadata": {},
          "execution_count": 117
        }
      ]
    },
    {
      "cell_type": "markdown",
      "id": "NBDFpwy6-57E",
      "metadata": {
        "id": "NBDFpwy6-57E"
      },
      "source": [
        "Weight of Laptop"
      ]
    },
    {
      "cell_type": "code",
      "execution_count": 118,
      "id": "f7615917-b20b-499e-9c07-a7e69094ce09",
      "metadata": {
        "colab": {
          "base_uri": "https://localhost:8080/"
        },
        "id": "f7615917-b20b-499e-9c07-a7e69094ce09",
        "outputId": "42950b42-84bd-40bf-82c1-6a584bcfddbd"
      },
      "outputs": [
        {
          "output_type": "execute_result",
          "data": {
            "text/plain": [
              "array(['1.37 ', '1.34 ', '1.86 ', '1.83 ', '2.1 ', '2.04 ', '1.3 ',\n",
              "       '1.6 ', '2.2 ', '0.92 ', '1.22 ', '2.5 ', '1.62 ', '1.91 ', '2.3 ',\n",
              "       '1.35 ', '1.88 ', '1.89 ', '1.65 ', '2.71 ', '1.2 ', '1.44 ',\n",
              "       '2.8 ', '2 ', '2.65 ', '2.77 ', '3.2 ', '1.49 ', '2.4 ', '2.13 ',\n",
              "       '2.43 ', '1.7 ', '1.4 ', '1.8 ', '1.9 ', '3 ', '1.252 ', '2.7 ',\n",
              "       '2.02 ', '1.63 ', '1.96 ', '1.21 ', '2.45 ', '1.25 ', '1.5 ',\n",
              "       '2.62 ', '1.38 ', '1.58 ', '1.85 ', '1.23 ', '2.16 ', '2.36 ',\n",
              "       '7.2 ', '2.05 ', '1.32 ', '1.75 ', '0.97 ', '2.56 ', '1.48 ',\n",
              "       '1.74 ', '1.1 ', '1.56 ', '2.03 ', '1.05 ', '5.4 ', '4.4 ',\n",
              "       '1.90 ', '1.29 ', '2.0 ', '1.95 ', '2.06 ', '1.12 ', '3.49 ',\n",
              "       '3.35 ', '2.23 ', '?', '2.9 ', '4.42 ', '2.69 ', '2.37 ', '4.7 ',\n",
              "       '3.6 ', '2.08 ', '4.3 ', '1.68 ', '1.41 ', '4.14 ', '2.18 ',\n",
              "       '2.24 ', '2.67 ', '4.1 ', '2.14 ', '1.36 ', '2.25 ', '2.15 ',\n",
              "       '2.19 ', '2.54 ', '3.42 ', '5.8 ', '1.28 ', '2.33 ', '1.45 ',\n",
              "       '2.79 ', '8.23 ', '1.26 ', '1.84 ', '0.0002 ', '2.6 ', '2.26 ',\n",
              "       '3.25 ', '1.59 ', '1.13 ', '1.42 ', '1.78 ', '1.10 ', '1.15 ',\n",
              "       '1.27 ', '1.43 ', '2.31 ', '1.16 ', '1.64 ', '2.17 ', '1.47 ',\n",
              "       '3.78 ', '1.79 ', '0.91 ', '1.99 ', '4.33 ', '1.93 ', '1.87 ',\n",
              "       '2.63 ', '3.4 ', '3.14 ', '1.94 ', '1.24 ', '4.6 ', '4.5 ', '8.4 ',\n",
              "       '2.73 ', '1.39 ', '2.29 ', '2.59 ', '2.94 ', '11.1 ', '1.14 ',\n",
              "       '3.8 ', '6.2 ', '3.31 ', '1.09 ', '3.21 ', '1.19 ', '1.98 ',\n",
              "       '1.17 ', '4.36 ', '1.71 ', '2.32 ', '4.2 ', '1.55 ', '0.81 ',\n",
              "       '1.18 ', '2.72 ', '1.31 ', '0.920 ', '3.74 ', '1.76 ', '1.54 ',\n",
              "       '2.83 ', '2.07 ', '2.38 ', '3.58 ', '1.08 ', '2.20 ', '0.98 ',\n",
              "       '2.75 ', '1.70 ', '2.99 ', '1.11 ', '2.09 ', '4 ', '3.0 ', '0.99 ',\n",
              "       '0.69 ', '3.52 ', '2.591 ', '2.21 ', '3.3 ', '2.191 ', '2.34 ',\n",
              "       '4.0 '], dtype=object)"
            ]
          },
          "metadata": {},
          "execution_count": 118
        }
      ],
      "source": [
        "# Replacing \"kg\" with space\n",
        "df[\"WeightKg\"]=df[\"Weight\"].str.replace(\"kg\",\" \")\n",
        "\n",
        "# Displaying the Unique Values\n",
        "df[\"WeightKg\"].unique()"
      ]
    },
    {
      "cell_type": "code",
      "execution_count": 119,
      "id": "PPU7K7KO_Br3",
      "metadata": {
        "colab": {
          "base_uri": "https://localhost:8080/"
        },
        "id": "PPU7K7KO_Br3",
        "outputId": "95f8aba3-dd5e-45af-c4f2-18aa8bc54217"
      },
      "outputs": [
        {
          "output_type": "execute_result",
          "data": {
            "text/plain": [
              "0"
            ]
          },
          "metadata": {},
          "execution_count": 119
        }
      ],
      "source": [
        "# Changing data type of Weight column to numeric\n",
        "df[\"WeightKg\"]=df[\"WeightKg\"].replace(\"?\",df[\"WeightKg\"].mode()[0]).astype(float)\n",
        "\n",
        "# Counting the number of occurrences of the placeholder value '?' in the 'WeightKg' column\n",
        "df[\"WeightKg\"].value_counts().get(\"?\",0)"
      ]
    },
    {
      "cell_type": "code",
      "source": [],
      "metadata": {
        "id": "pZLRLJfRU4Xq"
      },
      "id": "pZLRLJfRU4Xq",
      "execution_count": 119,
      "outputs": []
    },
    {
      "cell_type": "code",
      "execution_count": 120,
      "id": "3Vcyy2FsJr7N",
      "metadata": {
        "colab": {
          "base_uri": "https://localhost:8080/"
        },
        "id": "3Vcyy2FsJr7N",
        "outputId": "97697f86-65a0-45c1-9c78-0bd590f48e00"
      },
      "outputs": [
        {
          "output_type": "execute_result",
          "data": {
            "text/plain": [
              "array([202.365, 127.68 , 141.21 , 100.45 , 157.35 , 165.63 , 127.34 ,\n",
              "       111.94 ,  90.58 , 200.84 , 199.69 , 119.72 , 106.11 , 158.48 ,\n",
              "       135.09 , 117.83 , 176.23 ,  86.05 ,  82.325, 107.59 , 189.91 ,\n",
              "       122.38 , 125.37 ,  91.79 , 107.99 , 161.73 , 146.86 , 111.14 ,\n",
              "       169.78 , 194.95 ])"
            ]
          },
          "metadata": {},
          "execution_count": 120
        }
      ],
      "source": [
        "q1=df.describe()[\"PPI\"][\"25%\"]\n",
        "q3=df.describe()[\"PPI\"][\"75%\"]\n",
        "IQR=q3-q1\n",
        "ll=q1-(1.5*IQR)\n",
        "ul=q3+(1.5*IQR)\n",
        "df[\"PPI\"]=df[\"PPI\"].clip(ll,ul)\n",
        "df[\"PPI\"].unique()"
      ]
    },
    {
      "cell_type": "markdown",
      "id": "qUh2KrQeCQ5P",
      "metadata": {
        "id": "qUh2KrQeCQ5P"
      },
      "source": [
        "RAM"
      ]
    },
    {
      "cell_type": "code",
      "execution_count": 121,
      "id": "QSfLNPmy5vsD",
      "metadata": {
        "colab": {
          "base_uri": "https://localhost:8080/"
        },
        "id": "QSfLNPmy5vsD",
        "outputId": "00afa1b9-b864-4f74-ef90-8d570c1a45d8"
      },
      "outputs": [
        {
          "output_type": "execute_result",
          "data": {
            "text/plain": [
              "Ram\n",
              "8GB     601\n",
              "4GB     366\n",
              "16GB    194\n",
              "6GB      40\n",
              "12GB     25\n",
              "2GB      22\n",
              "32GB     17\n",
              "64GB      3\n",
              "24GB      3\n",
              "1GB       1\n",
              "Name: count, dtype: int64"
            ]
          },
          "metadata": {},
          "execution_count": 121
        }
      ],
      "source": [
        "# Counting the number of occurrences of each unique value in the 'Ram' column\n",
        "df[\"Ram\"].value_counts()"
      ]
    },
    {
      "cell_type": "code",
      "execution_count": 122,
      "id": "GUBvhH7Hsxqq",
      "metadata": {
        "colab": {
          "base_uri": "https://localhost:8080/"
        },
        "id": "GUBvhH7Hsxqq",
        "outputId": "bb0926af-8fee-475c-d8bd-0de38ccb6006"
      },
      "outputs": [
        {
          "output_type": "execute_result",
          "data": {
            "text/plain": [
              "RamGB\n",
              "8     601\n",
              "4     366\n",
              "16    194\n",
              "6      40\n",
              "12     25\n",
              "2      22\n",
              "32     17\n",
              "64      3\n",
              "24      3\n",
              "1       1\n",
              "Name: count, dtype: int64"
            ]
          },
          "metadata": {},
          "execution_count": 122
        }
      ],
      "source": [
        "# Changing data type of Ram column to numeric\n",
        "df[\"RamGB\"]=df[\"Ram\"].str.extract('(\\d+)').astype(int)\n",
        "\n",
        "# Counting the number of occurrences of each unique value in the 'Ram' column\n",
        "df[\"RamGB\"].value_counts()"
      ]
    },
    {
      "cell_type": "code",
      "execution_count": 123,
      "id": "f84bc130-b2a0-41e2-a7e6-e62b0d52ef94",
      "metadata": {
        "colab": {
          "base_uri": "https://localhost:8080/"
        },
        "id": "f84bc130-b2a0-41e2-a7e6-e62b0d52ef94",
        "outputId": "1a28e4f3-5393-4af6-94f9-f02ee1fa576d"
      },
      "outputs": [
        {
          "output_type": "execute_result",
          "data": {
            "text/plain": [
              "RamGB\n",
              "8     601\n",
              "4     366\n",
              "14    217\n",
              "6      40\n",
              "12     25\n",
              "2      22\n",
              "1       1\n",
              "Name: count, dtype: int64"
            ]
          },
          "metadata": {},
          "execution_count": 123
        }
      ],
      "source": [
        "# Calculate the IQR\n",
        "q1=df.describe()[\"RamGB\"][\"25%\"]\n",
        "q3=df.describe()[\"RamGB\"][\"75%\"]\n",
        "IQR=q3-q1\n",
        "ll=q1-(1.5*IQR)\n",
        "ul=q3+(1.5*IQR)\n",
        "df[\"RamGB\"]=df[\"RamGB\"].clip(ll,ul)\n",
        "\n",
        "# Counting the number of occurrences of each unique value in the 'Ram' column\n",
        "df[\"RamGB\"].value_counts()"
      ]
    },
    {
      "cell_type": "code",
      "execution_count": 124,
      "id": "ExA7tb0K6neo",
      "metadata": {
        "colab": {
          "base_uri": "https://localhost:8080/"
        },
        "id": "ExA7tb0K6neo",
        "outputId": "43b6b840-7047-48b4-cd21-df47d3d9d85b"
      },
      "outputs": [
        {
          "output_type": "execute_result",
          "data": {
            "text/plain": [
              "RamGB\n",
              "8     601\n",
              "4     366\n",
              "14    217\n",
              "6      40\n",
              "12     25\n",
              "2      23\n",
              "Name: count, dtype: int64"
            ]
          },
          "metadata": {},
          "execution_count": 124
        }
      ],
      "source": [
        "# Replacing occurrences of the value 1 with 2 in the 'RamGB' column\n",
        "df[\"RamGB\"]=df[\"RamGB\"].replace(1,2)\n",
        "\n",
        "# Counting the number of occurrences of each unique value in the 'RamGB' column\n",
        "df[\"RamGB\"].value_counts()"
      ]
    },
    {
      "cell_type": "markdown",
      "id": "RfnIglZ-IG5g",
      "metadata": {
        "id": "RfnIglZ-IG5g"
      },
      "source": [
        "CpuFrequency"
      ]
    },
    {
      "cell_type": "code",
      "execution_count": 125,
      "id": "81790344-089b-4f0e-8a25-7e369e083ca6",
      "metadata": {
        "colab": {
          "base_uri": "https://localhost:8080/",
          "height": 467
        },
        "id": "81790344-089b-4f0e-8a25-7e369e083ca6",
        "outputId": "f9717df7-9569-4cf2-e4e7-26a45a9a0228"
      },
      "outputs": [
        {
          "output_type": "execute_result",
          "data": {
            "text/plain": [
              "<Axes: xlabel='CpuFrequencyGHz', ylabel='Count'>"
            ]
          },
          "metadata": {},
          "execution_count": 125
        },
        {
          "output_type": "display_data",
          "data": {
            "text/plain": [
              "<Figure size 640x480 with 1 Axes>"
            ],
            "image/png": "[encoded data removed]"
          },
          "metadata": {}
        }
      ],
      "source": [
        "sns.histplot(df[\"CpuFrequencyGHz\"])"
      ]
    },
    {
      "cell_type": "markdown",
      "id": "nCZM9VM-Gbz-",
      "metadata": {
        "id": "nCZM9VM-Gbz-"
      },
      "source": [
        "Storage device"
      ]
    },
    {
      "cell_type": "code",
      "execution_count": 126,
      "id": "UrDg4hi8Id7h",
      "metadata": {
        "colab": {
          "base_uri": "https://localhost:8080/"
        },
        "id": "UrDg4hi8Id7h",
        "outputId": "fad8fd73-50df-4a47-8ad5-04afb92edf53"
      },
      "outputs": [
        {
          "output_type": "execute_result",
          "data": {
            "text/plain": [
              "StorageDevice\n",
              "SSD              822\n",
              "HDD              367\n",
              "Flash Storage     72\n",
              "Hybrid            10\n",
              "Name: count, dtype: int64"
            ]
          },
          "metadata": {},
          "execution_count": 126
        }
      ],
      "source": [
        "# Counting the number of occurrences of each unique value in the 'StorageDevice' column\n",
        "df[\"StorageDevice\"].value_counts()"
      ]
    },
    {
      "cell_type": "code",
      "execution_count": 127,
      "id": "3KYV_zIDIj3H",
      "metadata": {
        "colab": {
          "base_uri": "https://localhost:8080/"
        },
        "id": "3KYV_zIDIj3H",
        "outputId": "ab270f16-b421-4e98-c002-c919f485624c"
      },
      "outputs": [
        {
          "output_type": "execute_result",
          "data": {
            "text/plain": [
              "array(['SSD', 'Flash Storage', 'HDD', 'Hybrid', nan], dtype=object)"
            ]
          },
          "metadata": {},
          "execution_count": 127
        }
      ],
      "source": [
        "# Getting the unique values in the 'StorageDevice' column\n",
        "df[\"StorageDevice\"].unique()"
      ]
    },
    {
      "cell_type": "code",
      "execution_count": 128,
      "id": "yarLn6auIojA",
      "metadata": {
        "colab": {
          "base_uri": "https://localhost:8080/"
        },
        "id": "yarLn6auIojA",
        "outputId": "cd6fad99-c71e-4f95-f8a9-1355b9b3831c"
      },
      "outputs": [
        {
          "output_type": "execute_result",
          "data": {
            "text/plain": [
              "array(['SSD', 'Flash Storage', 'HDD', 'Hybrid'], dtype=object)"
            ]
          },
          "metadata": {},
          "execution_count": 128
        }
      ],
      "source": [
        "# Filling missing values (NaN) in the 'StorageDevice' column with the most frequent value (mode)\n",
        "df[\"StorageDevice\"]=df[\"StorageDevice\"].fillna(df[\"StorageDevice\"].mode()[0])\n",
        "\n",
        "# Getting the unique values in the 'StorageDevice' column\n",
        "df[\"StorageDevice\"].unique()"
      ]
    },
    {
      "cell_type": "markdown",
      "id": "-WxB-oEwKDBH",
      "metadata": {
        "id": "-WxB-oEwKDBH"
      },
      "source": [
        "Price of Laptop"
      ]
    },
    {
      "cell_type": "code",
      "execution_count": 129,
      "id": "0ISWmRatK9kJ",
      "metadata": {
        "colab": {
          "base_uri": "https://localhost:8080/",
          "height": 467
        },
        "id": "0ISWmRatK9kJ",
        "outputId": "a7f8ef44-bd12-44ab-cf68-061177e29e02"
      },
      "outputs": [
        {
          "output_type": "execute_result",
          "data": {
            "text/plain": [
              "<Axes: xlabel='Price', ylabel='Count'>"
            ]
          },
          "metadata": {},
          "execution_count": 129
        },
        {
          "output_type": "display_data",
          "data": {
            "text/plain": [
              "<Figure size 640x480 with 1 Axes>"
            ],
            "image/png": "[encoded data removed]"
          },
          "metadata": {}
        }
      ],
      "source": [
        "sns.histplot(df[\"Price\"])"
      ]
    },
    {
      "cell_type": "code",
      "execution_count": 130,
      "id": "C__oDoKlKKR5",
      "metadata": {
        "colab": {
          "base_uri": "https://localhost:8080/"
        },
        "id": "C__oDoKlKKR5",
        "outputId": "953172fd-ebae-417f-b9dd-ffa6a2eaef87"
      },
      "outputs": [
        {
          "output_type": "execute_result",
          "data": {
            "text/plain": [
              "count      1272.000000\n",
              "mean      59975.345751\n",
              "std       37340.426973\n",
              "min        9270.720000\n",
              "25%       31914.720000\n",
              "50%       52161.120000\n",
              "75%       79346.840400\n",
              "max      324954.720000\n",
              "Name: Price, dtype: float64"
            ]
          },
          "metadata": {},
          "execution_count": 130
        }
      ],
      "source": [
        "df[\"Price\"].describe()"
      ]
    },
    {
      "cell_type": "code",
      "execution_count": 131,
      "id": "02f4a8d2-8d92-419b-bba3-2b63f9d79e13",
      "metadata": {
        "colab": {
          "base_uri": "https://localhost:8080/"
        },
        "id": "02f4a8d2-8d92-419b-bba3-2b63f9d79e13",
        "outputId": "74e2f196-ec53-4d7e-9327-57d6a9dc13b4"
      },
      "outputs": [
        {
          "output_type": "execute_result",
          "data": {
            "text/plain": [
              "count      1272.000000\n",
              "mean      59182.323843\n",
              "std       34357.460805\n",
              "min        9270.720000\n",
              "25%       31914.720000\n",
              "50%       52161.120000\n",
              "75%       79346.840400\n",
              "max      150495.021000\n",
              "Name: Price, dtype: float64"
            ]
          },
          "metadata": {},
          "execution_count": 131
        }
      ],
      "source": [
        "q1=df.describe()[\"Price\"][\"25%\"]\n",
        "q3=df.describe()[\"Price\"][\"75%\"]\n",
        "IQR=q3-q1\n",
        "ll=q1-(1.5*IQR)\n",
        "ul=q3+(1.5*IQR)\n",
        "df[\"Price\"]=df[\"Price\"].clip(ll,ul)\n",
        "df[\"Price\"].describe()"
      ]
    },
    {
      "cell_type": "code",
      "execution_count": 132,
      "id": "Y5_Gd_JxKH1I",
      "metadata": {
        "colab": {
          "base_uri": "https://localhost:8080/",
          "height": 467
        },
        "id": "Y5_Gd_JxKH1I",
        "outputId": "f369c596-079b-46d3-adfe-3fa11d9ee309"
      },
      "outputs": [
        {
          "output_type": "execute_result",
          "data": {
            "text/plain": [
              "<Axes: xlabel='Price', ylabel='Count'>"
            ]
          },
          "metadata": {},
          "execution_count": 132
        },
        {
          "output_type": "display_data",
          "data": {
            "text/plain": [
              "<Figure size 640x480 with 1 Axes>"
            ],
            "image/png": "[encoded data removed]"
          },
          "metadata": {}
        }
      ],
      "source": [
        "sns.histplot(df[\"Price\"])"
      ]
    },
    {
      "cell_type": "markdown",
      "id": "3Afmpfelaiej",
      "metadata": {
        "id": "3Afmpfelaiej"
      },
      "source": [
        "MEMORY"
      ]
    },
    {
      "cell_type": "code",
      "execution_count": 133,
      "id": "bhX5NlK6fR6q",
      "metadata": {
        "colab": {
          "base_uri": "https://localhost:8080/"
        },
        "id": "bhX5NlK6fR6q",
        "outputId": "ba53de5c-7f1a-4401-db1f-2d7e6dc774fd"
      },
      "outputs": [
        {
          "output_type": "execute_result",
          "data": {
            "text/plain": [
              "Memory\n",
              "256GB    496\n",
              "1TB      233\n",
              "128GB    173\n",
              "512GB    138\n",
              "500GB    130\n",
              "32GB      43\n",
              "64GB      16\n",
              "2TB       16\n",
              "1.0TB     10\n",
              "16GB      10\n",
              "180GB      4\n",
              "240GB      1\n",
              "8GB        1\n",
              "508GB      1\n",
              "Name: count, dtype: int64"
            ]
          },
          "metadata": {},
          "execution_count": 133
        }
      ],
      "source": [
        "# Counting the number of occurrences of each unique value in the 'Memory' column\n",
        "df[\"Memory\"].value_counts()"
      ]
    },
    {
      "cell_type": "code",
      "execution_count": 134,
      "id": "6T11Fg7_fhNB",
      "metadata": {
        "id": "6T11Fg7_fhNB"
      },
      "outputs": [],
      "source": [
        "# Standardizing and converting memory size values in the 'Memory' column to a consistent format in gigabytes (GB)\n",
        "df[\"MemoryGB\"]=df[\"Memory\"].str.strip().replace(\"1.0TB\",\"1TB\").replace(\"1TB\",\"1000GB\").replace(\"2TB\",\"2000GB\").replace('508GB','500GB').replace('8GB','16GB').replace('240GB','256GB')"
      ]
    },
    {
      "cell_type": "code",
      "execution_count": 135,
      "id": "-YGW4Dh8g0t8",
      "metadata": {
        "colab": {
          "base_uri": "https://localhost:8080/"
        },
        "id": "-YGW4Dh8g0t8",
        "outputId": "3cb2888d-1bf4-447e-d0d0-5a7758bd9bd7"
      },
      "outputs": [
        {
          "output_type": "execute_result",
          "data": {
            "text/plain": [
              "Memory_GB\n",
              "256     497\n",
              "1000    243\n",
              "128     173\n",
              "512     138\n",
              "500     131\n",
              "32       43\n",
              "64       16\n",
              "2000     16\n",
              "16       11\n",
              "180       4\n",
              "Name: count, dtype: int64"
            ]
          },
          "metadata": {},
          "execution_count": 135
        }
      ],
      "source": [
        "# Extracting numerical values from the 'MemoryGB' column using regex\n",
        "df[\"Memory_GB\"]=df[\"MemoryGB\"].str.extract(r'(\\d+)').astype(int)\n",
        "\n",
        "# Counting the number of occurrences of each unique value in the 'Memory_GB' column\n",
        "df[\"Memory_GB\"].value_counts()"
      ]
    },
    {
      "cell_type": "markdown",
      "id": "pAIYQ3oDSKs8",
      "metadata": {
        "id": "pAIYQ3oDSKs8"
      },
      "source": [
        "correlaton matrix"
      ]
    },
    {
      "cell_type": "code",
      "execution_count": 136,
      "id": "2Quv4aSckqMF",
      "metadata": {
        "colab": {
          "base_uri": "https://localhost:8080/"
        },
        "id": "2Quv4aSckqMF",
        "outputId": "8004478d-6b6c-4af7-ca13-fb02df022410"
      },
      "outputs": [
        {
          "output_type": "execute_result",
          "data": {
            "text/plain": [
              "Price              1.000000\n",
              "RamGB              0.739397\n",
              "Length             0.554982\n",
              "Breadth            0.553734\n",
              "PPI                0.502714\n",
              "CpuFrequencyGHz    0.441527\n",
              "Ips                0.267032\n",
              "Touchscreen        0.195213\n",
              "WeightKg           0.152779\n",
              "Inches             0.028027\n",
              "Memory_GB         -0.153866\n",
              "Name: Price, dtype: float64"
            ]
          },
          "metadata": {},
          "execution_count": 136
        }
      ],
      "source": [
        "correlaton_matrix=df.corr(numeric_only=True)\n",
        "correlaton_matrix[\"Price\"].sort_values(ascending=False)"
      ]
    },
    {
      "cell_type": "code",
      "source": [
        "# Define a mapping dictionary to convert numerical values to categorical labels\n",
        "d={0:\"No\",1:\"Yes\"}\n",
        "\n",
        "# Apply the mapping to the 'Touchscreen' column\n",
        "df[\"Touchscreen\"] = df[\"Touchscreen\"].map(d)\n",
        "\n",
        "# Apply the mapping to the 'Ips' column\n",
        "df[\"Ips\"] = df[\"Ips\"].map(d)"
      ],
      "metadata": {
        "id": "zAEkoPR-AuV2"
      },
      "id": "zAEkoPR-AuV2",
      "execution_count": 137,
      "outputs": []
    },
    {
      "cell_type": "code",
      "execution_count": 138,
      "id": "3LdCYG4VTq_l",
      "metadata": {
        "colab": {
          "base_uri": "https://localhost:8080/"
        },
        "id": "3LdCYG4VTq_l",
        "outputId": "4b4bcd4a-6c17-4ab9-c534-6118e01b5324"
      },
      "outputs": [
        {
          "output_type": "execute_result",
          "data": {
            "text/plain": [
              "Index(['Company', 'Laptop_Type', 'Inches', 'ScreenResolution', 'Cpu', 'Ram',\n",
              "       'Memory', 'Gpu', 'OpSys', 'Weight', 'Price', 'Pixels', 'Touchscreen',\n",
              "       'Ips', 'Length', 'Breadth', 'PPI', 'Cpu_Processor', 'CpuFrequencyGHz',\n",
              "       'GpuManufacturer', 'StorageDevice', 'CompanyName', 'WeightKg', 'RamGB',\n",
              "       'MemoryGB', 'Memory_GB'],\n",
              "      dtype='object')"
            ]
          },
          "metadata": {},
          "execution_count": 138
        }
      ],
      "source": [
        "# Displaying the names of all columns in the DataFrame\n",
        "df.columns"
      ]
    },
    {
      "cell_type": "code",
      "source": [
        "# Displaying the first 5 rows of the DataFrame\n",
        "df.head()"
      ],
      "metadata": {
        "colab": {
          "base_uri": "https://localhost:8080/",
          "height": 481
        },
        "id": "-d-9rpW14OIF",
        "outputId": "751acd4e-a33f-4fc1-bbf9-558d40b90d9e"
      },
      "id": "-d-9rpW14OIF",
      "execution_count": 139,
      "outputs": [
        {
          "output_type": "execute_result",
          "data": {
            "text/plain": [
              "  Company Laptop_Type  Inches                    ScreenResolution  \\\n",
              "0   Apple   Ultrabook    13.3  IPS Panel Retina Display 2560x1600   \n",
              "1   Apple   Ultrabook    13.3                            1440x900   \n",
              "2      HP    Notebook    15.6                   Full HD 1920x1080   \n",
              "3   Apple   Ultrabook    15.4  IPS Panel Retina Display 2880x1800   \n",
              "4   Apple   Ultrabook    13.3  IPS Panel Retina Display 2560x1600   \n",
              "\n",
              "                          Cpu   Ram Memory                           Gpu  \\\n",
              "0        Intel Core i5 2.3GHz   8GB  128GB  Intel Iris Plus Graphics 640   \n",
              "1        Intel Core i5 1.8GHz   8GB  128GB        Intel HD Graphics 6000   \n",
              "2  Intel Core i5 7200U 2.5GHz   8GB  256GB         Intel HD Graphics 620   \n",
              "3        Intel Core i7 2.7GHz  16GB  512GB            AMD Radeon Pro 455   \n",
              "4        Intel Core i5 3.1GHz   8GB  256GB  Intel Iris Plus Graphics 650   \n",
              "\n",
              "                OpSys  Weight  ...      PPI  Cpu_Processor CpuFrequencyGHz  \\\n",
              "0                 Mac  1.37kg  ...  202.365  Intel Core i5             2.3   \n",
              "1                 Mac  1.34kg  ...  127.680  Intel Core i5             1.8   \n",
              "2  Others/No OS/Linux  1.86kg  ...  141.210  Intel Core i5             2.5   \n",
              "3                 Mac  1.83kg  ...  202.365  Intel Core i7             2.7   \n",
              "4                 Mac  1.37kg  ...  202.365  Intel Core i5             3.1   \n",
              "\n",
              "  GpuManufacturer  StorageDevice  CompanyName  WeightKg RamGB  MemoryGB  \\\n",
              "0           Intel            SSD        Apple      1.37     8     128GB   \n",
              "1           Intel  Flash Storage        Apple      1.34     8     128GB   \n",
              "2           Intel            SSD           HP      1.86     8     256GB   \n",
              "3             AMD            SSD        Apple      1.83    14     512GB   \n",
              "4           Intel            SSD        Apple      1.37     8     256GB   \n",
              "\n",
              "  Memory_GB  \n",
              "0       128  \n",
              "1       128  \n",
              "2       256  \n",
              "3       512  \n",
              "4       256  \n",
              "\n",
              "[5 rows x 26 columns]"
            ],
            "text/html": [
              "\n",
              "  <div id=\"df-7b1fcde1-2549-40f9-bfe5-8a809890d78e\" class=\"colab-df-container\">\n",
              "    <div>\n",
              "<style scoped>\n",
              "    .dataframe tbody tr th:only-of-type {\n",
              "        vertical-align: middle;\n",
              "    }\n",
              "\n",
              "    .dataframe tbody tr th {\n",
              "        vertical-align: top;\n",
              "    }\n",
              "\n",
              "    .dataframe thead th {\n",
              "        text-align: right;\n",
              "    }\n",
              "</style>\n",
              "<table border=\"1\" class=\"dataframe\">\n",
              "  <thead>\n",
              "    <tr style=\"text-align: right;\">\n",
              "      <th></th>\n",
              "      <th>Company</th>\n",
              "      <th>Laptop_Type</th>\n",
              "      <th>Inches</th>\n",
              "      <th>ScreenResolution</th>\n",
              "      <th>Cpu</th>\n",
              "      <th>Ram</th>\n",
              "      <th>Memory</th>\n",
              "      <th>Gpu</th>\n",
              "      <th>OpSys</th>\n",
              "      <th>Weight</th>\n",
              "      <th>...</th>\n",
              "      <th>PPI</th>\n",
              "      <th>Cpu_Processor</th>\n",
              "      <th>CpuFrequencyGHz</th>\n",
              "      <th>GpuManufacturer</th>\n",
              "      <th>StorageDevice</th>\n",
              "      <th>CompanyName</th>\n",
              "      <th>WeightKg</th>\n",
              "      <th>RamGB</th>\n",
              "      <th>MemoryGB</th>\n",
              "      <th>Memory_GB</th>\n",
              "    </tr>\n",
              "  </thead>\n",
              "  <tbody>\n",
              "    <tr>\n",
              "      <th>0</th>\n",
              "      <td>Apple</td>\n",
              "      <td>Ultrabook</td>\n",
              "      <td>13.3</td>\n",
              "      <td>IPS Panel Retina Display 2560x1600</td>\n",
              "      <td>Intel Core i5 2.3GHz</td>\n",
              "      <td>8GB</td>\n",
              "      <td>128GB</td>\n",
              "      <td>Intel Iris Plus Graphics 640</td>\n",
              "      <td>Mac</td>\n",
              "      <td>1.37kg</td>\n",
              "      <td>...</td>\n",
              "      <td>202.365</td>\n",
              "      <td>Intel Core i5</td>\n",
              "      <td>2.3</td>\n",
              "      <td>Intel</td>\n",
              "      <td>SSD</td>\n",
              "      <td>Apple</td>\n",
              "      <td>1.37</td>\n",
              "      <td>8</td>\n",
              "      <td>128GB</td>\n",
              "      <td>128</td>\n",
              "    </tr>\n",
              "    <tr>\n",
              "      <th>1</th>\n",
              "      <td>Apple</td>\n",
              "      <td>Ultrabook</td>\n",
              "      <td>13.3</td>\n",
              "      <td>1440x900</td>\n",
              "      <td>Intel Core i5 1.8GHz</td>\n",
              "      <td>8GB</td>\n",
              "      <td>128GB</td>\n",
              "      <td>Intel HD Graphics 6000</td>\n",
              "      <td>Mac</td>\n",
              "      <td>1.34kg</td>\n",
              "      <td>...</td>\n",
              "      <td>127.680</td>\n",
              "      <td>Intel Core i5</td>\n",
              "      <td>1.8</td>\n",
              "      <td>Intel</td>\n",
              "      <td>Flash Storage</td>\n",
              "      <td>Apple</td>\n",
              "      <td>1.34</td>\n",
              "      <td>8</td>\n",
              "      <td>128GB</td>\n",
              "      <td>128</td>\n",
              "    </tr>\n",
              "    <tr>\n",
              "      <th>2</th>\n",
              "      <td>HP</td>\n",
              "      <td>Notebook</td>\n",
              "      <td>15.6</td>\n",
              "      <td>Full HD 1920x1080</td>\n",
              "      <td>Intel Core i5 7200U 2.5GHz</td>\n",
              "      <td>8GB</td>\n",
              "      <td>256GB</td>\n",
              "      <td>Intel HD Graphics 620</td>\n",
              "      <td>Others/No OS/Linux</td>\n",
              "      <td>1.86kg</td>\n",
              "      <td>...</td>\n",
              "      <td>141.210</td>\n",
              "      <td>Intel Core i5</td>\n",
              "      <td>2.5</td>\n",
              "      <td>Intel</td>\n",
              "      <td>SSD</td>\n",
              "      <td>HP</td>\n",
              "      <td>1.86</td>\n",
              "      <td>8</td>\n",
              "      <td>256GB</td>\n",
              "      <td>256</td>\n",
              "    </tr>\n",
              "    <tr>\n",
              "      <th>3</th>\n",
              "      <td>Apple</td>\n",
              "      <td>Ultrabook</td>\n",
              "      <td>15.4</td>\n",
              "      <td>IPS Panel Retina Display 2880x1800</td>\n",
              "      <td>Intel Core i7 2.7GHz</td>\n",
              "      <td>16GB</td>\n",
              "      <td>512GB</td>\n",
              "      <td>AMD Radeon Pro 455</td>\n",
              "      <td>Mac</td>\n",
              "      <td>1.83kg</td>\n",
              "      <td>...</td>\n",
              "      <td>202.365</td>\n",
              "      <td>Intel Core i7</td>\n",
              "      <td>2.7</td>\n",
              "      <td>AMD</td>\n",
              "      <td>SSD</td>\n",
              "      <td>Apple</td>\n",
              "      <td>1.83</td>\n",
              "      <td>14</td>\n",
              "      <td>512GB</td>\n",
              "      <td>512</td>\n",
              "    </tr>\n",
              "    <tr>\n",
              "      <th>4</th>\n",
              "      <td>Apple</td>\n",
              "      <td>Ultrabook</td>\n",
              "      <td>13.3</td>\n",
              "      <td>IPS Panel Retina Display 2560x1600</td>\n",
              "      <td>Intel Core i5 3.1GHz</td>\n",
              "      <td>8GB</td>\n",
              "      <td>256GB</td>\n",
              "      <td>Intel Iris Plus Graphics 650</td>\n",
              "      <td>Mac</td>\n",
              "      <td>1.37kg</td>\n",
              "      <td>...</td>\n",
              "      <td>202.365</td>\n",
              "      <td>Intel Core i5</td>\n",
              "      <td>3.1</td>\n",
              "      <td>Intel</td>\n",
              "      <td>SSD</td>\n",
              "      <td>Apple</td>\n",
              "      <td>1.37</td>\n",
              "      <td>8</td>\n",
              "      <td>256GB</td>\n",
              "      <td>256</td>\n",
              "    </tr>\n",
              "  </tbody>\n",
              "</table>\n",
              "<p>5 rows × 26 columns</p>\n",
              "</div>\n",
              "    <div class=\"colab-df-buttons\">\n",
              "\n",
              "  <div class=\"colab-df-container\">\n",
              "    <button class=\"colab-df-convert\" onclick=\"convertToInteractive('df-7b1fcde1-2549-40f9-bfe5-8a809890d78e')\"\n",
              "            title=\"Convert this dataframe to an interactive table.\"\n",
              "            style=\"display:none;\">\n",
              "\n",
              "  <svg xmlns=\"http://www.w3.org/2000/svg\" height=\"24px\" viewBox=\"0 -960 960 960\">\n",
              "    <path d=\"M120-120v-720h720v720H120Zm60-500h600v-160H180v160Zm220 220h160v-160H400v160Zm0 220h160v-160H400v160ZM180-400h160v-160H180v160Zm440 0h160v-160H620v160ZM180-180h160v-160H180v160Zm440 0h160v-160H620v160Z\"/>\n",
              "  </svg>\n",
              "    </button>\n",
              "\n",
              "  <style>\n",
              "    .colab-df-container {\n",
              "      display:flex;\n",
              "      gap: 12px;\n",
              "    }\n",
              "\n",
              "    .colab-df-convert {\n",
              "      background-color: #E8F0FE;\n",
              "      border: none;\n",
              "      border-radius: 50%;\n",
              "      cursor: pointer;\n",
              "      display: none;\n",
              "      fill: #1967D2;\n",
              "      height: 32px;\n",
              "      padding: 0 0 0 0;\n",
              "      width: 32px;\n",
              "    }\n",
              "\n",
              "    .colab-df-convert:hover {\n",
              "      background-color: #E2EBFA;\n",
              "      box-shadow: 0px 1px 2px rgba(60, 64, 67, 0.3), 0px 1px 3px 1px rgba(60, 64, 67, 0.15);\n",
              "      fill: #174EA6;\n",
              "    }\n",
              "\n",
              "    .colab-df-buttons div {\n",
              "      margin-bottom: 4px;\n",
              "    }\n",
              "\n",
              "    [theme=dark] .colab-df-convert {\n",
              "      background-color: #3B4455;\n",
              "      fill: #D2E3FC;\n",
              "    }\n",
              "\n",
              "    [theme=dark] .colab-df-convert:hover {\n",
              "      background-color: #434B5C;\n",
              "      box-shadow: 0px 1px 3px 1px rgba(0, 0, 0, 0.15);\n",
              "      filter: drop-shadow(0px 1px 2px rgba(0, 0, 0, 0.3));\n",
              "      fill: #FFFFFF;\n",
              "    }\n",
              "  </style>\n",
              "\n",
              "    <script>\n",
              "      const buttonEl =\n",
              "        document.querySelector('#df-7b1fcde1-2549-40f9-bfe5-8a809890d78e button.colab-df-convert');\n",
              "      buttonEl.style.display =\n",
              "        google.colab.kernel.accessAllowed ? 'block' : 'none';\n",
              "\n",
              "      async function convertToInteractive(key) {\n",
              "        const element = document.querySelector('#df-7b1fcde1-2549-40f9-bfe5-8a809890d78e');\n",
              "        const dataTable =\n",
              "          await google.colab.kernel.invokeFunction('convertToInteractive',\n",
              "                                                    [key], {});\n",
              "        if (!dataTable) return;\n",
              "\n",
              "        const docLinkHtml = 'Like what you see? Visit the ' +\n",
              "          '<a target=\"_blank\" href=https://colab.research.google.com/notebooks/data_table.ipynb>data table notebook</a>'\n",
              "          + ' to learn more about interactive tables.';\n",
              "        element.innerHTML = '';\n",
              "        dataTable['output_type'] = 'display_data';\n",
              "        await google.colab.output.renderOutput(dataTable, element);\n",
              "        const docLink = document.createElement('div');\n",
              "        docLink.innerHTML = docLinkHtml;\n",
              "        element.appendChild(docLink);\n",
              "      }\n",
              "    </script>\n",
              "  </div>\n",
              "\n",
              "\n",
              "<div id=\"df-4d253492-e021-4c26-b677-048d77cfe609\">\n",
              "  <button class=\"colab-df-quickchart\" onclick=\"quickchart('df-4d253492-e021-4c26-b677-048d77cfe609')\"\n",
              "            title=\"Suggest charts\"\n",
              "            style=\"display:none;\">\n",
              "\n",
              "<svg xmlns=\"http://www.w3.org/2000/svg\" height=\"24px\"viewBox=\"0 0 24 24\"\n",
              "     width=\"24px\">\n",
              "    <g>\n",
              "        <path d=\"M19 3H5c-1.1 0-2 .9-2 2v14c0 1.1.9 2 2 2h14c1.1 0 2-.9 2-2V5c0-1.1-.9-2-2-2zM9 17H7v-7h2v7zm4 0h-2V7h2v10zm4 0h-2v-4h2v4z\"/>\n",
              "    </g>\n",
              "</svg>\n",
              "  </button>\n",
              "\n",
              "<style>\n",
              "  .colab-df-quickchart {\n",
              "      --bg-color: #E8F0FE;\n",
              "      --fill-color: #1967D2;\n",
              "      --hover-bg-color: #E2EBFA;\n",
              "      --hover-fill-color: #174EA6;\n",
              "      --disabled-fill-color: #AAA;\n",
              "      --disabled-bg-color: #DDD;\n",
              "  }\n",
              "\n",
              "  [theme=dark] .colab-df-quickchart {\n",
              "      --bg-color: #3B4455;\n",
              "      --fill-color: #D2E3FC;\n",
              "      --hover-bg-color: #434B5C;\n",
              "      --hover-fill-color: #FFFFFF;\n",
              "      --disabled-bg-color: #3B4455;\n",
              "      --disabled-fill-color: #666;\n",
              "  }\n",
              "\n",
              "  .colab-df-quickchart {\n",
              "    background-color: var(--bg-color);\n",
              "    border: none;\n",
              "    border-radius: 50%;\n",
              "    cursor: pointer;\n",
              "    display: none;\n",
              "    fill: var(--fill-color);\n",
              "    height: 32px;\n",
              "    padding: 0;\n",
              "    width: 32px;\n",
              "  }\n",
              "\n",
              "  .colab-df-quickchart:hover {\n",
              "    background-color: var(--hover-bg-color);\n",
              "    box-shadow: 0 1px 2px rgba(60, 64, 67, 0.3), 0 1px 3px 1px rgba(60, 64, 67, 0.15);\n",
              "    fill: var(--button-hover-fill-color);\n",
              "  }\n",
              "\n",
              "  .colab-df-quickchart-complete:disabled,\n",
              "  .colab-df-quickchart-complete:disabled:hover {\n",
              "    background-color: var(--disabled-bg-color);\n",
              "    fill: var(--disabled-fill-color);\n",
              "    box-shadow: none;\n",
              "  }\n",
              "\n",
              "  .colab-df-spinner {\n",
              "    border: 2px solid var(--fill-color);\n",
              "    border-color: transparent;\n",
              "    border-bottom-color: var(--fill-color);\n",
              "    animation:\n",
              "      spin 1s steps(1) infinite;\n",
              "  }\n",
              "\n",
              "  @keyframes spin {\n",
              "    0% {\n",
              "      border-color: transparent;\n",
              "      border-bottom-color: var(--fill-color);\n",
              "      border-left-color: var(--fill-color);\n",
              "    }\n",
              "    20% {\n",
              "      border-color: transparent;\n",
              "      border-left-color: var(--fill-color);\n",
              "      border-top-color: var(--fill-color);\n",
              "    }\n",
              "    30% {\n",
              "      border-color: transparent;\n",
              "      border-left-color: var(--fill-color);\n",
              "      border-top-color: var(--fill-color);\n",
              "      border-right-color: var(--fill-color);\n",
              "    }\n",
              "    40% {\n",
              "      border-color: transparent;\n",
              "      border-right-color: var(--fill-color);\n",
              "      border-top-color: var(--fill-color);\n",
              "    }\n",
              "    60% {\n",
              "      border-color: transparent;\n",
              "      border-right-color: var(--fill-color);\n",
              "    }\n",
              "    80% {\n",
              "      border-color: transparent;\n",
              "      border-right-color: var(--fill-color);\n",
              "      border-bottom-color: var(--fill-color);\n",
              "    }\n",
              "    90% {\n",
              "      border-color: transparent;\n",
              "      border-bottom-color: var(--fill-color);\n",
              "    }\n",
              "  }\n",
              "</style>\n",
              "\n",
              "  <script>\n",
              "    async function quickchart(key) {\n",
              "      const quickchartButtonEl =\n",
              "        document.querySelector('#' + key + ' button');\n",
              "      quickchartButtonEl.disabled = true;  // To prevent multiple clicks.\n",
              "      quickchartButtonEl.classList.add('colab-df-spinner');\n",
              "      try {\n",
              "        const charts = await google.colab.kernel.invokeFunction(\n",
              "            'suggestCharts', [key], {});\n",
              "      } catch (error) {\n",
              "        console.error('Error during call to suggestCharts:', error);\n",
              "      }\n",
              "      quickchartButtonEl.classList.remove('colab-df-spinner');\n",
              "      quickchartButtonEl.classList.add('colab-df-quickchart-complete');\n",
              "    }\n",
              "    (() => {\n",
              "      let quickchartButtonEl =\n",
              "        document.querySelector('#df-4d253492-e021-4c26-b677-048d77cfe609 button');\n",
              "      quickchartButtonEl.style.display =\n",
              "        google.colab.kernel.accessAllowed ? 'block' : 'none';\n",
              "    })();\n",
              "  </script>\n",
              "</div>\n",
              "\n",
              "    </div>\n",
              "  </div>\n"
            ],
            "application/vnd.google.colaboratory.intrinsic+json": {
              "type": "dataframe",
              "variable_name": "df"
            }
          },
          "metadata": {},
          "execution_count": 139
        }
      ]
    },
    {
      "cell_type": "code",
      "execution_count": 140,
      "id": "e5ac2cf0-1e90-4fd3-b3f7-c3691414ed24",
      "metadata": {
        "id": "e5ac2cf0-1e90-4fd3-b3f7-c3691414ed24"
      },
      "outputs": [],
      "source": [
        "# Dropping the columns that are not necessary for the prediction model from the DataFrame\n",
        "df.drop(columns=['Company','Memory', 'Inches', 'ScreenResolution', 'Cpu', 'Ram','Memory','Gpu', 'Weight', 'Pixels','Length', 'Breadth', 'PPI','WeightKg','MemoryGB'],axis=1,inplace=True)"
      ]
    },
    {
      "cell_type": "code",
      "source": [
        "df.head()"
      ],
      "metadata": {
        "id": "IN-NX2BTovND",
        "colab": {
          "base_uri": "https://localhost:8080/",
          "height": 206
        },
        "outputId": "1867ec19-c7c6-429e-c00d-c7116a38b3ff"
      },
      "id": "IN-NX2BTovND",
      "execution_count": 141,
      "outputs": [
        {
          "output_type": "execute_result",
          "data": {
            "text/plain": [
              "  Laptop_Type               OpSys        Price Touchscreen  Ips  \\\n",
              "0   Ultrabook                 Mac   71378.6832          No  Yes   \n",
              "1   Ultrabook                 Mac   47895.5232          No   No   \n",
              "2    Notebook  Others/No OS/Linux   30636.0000          No   No   \n",
              "3   Ultrabook                 Mac  135195.3360          No  Yes   \n",
              "4   Ultrabook                 Mac   96095.8080          No  Yes   \n",
              "\n",
              "   Cpu_Processor  CpuFrequencyGHz GpuManufacturer  StorageDevice CompanyName  \\\n",
              "0  Intel Core i5              2.3           Intel            SSD       Apple   \n",
              "1  Intel Core i5              1.8           Intel  Flash Storage       Apple   \n",
              "2  Intel Core i5              2.5           Intel            SSD          HP   \n",
              "3  Intel Core i7              2.7             AMD            SSD       Apple   \n",
              "4  Intel Core i5              3.1           Intel            SSD       Apple   \n",
              "\n",
              "   RamGB  Memory_GB  \n",
              "0      8        128  \n",
              "1      8        128  \n",
              "2      8        256  \n",
              "3     14        512  \n",
              "4      8        256  "
            ],
            "text/html": [
              "\n",
              "  <div id=\"df-d4427aee-e52b-4c4b-8a05-20455b480b76\" class=\"colab-df-container\">\n",
              "    <div>\n",
              "<style scoped>\n",
              "    .dataframe tbody tr th:only-of-type {\n",
              "        vertical-align: middle;\n",
              "    }\n",
              "\n",
              "    .dataframe tbody tr th {\n",
              "        vertical-align: top;\n",
              "    }\n",
              "\n",
              "    .dataframe thead th {\n",
              "        text-align: right;\n",
              "    }\n",
              "</style>\n",
              "<table border=\"1\" class=\"dataframe\">\n",
              "  <thead>\n",
              "    <tr style=\"text-align: right;\">\n",
              "      <th></th>\n",
              "      <th>Laptop_Type</th>\n",
              "      <th>OpSys</th>\n",
              "      <th>Price</th>\n",
              "      <th>Touchscreen</th>\n",
              "      <th>Ips</th>\n",
              "      <th>Cpu_Processor</th>\n",
              "      <th>CpuFrequencyGHz</th>\n",
              "      <th>GpuManufacturer</th>\n",
              "      <th>StorageDevice</th>\n",
              "      <th>CompanyName</th>\n",
              "      <th>RamGB</th>\n",
              "      <th>Memory_GB</th>\n",
              "    </tr>\n",
              "  </thead>\n",
              "  <tbody>\n",
              "    <tr>\n",
              "      <th>0</th>\n",
              "      <td>Ultrabook</td>\n",
              "      <td>Mac</td>\n",
              "      <td>71378.6832</td>\n",
              "      <td>No</td>\n",
              "      <td>Yes</td>\n",
              "      <td>Intel Core i5</td>\n",
              "      <td>2.3</td>\n",
              "      <td>Intel</td>\n",
              "      <td>SSD</td>\n",
              "      <td>Apple</td>\n",
              "      <td>8</td>\n",
              "      <td>128</td>\n",
              "    </tr>\n",
              "    <tr>\n",
              "      <th>1</th>\n",
              "      <td>Ultrabook</td>\n",
              "      <td>Mac</td>\n",
              "      <td>47895.5232</td>\n",
              "      <td>No</td>\n",
              "      <td>No</td>\n",
              "      <td>Intel Core i5</td>\n",
              "      <td>1.8</td>\n",
              "      <td>Intel</td>\n",
              "      <td>Flash Storage</td>\n",
              "      <td>Apple</td>\n",
              "      <td>8</td>\n",
              "      <td>128</td>\n",
              "    </tr>\n",
              "    <tr>\n",
              "      <th>2</th>\n",
              "      <td>Notebook</td>\n",
              "      <td>Others/No OS/Linux</td>\n",
              "      <td>30636.0000</td>\n",
              "      <td>No</td>\n",
              "      <td>No</td>\n",
              "      <td>Intel Core i5</td>\n",
              "      <td>2.5</td>\n",
              "      <td>Intel</td>\n",
              "      <td>SSD</td>\n",
              "      <td>HP</td>\n",
              "      <td>8</td>\n",
              "      <td>256</td>\n",
              "    </tr>\n",
              "    <tr>\n",
              "      <th>3</th>\n",
              "      <td>Ultrabook</td>\n",
              "      <td>Mac</td>\n",
              "      <td>135195.3360</td>\n",
              "      <td>No</td>\n",
              "      <td>Yes</td>\n",
              "      <td>Intel Core i7</td>\n",
              "      <td>2.7</td>\n",
              "      <td>AMD</td>\n",
              "      <td>SSD</td>\n",
              "      <td>Apple</td>\n",
              "      <td>14</td>\n",
              "      <td>512</td>\n",
              "    </tr>\n",
              "    <tr>\n",
              "      <th>4</th>\n",
              "      <td>Ultrabook</td>\n",
              "      <td>Mac</td>\n",
              "      <td>96095.8080</td>\n",
              "      <td>No</td>\n",
              "      <td>Yes</td>\n",
              "      <td>Intel Core i5</td>\n",
              "      <td>3.1</td>\n",
              "      <td>Intel</td>\n",
              "      <td>SSD</td>\n",
              "      <td>Apple</td>\n",
              "      <td>8</td>\n",
              "      <td>256</td>\n",
              "    </tr>\n",
              "  </tbody>\n",
              "</table>\n",
              "</div>\n",
              "    <div class=\"colab-df-buttons\">\n",
              "\n",
              "  <div class=\"colab-df-container\">\n",
              "    <button class=\"colab-df-convert\" onclick=\"convertToInteractive('df-d4427aee-e52b-4c4b-8a05-20455b480b76')\"\n",
              "            title=\"Convert this dataframe to an interactive table.\"\n",
              "            style=\"display:none;\">\n",
              "\n",
              "  <svg xmlns=\"http://www.w3.org/2000/svg\" height=\"24px\" viewBox=\"0 -960 960 960\">\n",
              "    <path d=\"M120-120v-720h720v720H120Zm60-500h600v-160H180v160Zm220 220h160v-160H400v160Zm0 220h160v-160H400v160ZM180-400h160v-160H180v160Zm440 0h160v-160H620v160ZM180-180h160v-160H180v160Zm440 0h160v-160H620v160Z\"/>\n",
              "  </svg>\n",
              "    </button>\n",
              "\n",
              "  <style>\n",
              "    .colab-df-container {\n",
              "      display:flex;\n",
              "      gap: 12px;\n",
              "    }\n",
              "\n",
              "    .colab-df-convert {\n",
              "      background-color: #E8F0FE;\n",
              "      border: none;\n",
              "      border-radius: 50%;\n",
              "      cursor: pointer;\n",
              "      display: none;\n",
              "      fill: #1967D2;\n",
              "      height: 32px;\n",
              "      padding: 0 0 0 0;\n",
              "      width: 32px;\n",
              "    }\n",
              "\n",
              "    .colab-df-convert:hover {\n",
              "      background-color: #E2EBFA;\n",
              "      box-shadow: 0px 1px 2px rgba(60, 64, 67, 0.3), 0px 1px 3px 1px rgba(60, 64, 67, 0.15);\n",
              "      fill: #174EA6;\n",
              "    }\n",
              "\n",
              "    .colab-df-buttons div {\n",
              "      margin-bottom: 4px;\n",
              "    }\n",
              "\n",
              "    [theme=dark] .colab-df-convert {\n",
              "      background-color: #3B4455;\n",
              "      fill: #D2E3FC;\n",
              "    }\n",
              "\n",
              "    [theme=dark] .colab-df-convert:hover {\n",
              "      background-color: #434B5C;\n",
              "      box-shadow: 0px 1px 3px 1px rgba(0, 0, 0, 0.15);\n",
              "      filter: drop-shadow(0px 1px 2px rgba(0, 0, 0, 0.3));\n",
              "      fill: #FFFFFF;\n",
              "    }\n",
              "  </style>\n",
              "\n",
              "    <script>\n",
              "      const buttonEl =\n",
              "        document.querySelector('#df-d4427aee-e52b-4c4b-8a05-20455b480b76 button.colab-df-convert');\n",
              "      buttonEl.style.display =\n",
              "        google.colab.kernel.accessAllowed ? 'block' : 'none';\n",
              "\n",
              "      async function convertToInteractive(key) {\n",
              "        const element = document.querySelector('#df-d4427aee-e52b-4c4b-8a05-20455b480b76');\n",
              "        const dataTable =\n",
              "          await google.colab.kernel.invokeFunction('convertToInteractive',\n",
              "                                                    [key], {});\n",
              "        if (!dataTable) return;\n",
              "\n",
              "        const docLinkHtml = 'Like what you see? Visit the ' +\n",
              "          '<a target=\"_blank\" href=https://colab.research.google.com/notebooks/data_table.ipynb>data table notebook</a>'\n",
              "          + ' to learn more about interactive tables.';\n",
              "        element.innerHTML = '';\n",
              "        dataTable['output_type'] = 'display_data';\n",
              "        await google.colab.output.renderOutput(dataTable, element);\n",
              "        const docLink = document.createElement('div');\n",
              "        docLink.innerHTML = docLinkHtml;\n",
              "        element.appendChild(docLink);\n",
              "      }\n",
              "    </script>\n",
              "  </div>\n",
              "\n",
              "\n",
              "<div id=\"df-2a4b1936-615c-42da-af80-fd03b556b9d9\">\n",
              "  <button class=\"colab-df-quickchart\" onclick=\"quickchart('df-2a4b1936-615c-42da-af80-fd03b556b9d9')\"\n",
              "            title=\"Suggest charts\"\n",
              "            style=\"display:none;\">\n",
              "\n",
              "<svg xmlns=\"http://www.w3.org/2000/svg\" height=\"24px\"viewBox=\"0 0 24 24\"\n",
              "     width=\"24px\">\n",
              "    <g>\n",
              "        <path d=\"M19 3H5c-1.1 0-2 .9-2 2v14c0 1.1.9 2 2 2h14c1.1 0 2-.9 2-2V5c0-1.1-.9-2-2-2zM9 17H7v-7h2v7zm4 0h-2V7h2v10zm4 0h-2v-4h2v4z\"/>\n",
              "    </g>\n",
              "</svg>\n",
              "  </button>\n",
              "\n",
              "<style>\n",
              "  .colab-df-quickchart {\n",
              "      --bg-color: #E8F0FE;\n",
              "      --fill-color: #1967D2;\n",
              "      --hover-bg-color: #E2EBFA;\n",
              "      --hover-fill-color: #174EA6;\n",
              "      --disabled-fill-color: #AAA;\n",
              "      --disabled-bg-color: #DDD;\n",
              "  }\n",
              "\n",
              "  [theme=dark] .colab-df-quickchart {\n",
              "      --bg-color: #3B4455;\n",
              "      --fill-color: #D2E3FC;\n",
              "      --hover-bg-color: #434B5C;\n",
              "      --hover-fill-color: #FFFFFF;\n",
              "      --disabled-bg-color: #3B4455;\n",
              "      --disabled-fill-color: #666;\n",
              "  }\n",
              "\n",
              "  .colab-df-quickchart {\n",
              "    background-color: var(--bg-color);\n",
              "    border: none;\n",
              "    border-radius: 50%;\n",
              "    cursor: pointer;\n",
              "    display: none;\n",
              "    fill: var(--fill-color);\n",
              "    height: 32px;\n",
              "    padding: 0;\n",
              "    width: 32px;\n",
              "  }\n",
              "\n",
              "  .colab-df-quickchart:hover {\n",
              "    background-color: var(--hover-bg-color);\n",
              "    box-shadow: 0 1px 2px rgba(60, 64, 67, 0.3), 0 1px 3px 1px rgba(60, 64, 67, 0.15);\n",
              "    fill: var(--button-hover-fill-color);\n",
              "  }\n",
              "\n",
              "  .colab-df-quickchart-complete:disabled,\n",
              "  .colab-df-quickchart-complete:disabled:hover {\n",
              "    background-color: var(--disabled-bg-color);\n",
              "    fill: var(--disabled-fill-color);\n",
              "    box-shadow: none;\n",
              "  }\n",
              "\n",
              "  .colab-df-spinner {\n",
              "    border: 2px solid var(--fill-color);\n",
              "    border-color: transparent;\n",
              "    border-bottom-color: var(--fill-color);\n",
              "    animation:\n",
              "      spin 1s steps(1) infinite;\n",
              "  }\n",
              "\n",
              "  @keyframes spin {\n",
              "    0% {\n",
              "      border-color: transparent;\n",
              "      border-bottom-color: var(--fill-color);\n",
              "      border-left-color: var(--fill-color);\n",
              "    }\n",
              "    20% {\n",
              "      border-color: transparent;\n",
              "      border-left-color: var(--fill-color);\n",
              "      border-top-color: var(--fill-color);\n",
              "    }\n",
              "    30% {\n",
              "      border-color: transparent;\n",
              "      border-left-color: var(--fill-color);\n",
              "      border-top-color: var(--fill-color);\n",
              "      border-right-color: var(--fill-color);\n",
              "    }\n",
              "    40% {\n",
              "      border-color: transparent;\n",
              "      border-right-color: var(--fill-color);\n",
              "      border-top-color: var(--fill-color);\n",
              "    }\n",
              "    60% {\n",
              "      border-color: transparent;\n",
              "      border-right-color: var(--fill-color);\n",
              "    }\n",
              "    80% {\n",
              "      border-color: transparent;\n",
              "      border-right-color: var(--fill-color);\n",
              "      border-bottom-color: var(--fill-color);\n",
              "    }\n",
              "    90% {\n",
              "      border-color: transparent;\n",
              "      border-bottom-color: var(--fill-color);\n",
              "    }\n",
              "  }\n",
              "</style>\n",
              "\n",
              "  <script>\n",
              "    async function quickchart(key) {\n",
              "      const quickchartButtonEl =\n",
              "        document.querySelector('#' + key + ' button');\n",
              "      quickchartButtonEl.disabled = true;  // To prevent multiple clicks.\n",
              "      quickchartButtonEl.classList.add('colab-df-spinner');\n",
              "      try {\n",
              "        const charts = await google.colab.kernel.invokeFunction(\n",
              "            'suggestCharts', [key], {});\n",
              "      } catch (error) {\n",
              "        console.error('Error during call to suggestCharts:', error);\n",
              "      }\n",
              "      quickchartButtonEl.classList.remove('colab-df-spinner');\n",
              "      quickchartButtonEl.classList.add('colab-df-quickchart-complete');\n",
              "    }\n",
              "    (() => {\n",
              "      let quickchartButtonEl =\n",
              "        document.querySelector('#df-2a4b1936-615c-42da-af80-fd03b556b9d9 button');\n",
              "      quickchartButtonEl.style.display =\n",
              "        google.colab.kernel.accessAllowed ? 'block' : 'none';\n",
              "    })();\n",
              "  </script>\n",
              "</div>\n",
              "\n",
              "    </div>\n",
              "  </div>\n"
            ],
            "application/vnd.google.colaboratory.intrinsic+json": {
              "type": "dataframe",
              "variable_name": "df",
              "summary": "{\n  \"name\": \"df\",\n  \"rows\": 1272,\n  \"fields\": [\n    {\n      \"column\": \"Laptop_Type\",\n      \"properties\": {\n        \"dtype\": \"category\",\n        \"num_unique_values\": 6,\n        \"samples\": [\n          \"Ultrabook\",\n          \"Notebook\",\n          \"Netbook\"\n        ],\n        \"semantic_type\": \"\",\n        \"description\": \"\"\n      }\n    },\n    {\n      \"column\": \"OpSys\",\n      \"properties\": {\n        \"dtype\": \"category\",\n        \"num_unique_values\": 3,\n        \"samples\": [\n          \"Mac\",\n          \"Others/No OS/Linux\",\n          \"Windows\"\n        ],\n        \"semantic_type\": \"\",\n        \"description\": \"\"\n      }\n    },\n    {\n      \"column\": \"Price\",\n      \"properties\": {\n        \"dtype\": \"number\",\n        \"std\": 34357.460804970266,\n        \"min\": 9270.72,\n        \"max\": 150495.021,\n        \"num_unique_values\": 753,\n        \"samples\": [\n          70702.56,\n          102777.12,\n          42486.0048\n        ],\n        \"semantic_type\": \"\",\n        \"description\": \"\"\n      }\n    },\n    {\n      \"column\": \"Touchscreen\",\n      \"properties\": {\n        \"dtype\": \"category\",\n        \"num_unique_values\": 2,\n        \"samples\": [\n          \"Yes\",\n          \"No\"\n        ],\n        \"semantic_type\": \"\",\n        \"description\": \"\"\n      }\n    },\n    {\n      \"column\": \"Ips\",\n      \"properties\": {\n        \"dtype\": \"category\",\n        \"num_unique_values\": 2,\n        \"samples\": [\n          \"No\",\n          \"Yes\"\n        ],\n        \"semantic_type\": \"\",\n        \"description\": \"\"\n      }\n    },\n    {\n      \"column\": \"Cpu_Processor\",\n      \"properties\": {\n        \"dtype\": \"category\",\n        \"num_unique_values\": 5,\n        \"samples\": [\n          \"Intel Core i7\",\n          \"Other Intel Processor\"\n        ],\n        \"semantic_type\": \"\",\n        \"description\": \"\"\n      }\n    },\n    {\n      \"column\": \"CpuFrequencyGHz\",\n      \"properties\": {\n        \"dtype\": \"number\",\n        \"std\": 0.507248391597276,\n        \"min\": 0.9,\n        \"max\": 3.6,\n        \"num_unique_values\": 25,\n        \"samples\": [\n          2.0,\n          1.1\n        ],\n        \"semantic_type\": \"\",\n        \"description\": \"\"\n      }\n    },\n    {\n      \"column\": \"GpuManufacturer\",\n      \"properties\": {\n        \"dtype\": \"category\",\n        \"num_unique_values\": 3,\n        \"samples\": [\n          \"Intel\",\n          \"AMD\"\n        ],\n        \"semantic_type\": \"\",\n        \"description\": \"\"\n      }\n    },\n    {\n      \"column\": \"StorageDevice\",\n      \"properties\": {\n        \"dtype\": \"category\",\n        \"num_unique_values\": 4,\n        \"samples\": [\n          \"Flash Storage\",\n          \"Hybrid\"\n        ],\n        \"semantic_type\": \"\",\n        \"description\": \"\"\n      }\n    },\n    {\n      \"column\": \"CompanyName\",\n      \"properties\": {\n        \"dtype\": \"category\",\n        \"num_unique_values\": 9,\n        \"samples\": [\n          \"MSI\",\n          \"HP\"\n        ],\n        \"semantic_type\": \"\",\n        \"description\": \"\"\n      }\n    },\n    {\n      \"column\": \"RamGB\",\n      \"properties\": {\n        \"dtype\": \"number\",\n        \"std\": 3,\n        \"min\": 2,\n        \"max\": 14,\n        \"num_unique_values\": 6,\n        \"samples\": [\n          8,\n          14\n        ],\n        \"semantic_type\": \"\",\n        \"description\": \"\"\n      }\n    },\n    {\n      \"column\": \"Memory_GB\",\n      \"properties\": {\n        \"dtype\": \"number\",\n        \"std\": 356,\n        \"min\": 16,\n        \"max\": 2000,\n        \"num_unique_values\": 10,\n        \"samples\": [\n          16,\n          256\n        ],\n        \"semantic_type\": \"\",\n        \"description\": \"\"\n      }\n    }\n  ]\n}"
            }
          },
          "metadata": {},
          "execution_count": 141
        }
      ]
    },
    {
      "cell_type": "code",
      "source": [
        "correlaton_matrix=df.corr(numeric_only=True)\n",
        "correlaton_matrix[\"Price\"].sort_values(ascending=False)"
      ],
      "metadata": {
        "id": "cxN42SEQt-Tj",
        "outputId": "d71d87d0-7ba7-46b4-d121-07bad1a7efcc",
        "colab": {
          "base_uri": "https://localhost:8080/"
        }
      },
      "id": "cxN42SEQt-Tj",
      "execution_count": 142,
      "outputs": [
        {
          "output_type": "execute_result",
          "data": {
            "text/plain": [
              "Price              1.000000\n",
              "RamGB              0.739397\n",
              "CpuFrequencyGHz    0.441527\n",
              "Memory_GB         -0.153866\n",
              "Name: Price, dtype: float64"
            ]
          },
          "metadata": {},
          "execution_count": 142
        }
      ]
    },
    {
      "cell_type": "code",
      "execution_count": 143,
      "id": "BJuxH0bllJL3",
      "metadata": {
        "colab": {
          "base_uri": "https://localhost:8080/"
        },
        "id": "BJuxH0bllJL3",
        "outputId": "f447eb06-bb82-4366-ed05-daba9d61b5c2"
      },
      "outputs": [
        {
          "output_type": "stream",
          "name": "stdout",
          "text": [
            "<class 'pandas.core.frame.DataFrame'>\n",
            "Index: 1272 entries, 0 to 1302\n",
            "Data columns (total 12 columns):\n",
            " #   Column           Non-Null Count  Dtype  \n",
            "---  ------           --------------  -----  \n",
            " 0   Laptop_Type      1272 non-null   object \n",
            " 1   OpSys            1272 non-null   object \n",
            " 2   Price            1272 non-null   float64\n",
            " 3   Touchscreen      1272 non-null   object \n",
            " 4   Ips              1272 non-null   object \n",
            " 5   Cpu_Processor    1272 non-null   object \n",
            " 6   CpuFrequencyGHz  1272 non-null   float64\n",
            " 7   GpuManufacturer  1272 non-null   object \n",
            " 8   StorageDevice    1272 non-null   object \n",
            " 9   CompanyName      1272 non-null   object \n",
            " 10  RamGB            1272 non-null   int64  \n",
            " 11  Memory_GB        1272 non-null   int64  \n",
            "dtypes: float64(2), int64(2), object(8)\n",
            "memory usage: 129.2+ KB\n"
          ]
        }
      ],
      "source": [
        "# Displaying a concise summary of the DataFrame\n",
        "df.info()"
      ]
    },
    {
      "cell_type": "code",
      "source": [
        "plt.figure(figsize=(30,15))\n",
        "plt.subplot(3,3,1)\n",
        "sns.barplot(df,x=\"Laptop_Type\",y=\"Price\",errorbar=None)\n",
        "plt.subplot(3,3,2)\n",
        "sns.barplot(df,x=\"OpSys\",y=\"Price\",errorbar=None)\n",
        "plt.subplot(3,3,3)\n",
        "sns.barplot(df,x=\"Cpu_Processor\",y=\"Price\",errorbar=None)\n",
        "plt.subplot(3,3,4)\n",
        "sns.barplot(df,x=\"GpuManufacturer\",y=\"Price\",errorbar=None)\n",
        "plt.subplot(3,3,5)\n",
        "sns.barplot(df,x=\"StorageDevice\",y=\"Price\",errorbar=None)\n",
        "plt.subplot(3,3,6)\n",
        "sns.barplot(df,x=\"CompanyName\",y=\"Price\",errorbar=None)\n",
        "plt.subplot(3,3,7)\n",
        "sns.barplot(df,x=\"Touchscreen\",y=\"Price\",errorbar=None)\n",
        "plt.subplot(3,3,8)\n",
        "sns.barplot(df,x=\"Ips\",y=\"Price\",errorbar=None)\n"
      ],
      "metadata": {
        "colab": {
          "base_uri": "https://localhost:8080/",
          "height": 736
        },
        "id": "BpnNPF_jXlWk",
        "outputId": "26eaeae8-fa4b-4a21-feaf-fefec99f8aa8"
      },
      "id": "BpnNPF_jXlWk",
      "execution_count": 144,
      "outputs": [
        {
          "output_type": "execute_result",
          "data": {
            "text/plain": [
              "<Axes: xlabel='Ips', ylabel='Price'>"
            ]
          },
          "metadata": {},
          "execution_count": 144
        },
        {
          "output_type": "display_data",
          "data": {
            "text/plain": [
              "<Figure size 3000x1500 with 8 Axes>"
            ],
            "image/png": "[encoded data removed]"
          },
          "metadata": {}
        }
      ]
    },
    {
      "cell_type": "code",
      "source": [
        "plt.figure(figsize=(30,10))\n",
        "plt.subplot(1,3,1)\n",
        "sns.scatterplot(df,x=\"CpuFrequencyGHz\",y=\"Price\")\n",
        "plt.subplot(1,3,2)\n",
        "sns.scatterplot(df,x=\"RamGB\",y=\"Price\")\n",
        "plt.subplot(1,3,3)\n",
        "sns.scatterplot(df,x=\"Memory_GB\",y=\"Price\")"
      ],
      "metadata": {
        "colab": {
          "base_uri": "https://localhost:8080/",
          "height": 514
        },
        "id": "UkqQKWH_bDbv",
        "outputId": "36d8f772-0a5c-4a93-bc0e-6b7e10e091ca"
      },
      "id": "UkqQKWH_bDbv",
      "execution_count": 145,
      "outputs": [
        {
          "output_type": "execute_result",
          "data": {
            "text/plain": [
              "<Axes: xlabel='Memory_GB', ylabel='Price'>"
            ]
          },
          "metadata": {},
          "execution_count": 145
        },
        {
          "output_type": "display_data",
          "data": {
            "text/plain": [
              "<Figure size 3000x1000 with 3 Axes>"
            ],
            "image/png": "[encoded data removed]"
          },
          "metadata": {}
        }
      ]
    },
    {
      "cell_type": "code",
      "execution_count": 146,
      "id": "2WFjdzsc4l5c",
      "metadata": {
        "colab": {
          "base_uri": "https://localhost:8080/"
        },
        "id": "2WFjdzsc4l5c",
        "outputId": "a95db825-c12a-4d84-a395-a8affcb0031c"
      },
      "outputs": [
        {
          "output_type": "execute_result",
          "data": {
            "text/plain": [
              "Index(['Laptop_Type', 'OpSys', 'Touchscreen', 'Ips', 'Cpu_Processor',\n",
              "       'CpuFrequencyGHz', 'GpuManufacturer', 'StorageDevice', 'CompanyName',\n",
              "       'RamGB', 'Memory_GB'],\n",
              "      dtype='object')"
            ]
          },
          "metadata": {},
          "execution_count": 146
        }
      ],
      "source": [
        "# Splitting the data into independent variables (X) and dependent variable (y)\n",
        "X = df.drop(columns='Price')\n",
        "\n",
        "# Displaying the first 5 rows of the 'X' variable\n",
        "X.columns"
      ]
    },
    {
      "cell_type": "code",
      "execution_count": 147,
      "id": "OmRzeoha45uy",
      "metadata": {
        "colab": {
          "base_uri": "https://localhost:8080/"
        },
        "id": "OmRzeoha45uy",
        "outputId": "da46ca49-a352-4e45-b2aa-cc2d0d8f41e7"
      },
      "outputs": [
        {
          "output_type": "execute_result",
          "data": {
            "text/plain": [
              "0     71378.6832\n",
              "1     47895.5232\n",
              "2     30636.0000\n",
              "3    135195.3360\n",
              "4     96095.8080\n",
              "Name: Price, dtype: float64"
            ]
          },
          "metadata": {},
          "execution_count": 147
        }
      ],
      "source": [
        "# Selecting the 'Price' column from the DataFrame and assigning it to the variable 'y'\n",
        "y = df[\"Price\"]\n",
        "\n",
        "# Displaying the first 5 rows of the 'y' variable\n",
        "y.head()"
      ]
    },
    {
      "cell_type": "code",
      "source": [
        "# Importing SimpleImputer for handling missing values in the dataset\n",
        "from sklearn.impute import SimpleImputer\n",
        "\n",
        "# Importing Pipeline to create a sequence of data processing and modeling steps\n",
        "from sklearn.pipeline import Pipeline\n",
        "\n",
        "# Importing make_pipeline to create a pipeline more conveniently\n",
        "from sklearn.pipeline import make_pipeline"
      ],
      "metadata": {
        "id": "eYedkKQK68H_"
      },
      "id": "eYedkKQK68H_",
      "execution_count": 148,
      "outputs": []
    },
    {
      "cell_type": "code",
      "source": [
        "# Importing OneHotEncoder to convert categorical variables into a one-hot numeric array\n",
        "from sklearn.preprocessing import OneHotEncoder\n",
        "\n",
        "categorical_processor=Pipeline(\n",
        "steps=[\n",
        "(\"imputation_constant\",SimpleImputer(fill_value=\"missing\",strategy=\"most_frequent\")),\n",
        "(\"OneHotEncoder\",OneHotEncoder(handle_unknown=\"ignore\"))\n",
        "])\n",
        "categorical_processor"
      ],
      "metadata": {
        "colab": {
          "base_uri": "https://localhost:8080/",
          "height": 127
        },
        "id": "viRLdjQI67_L",
        "outputId": "da4eee5d-06f9-4293-ae48-47b47063708d"
      },
      "id": "viRLdjQI67_L",
      "execution_count": 149,
      "outputs": [
        {
          "output_type": "execute_result",
          "data": {
            "text/plain": [
              "Pipeline(steps=[('imputation_constant',\n",
              "                 SimpleImputer(fill_value='missing', strategy='most_frequent')),\n",
              "                ('OneHotEncoder', OneHotEncoder(handle_unknown='ignore'))])"
            ],
            "text/html": [
              "<style>#sk-container-id-5 {color: black;background-color: white;}#sk-container-id-5 pre{padding: 0;}#sk-container-id-5 div.sk-toggleable {background-color: white;}#sk-container-id-5 label.sk-toggleable__label {cursor: pointer;display: block;width: 100%;margin-bottom: 0;padding: 0.3em;box-sizing: border-box;text-align: center;}#sk-container-id-5 label.sk-toggleable__label-arrow:before {content: \"▸\";float: left;margin-right: 0.25em;color: #696969;}#sk-container-id-5 label.sk-toggleable__label-arrow:hover:before {color: black;}#sk-container-id-5 div.sk-estimator:hover label.sk-toggleable__label-arrow:before {color: black;}#sk-container-id-5 div.sk-toggleable__content {max-height: 0;max-width: 0;overflow: hidden;text-align: left;background-color: #f0f8ff;}#sk-container-id-5 div.sk-toggleable__content pre {margin: 0.2em;color: black;border-radius: 0.25em;background-color: #f0f8ff;}#sk-container-id-5 input.sk-toggleable__control:checked~div.sk-toggleable__content {max-height: 200px;max-width: 100%;overflow: auto;}#sk-container-id-5 input.sk-toggleable__control:checked~label.sk-toggleable__label-arrow:before {content: \"▾\";}#sk-container-id-5 div.sk-estimator input.sk-toggleable__control:checked~label.sk-toggleable__label {background-color: #d4ebff;}#sk-container-id-5 div.sk-label input.sk-toggleable__control:checked~label.sk-toggleable__label {background-color: #d4ebff;}#sk-container-id-5 input.sk-hidden--visually {border: 0;clip: rect(1px 1px 1px 1px);clip: rect(1px, 1px, 1px, 1px);height: 1px;margin: -1px;overflow: hidden;padding: 0;position: absolute;width: 1px;}#sk-container-id-5 div.sk-estimator {font-family: monospace;background-color: #f0f8ff;border: 1px dotted black;border-radius: 0.25em;box-sizing: border-box;margin-bottom: 0.5em;}#sk-container-id-5 div.sk-estimator:hover {background-color: #d4ebff;}#sk-container-id-5 div.sk-parallel-item::after {content: \"\";width: 100%;border-bottom: 1px solid gray;flex-grow: 1;}#sk-container-id-5 div.sk-label:hover label.sk-toggleable__label {background-color: #d4ebff;}#sk-container-id-5 div.sk-serial::before {content: \"\";position: absolute;border-left: 1px solid gray;box-sizing: border-box;top: 0;bottom: 0;left: 50%;z-index: 0;}#sk-container-id-5 div.sk-serial {display: flex;flex-direction: column;align-items: center;background-color: white;padding-right: 0.2em;padding-left: 0.2em;position: relative;}#sk-container-id-5 div.sk-item {position: relative;z-index: 1;}#sk-container-id-5 div.sk-parallel {display: flex;align-items: stretch;justify-content: center;background-color: white;position: relative;}#sk-container-id-5 div.sk-item::before, #sk-container-id-5 div.sk-parallel-item::before {content: \"\";position: absolute;border-left: 1px solid gray;box-sizing: border-box;top: 0;bottom: 0;left: 50%;z-index: -1;}#sk-container-id-5 div.sk-parallel-item {display: flex;flex-direction: column;z-index: 1;position: relative;background-color: white;}#sk-container-id-5 div.sk-parallel-item:first-child::after {align-self: flex-end;width: 50%;}#sk-container-id-5 div.sk-parallel-item:last-child::after {align-self: flex-start;width: 50%;}#sk-container-id-5 div.sk-parallel-item:only-child::after {width: 0;}#sk-container-id-5 div.sk-dashed-wrapped {border: 1px dashed gray;margin: 0 0.4em 0.5em 0.4em;box-sizing: border-box;padding-bottom: 0.4em;background-color: white;}#sk-container-id-5 div.sk-label label {font-family: monospace;font-weight: bold;display: inline-block;line-height: 1.2em;}#sk-container-id-5 div.sk-label-container {text-align: center;}#sk-container-id-5 div.sk-container {/* jupyter's `normalize.less` sets `[hidden] { display: none; }` but bootstrap.min.css set `[hidden] { display: none !important; }` so we also need the `!important` here to be able to override the default hidden behavior on the sphinx rendered scikit-learn.org. See: https://github.com/scikit-learn/scikit-learn/issues/21755 */display: inline-block !important;position: relative;}#sk-container-id-5 div.sk-text-repr-fallback {display: none;}</style><div id=\"sk-container-id-5\" class=\"sk-top-container\"><div class=\"sk-text-repr-fallback\"><pre>Pipeline(steps=[(&#x27;imputation_constant&#x27;,\n",
              "                 SimpleImputer(fill_value=&#x27;missing&#x27;, strategy=&#x27;most_frequent&#x27;)),\n",
              "                (&#x27;OneHotEncoder&#x27;, OneHotEncoder(handle_unknown=&#x27;ignore&#x27;))])</pre><b>In a Jupyter environment, please rerun this cell to show the HTML representation or trust the notebook. <br />On GitHub, the HTML representation is unable to render, please try loading this page with nbviewer.org.</b></div><div class=\"sk-container\" hidden><div class=\"sk-item sk-dashed-wrapped\"><div class=\"sk-label-container\"><div class=\"sk-label sk-toggleable\"><input class=\"sk-toggleable__control sk-hidden--visually\" id=\"sk-estimator-id-27\" type=\"checkbox\" ><label for=\"sk-estimator-id-27\" class=\"sk-toggleable__label sk-toggleable__label-arrow\">Pipeline</label><div class=\"sk-toggleable__content\"><pre>Pipeline(steps=[(&#x27;imputation_constant&#x27;,\n",
              "                 SimpleImputer(fill_value=&#x27;missing&#x27;, strategy=&#x27;most_frequent&#x27;)),\n",
              "                (&#x27;OneHotEncoder&#x27;, OneHotEncoder(handle_unknown=&#x27;ignore&#x27;))])</pre></div></div></div><div class=\"sk-serial\"><div class=\"sk-item\"><div class=\"sk-estimator sk-toggleable\"><input class=\"sk-toggleable__control sk-hidden--visually\" id=\"sk-estimator-id-28\" type=\"checkbox\" ><label for=\"sk-estimator-id-28\" class=\"sk-toggleable__label sk-toggleable__label-arrow\">SimpleImputer</label><div class=\"sk-toggleable__content\"><pre>SimpleImputer(fill_value=&#x27;missing&#x27;, strategy=&#x27;most_frequent&#x27;)</pre></div></div></div><div class=\"sk-item\"><div class=\"sk-estimator sk-toggleable\"><input class=\"sk-toggleable__control sk-hidden--visually\" id=\"sk-estimator-id-29\" type=\"checkbox\" ><label for=\"sk-estimator-id-29\" class=\"sk-toggleable__label sk-toggleable__label-arrow\">OneHotEncoder</label><div class=\"sk-toggleable__content\"><pre>OneHotEncoder(handle_unknown=&#x27;ignore&#x27;)</pre></div></div></div></div></div></div></div>"
            ]
          },
          "metadata": {},
          "execution_count": 149
        }
      ]
    },
    {
      "cell_type": "code",
      "source": [
        "# Importing StandardScaler for standardizing features\n",
        "from sklearn.preprocessing import StandardScaler\n",
        "\n",
        "numeric_processor=Pipeline(\n",
        "steps=[\n",
        "(\"imputation\",SimpleImputer()),\n",
        "(\"StandardScaler\",StandardScaler())\n",
        "])\n",
        "numeric_processor"
      ],
      "metadata": {
        "colab": {
          "base_uri": "https://localhost:8080/",
          "height": 127
        },
        "id": "zBMn_vA2677O",
        "outputId": "9afb0ee2-3e70-4ea3-9819-7a5d103dda94"
      },
      "id": "zBMn_vA2677O",
      "execution_count": 150,
      "outputs": [
        {
          "output_type": "execute_result",
          "data": {
            "text/plain": [
              "Pipeline(steps=[('imputation', SimpleImputer()),\n",
              "                ('StandardScaler', StandardScaler())])"
            ],
            "text/html": [
              "<style>#sk-container-id-6 {color: black;background-color: white;}#sk-container-id-6 pre{padding: 0;}#sk-container-id-6 div.sk-toggleable {background-color: white;}#sk-container-id-6 label.sk-toggleable__label {cursor: pointer;display: block;width: 100%;margin-bottom: 0;padding: 0.3em;box-sizing: border-box;text-align: center;}#sk-container-id-6 label.sk-toggleable__label-arrow:before {content: \"▸\";float: left;margin-right: 0.25em;color: #696969;}#sk-container-id-6 label.sk-toggleable__label-arrow:hover:before {color: black;}#sk-container-id-6 div.sk-estimator:hover label.sk-toggleable__label-arrow:before {color: black;}#sk-container-id-6 div.sk-toggleable__content {max-height: 0;max-width: 0;overflow: hidden;text-align: left;background-color: #f0f8ff;}#sk-container-id-6 div.sk-toggleable__content pre {margin: 0.2em;color: black;border-radius: 0.25em;background-color: #f0f8ff;}#sk-container-id-6 input.sk-toggleable__control:checked~div.sk-toggleable__content {max-height: 200px;max-width: 100%;overflow: auto;}#sk-container-id-6 input.sk-toggleable__control:checked~label.sk-toggleable__label-arrow:before {content: \"▾\";}#sk-container-id-6 div.sk-estimator input.sk-toggleable__control:checked~label.sk-toggleable__label {background-color: #d4ebff;}#sk-container-id-6 div.sk-label input.sk-toggleable__control:checked~label.sk-toggleable__label {background-color: #d4ebff;}#sk-container-id-6 input.sk-hidden--visually {border: 0;clip: rect(1px 1px 1px 1px);clip: rect(1px, 1px, 1px, 1px);height: 1px;margin: -1px;overflow: hidden;padding: 0;position: absolute;width: 1px;}#sk-container-id-6 div.sk-estimator {font-family: monospace;background-color: #f0f8ff;border: 1px dotted black;border-radius: 0.25em;box-sizing: border-box;margin-bottom: 0.5em;}#sk-container-id-6 div.sk-estimator:hover {background-color: #d4ebff;}#sk-container-id-6 div.sk-parallel-item::after {content: \"\";width: 100%;border-bottom: 1px solid gray;flex-grow: 1;}#sk-container-id-6 div.sk-label:hover label.sk-toggleable__label {background-color: #d4ebff;}#sk-container-id-6 div.sk-serial::before {content: \"\";position: absolute;border-left: 1px solid gray;box-sizing: border-box;top: 0;bottom: 0;left: 50%;z-index: 0;}#sk-container-id-6 div.sk-serial {display: flex;flex-direction: column;align-items: center;background-color: white;padding-right: 0.2em;padding-left: 0.2em;position: relative;}#sk-container-id-6 div.sk-item {position: relative;z-index: 1;}#sk-container-id-6 div.sk-parallel {display: flex;align-items: stretch;justify-content: center;background-color: white;position: relative;}#sk-container-id-6 div.sk-item::before, #sk-container-id-6 div.sk-parallel-item::before {content: \"\";position: absolute;border-left: 1px solid gray;box-sizing: border-box;top: 0;bottom: 0;left: 50%;z-index: -1;}#sk-container-id-6 div.sk-parallel-item {display: flex;flex-direction: column;z-index: 1;position: relative;background-color: white;}#sk-container-id-6 div.sk-parallel-item:first-child::after {align-self: flex-end;width: 50%;}#sk-container-id-6 div.sk-parallel-item:last-child::after {align-self: flex-start;width: 50%;}#sk-container-id-6 div.sk-parallel-item:only-child::after {width: 0;}#sk-container-id-6 div.sk-dashed-wrapped {border: 1px dashed gray;margin: 0 0.4em 0.5em 0.4em;box-sizing: border-box;padding-bottom: 0.4em;background-color: white;}#sk-container-id-6 div.sk-label label {font-family: monospace;font-weight: bold;display: inline-block;line-height: 1.2em;}#sk-container-id-6 div.sk-label-container {text-align: center;}#sk-container-id-6 div.sk-container {/* jupyter's `normalize.less` sets `[hidden] { display: none; }` but bootstrap.min.css set `[hidden] { display: none !important; }` so we also need the `!important` here to be able to override the default hidden behavior on the sphinx rendered scikit-learn.org. See: https://github.com/scikit-learn/scikit-learn/issues/21755 */display: inline-block !important;position: relative;}#sk-container-id-6 div.sk-text-repr-fallback {display: none;}</style><div id=\"sk-container-id-6\" class=\"sk-top-container\"><div class=\"sk-text-repr-fallback\"><pre>Pipeline(steps=[(&#x27;imputation&#x27;, SimpleImputer()),\n",
              "                (&#x27;StandardScaler&#x27;, StandardScaler())])</pre><b>In a Jupyter environment, please rerun this cell to show the HTML representation or trust the notebook. <br />On GitHub, the HTML representation is unable to render, please try loading this page with nbviewer.org.</b></div><div class=\"sk-container\" hidden><div class=\"sk-item sk-dashed-wrapped\"><div class=\"sk-label-container\"><div class=\"sk-label sk-toggleable\"><input class=\"sk-toggleable__control sk-hidden--visually\" id=\"sk-estimator-id-30\" type=\"checkbox\" ><label for=\"sk-estimator-id-30\" class=\"sk-toggleable__label sk-toggleable__label-arrow\">Pipeline</label><div class=\"sk-toggleable__content\"><pre>Pipeline(steps=[(&#x27;imputation&#x27;, SimpleImputer()),\n",
              "                (&#x27;StandardScaler&#x27;, StandardScaler())])</pre></div></div></div><div class=\"sk-serial\"><div class=\"sk-item\"><div class=\"sk-estimator sk-toggleable\"><input class=\"sk-toggleable__control sk-hidden--visually\" id=\"sk-estimator-id-31\" type=\"checkbox\" ><label for=\"sk-estimator-id-31\" class=\"sk-toggleable__label sk-toggleable__label-arrow\">SimpleImputer</label><div class=\"sk-toggleable__content\"><pre>SimpleImputer()</pre></div></div></div><div class=\"sk-item\"><div class=\"sk-estimator sk-toggleable\"><input class=\"sk-toggleable__control sk-hidden--visually\" id=\"sk-estimator-id-32\" type=\"checkbox\" ><label for=\"sk-estimator-id-32\" class=\"sk-toggleable__label sk-toggleable__label-arrow\">StandardScaler</label><div class=\"sk-toggleable__content\"><pre>StandardScaler()</pre></div></div></div></div></div></div></div>"
            ]
          },
          "metadata": {},
          "execution_count": 150
        }
      ]
    },
    {
      "cell_type": "code",
      "source": [
        "# Selecting columns with categorical data (object dtype) from the DataFrame X\n",
        "categorical_columns = X.select_dtypes(include='object')\n",
        "\n",
        "# Retrieving the column names of the selected categorical columns\n",
        "categorical_columns.columns"
      ],
      "metadata": {
        "colab": {
          "base_uri": "https://localhost:8080/"
        },
        "id": "gEdnNsU0674g",
        "outputId": "f376ad74-0cde-4aed-d4dc-6520ee366d3e"
      },
      "id": "gEdnNsU0674g",
      "execution_count": 151,
      "outputs": [
        {
          "output_type": "execute_result",
          "data": {
            "text/plain": [
              "Index(['Laptop_Type', 'OpSys', 'Touchscreen', 'Ips', 'Cpu_Processor',\n",
              "       'GpuManufacturer', 'StorageDevice', 'CompanyName'],\n",
              "      dtype='object')"
            ]
          },
          "metadata": {},
          "execution_count": 151
        }
      ]
    },
    {
      "cell_type": "code",
      "source": [
        "# Selecting columns with numerical data (excluding object dtype) from the DataFrame Xnumerical_columns = X.select_dtypes(exclude='object')\n",
        "numerical_columns = X.select_dtypes(exclude='object')\n",
        "\n",
        "# Retrieving the column names of the selected numerical columns\n",
        "numerical_columns.columns"
      ],
      "metadata": {
        "colab": {
          "base_uri": "https://localhost:8080/"
        },
        "id": "UFIXKWWc7h9f",
        "outputId": "6bd5187f-4405-4d17-8444-35ae9f32da00"
      },
      "id": "UFIXKWWc7h9f",
      "execution_count": 152,
      "outputs": [
        {
          "output_type": "execute_result",
          "data": {
            "text/plain": [
              "Index(['CpuFrequencyGHz', 'RamGB', 'Memory_GB'], dtype='object')"
            ]
          },
          "metadata": {},
          "execution_count": 152
        }
      ]
    },
    {
      "cell_type": "code",
      "source": [
        "# Importing ColumnTransformer to apply different preprocessing steps to different subsets of columns\n",
        "from sklearn.compose import ColumnTransformer\n",
        "preprocessor=ColumnTransformer(\n",
        "    transformers=[\n",
        "        (\"categorical\",categorical_processor,categorical_columns.columns),\n",
        "        (\"numeric\",numeric_processor,numerical_columns.columns)],remainder='passthrough')\n",
        "\n",
        "# Displaying the preprocessor object to verify its configuration\n",
        "preprocessor"
      ],
      "metadata": {
        "colab": {
          "base_uri": "https://localhost:8080/",
          "height": 153
        },
        "id": "4xohOIKH671l",
        "outputId": "57ddda36-7aa8-45b6-a022-3c8eb05fb72c"
      },
      "id": "4xohOIKH671l",
      "execution_count": 153,
      "outputs": [
        {
          "output_type": "execute_result",
          "data": {
            "text/plain": [
              "ColumnTransformer(remainder='passthrough',\n",
              "                  transformers=[('categorical',\n",
              "                                 Pipeline(steps=[('imputation_constant',\n",
              "                                                  SimpleImputer(fill_value='missing',\n",
              "                                                                strategy='most_frequent')),\n",
              "                                                 ('OneHotEncoder',\n",
              "                                                  OneHotEncoder(handle_unknown='ignore'))]),\n",
              "                                 Index(['Laptop_Type', 'OpSys', 'Touchscreen', 'Ips', 'Cpu_Processor',\n",
              "       'GpuManufacturer', 'StorageDevice', 'CompanyName'],\n",
              "      dtype='object')),\n",
              "                                ('numeric',\n",
              "                                 Pipeline(steps=[('imputation',\n",
              "                                                  SimpleImputer()),\n",
              "                                                 ('StandardScaler',\n",
              "                                                  StandardScaler())]),\n",
              "                                 Index(['CpuFrequencyGHz', 'RamGB', 'Memory_GB'], dtype='object'))])"
            ],
            "text/html": [
              "<style>#sk-container-id-7 {color: black;background-color: white;}#sk-container-id-7 pre{padding: 0;}#sk-container-id-7 div.sk-toggleable {background-color: white;}#sk-container-id-7 label.sk-toggleable__label {cursor: pointer;display: block;width: 100%;margin-bottom: 0;padding: 0.3em;box-sizing: border-box;text-align: center;}#sk-container-id-7 label.sk-toggleable__label-arrow:before {content: \"▸\";float: left;margin-right: 0.25em;color: #696969;}#sk-container-id-7 label.sk-toggleable__label-arrow:hover:before {color: black;}#sk-container-id-7 div.sk-estimator:hover label.sk-toggleable__label-arrow:before {color: black;}#sk-container-id-7 div.sk-toggleable__content {max-height: 0;max-width: 0;overflow: hidden;text-align: left;background-color: #f0f8ff;}#sk-container-id-7 div.sk-toggleable__content pre {margin: 0.2em;color: black;border-radius: 0.25em;background-color: #f0f8ff;}#sk-container-id-7 input.sk-toggleable__control:checked~div.sk-toggleable__content {max-height: 200px;max-width: 100%;overflow: auto;}#sk-container-id-7 input.sk-toggleable__control:checked~label.sk-toggleable__label-arrow:before {content: \"▾\";}#sk-container-id-7 div.sk-estimator input.sk-toggleable__control:checked~label.sk-toggleable__label {background-color: #d4ebff;}#sk-container-id-7 div.sk-label input.sk-toggleable__control:checked~label.sk-toggleable__label {background-color: #d4ebff;}#sk-container-id-7 input.sk-hidden--visually {border: 0;clip: rect(1px 1px 1px 1px);clip: rect(1px, 1px, 1px, 1px);height: 1px;margin: -1px;overflow: hidden;padding: 0;position: absolute;width: 1px;}#sk-container-id-7 div.sk-estimator {font-family: monospace;background-color: #f0f8ff;border: 1px dotted black;border-radius: 0.25em;box-sizing: border-box;margin-bottom: 0.5em;}#sk-container-id-7 div.sk-estimator:hover {background-color: #d4ebff;}#sk-container-id-7 div.sk-parallel-item::after {content: \"\";width: 100%;border-bottom: 1px solid gray;flex-grow: 1;}#sk-container-id-7 div.sk-label:hover label.sk-toggleable__label {background-color: #d4ebff;}#sk-container-id-7 div.sk-serial::before {content: \"\";position: absolute;border-left: 1px solid gray;box-sizing: border-box;top: 0;bottom: 0;left: 50%;z-index: 0;}#sk-container-id-7 div.sk-serial {display: flex;flex-direction: column;align-items: center;background-color: white;padding-right: 0.2em;padding-left: 0.2em;position: relative;}#sk-container-id-7 div.sk-item {position: relative;z-index: 1;}#sk-container-id-7 div.sk-parallel {display: flex;align-items: stretch;justify-content: center;background-color: white;position: relative;}#sk-container-id-7 div.sk-item::before, #sk-container-id-7 div.sk-parallel-item::before {content: \"\";position: absolute;border-left: 1px solid gray;box-sizing: border-box;top: 0;bottom: 0;left: 50%;z-index: -1;}#sk-container-id-7 div.sk-parallel-item {display: flex;flex-direction: column;z-index: 1;position: relative;background-color: white;}#sk-container-id-7 div.sk-parallel-item:first-child::after {align-self: flex-end;width: 50%;}#sk-container-id-7 div.sk-parallel-item:last-child::after {align-self: flex-start;width: 50%;}#sk-container-id-7 div.sk-parallel-item:only-child::after {width: 0;}#sk-container-id-7 div.sk-dashed-wrapped {border: 1px dashed gray;margin: 0 0.4em 0.5em 0.4em;box-sizing: border-box;padding-bottom: 0.4em;background-color: white;}#sk-container-id-7 div.sk-label label {font-family: monospace;font-weight: bold;display: inline-block;line-height: 1.2em;}#sk-container-id-7 div.sk-label-container {text-align: center;}#sk-container-id-7 div.sk-container {/* jupyter's `normalize.less` sets `[hidden] { display: none; }` but bootstrap.min.css set `[hidden] { display: none !important; }` so we also need the `!important` here to be able to override the default hidden behavior on the sphinx rendered scikit-learn.org. See: https://github.com/scikit-learn/scikit-learn/issues/21755 */display: inline-block !important;position: relative;}#sk-container-id-7 div.sk-text-repr-fallback {display: none;}</style><div id=\"sk-container-id-7\" class=\"sk-top-container\"><div class=\"sk-text-repr-fallback\"><pre>ColumnTransformer(remainder=&#x27;passthrough&#x27;,\n",
              "                  transformers=[(&#x27;categorical&#x27;,\n",
              "                                 Pipeline(steps=[(&#x27;imputation_constant&#x27;,\n",
              "                                                  SimpleImputer(fill_value=&#x27;missing&#x27;,\n",
              "                                                                strategy=&#x27;most_frequent&#x27;)),\n",
              "                                                 (&#x27;OneHotEncoder&#x27;,\n",
              "                                                  OneHotEncoder(handle_unknown=&#x27;ignore&#x27;))]),\n",
              "                                 Index([&#x27;Laptop_Type&#x27;, &#x27;OpSys&#x27;, &#x27;Touchscreen&#x27;, &#x27;Ips&#x27;, &#x27;Cpu_Processor&#x27;,\n",
              "       &#x27;GpuManufacturer&#x27;, &#x27;StorageDevice&#x27;, &#x27;CompanyName&#x27;],\n",
              "      dtype=&#x27;object&#x27;)),\n",
              "                                (&#x27;numeric&#x27;,\n",
              "                                 Pipeline(steps=[(&#x27;imputation&#x27;,\n",
              "                                                  SimpleImputer()),\n",
              "                                                 (&#x27;StandardScaler&#x27;,\n",
              "                                                  StandardScaler())]),\n",
              "                                 Index([&#x27;CpuFrequencyGHz&#x27;, &#x27;RamGB&#x27;, &#x27;Memory_GB&#x27;], dtype=&#x27;object&#x27;))])</pre><b>In a Jupyter environment, please rerun this cell to show the HTML representation or trust the notebook. <br />On GitHub, the HTML representation is unable to render, please try loading this page with nbviewer.org.</b></div><div class=\"sk-container\" hidden><div class=\"sk-item sk-dashed-wrapped\"><div class=\"sk-label-container\"><div class=\"sk-label sk-toggleable\"><input class=\"sk-toggleable__control sk-hidden--visually\" id=\"sk-estimator-id-33\" type=\"checkbox\" ><label for=\"sk-estimator-id-33\" class=\"sk-toggleable__label sk-toggleable__label-arrow\">ColumnTransformer</label><div class=\"sk-toggleable__content\"><pre>ColumnTransformer(remainder=&#x27;passthrough&#x27;,\n",
              "                  transformers=[(&#x27;categorical&#x27;,\n",
              "                                 Pipeline(steps=[(&#x27;imputation_constant&#x27;,\n",
              "                                                  SimpleImputer(fill_value=&#x27;missing&#x27;,\n",
              "                                                                strategy=&#x27;most_frequent&#x27;)),\n",
              "                                                 (&#x27;OneHotEncoder&#x27;,\n",
              "                                                  OneHotEncoder(handle_unknown=&#x27;ignore&#x27;))]),\n",
              "                                 Index([&#x27;Laptop_Type&#x27;, &#x27;OpSys&#x27;, &#x27;Touchscreen&#x27;, &#x27;Ips&#x27;, &#x27;Cpu_Processor&#x27;,\n",
              "       &#x27;GpuManufacturer&#x27;, &#x27;StorageDevice&#x27;, &#x27;CompanyName&#x27;],\n",
              "      dtype=&#x27;object&#x27;)),\n",
              "                                (&#x27;numeric&#x27;,\n",
              "                                 Pipeline(steps=[(&#x27;imputation&#x27;,\n",
              "                                                  SimpleImputer()),\n",
              "                                                 (&#x27;StandardScaler&#x27;,\n",
              "                                                  StandardScaler())]),\n",
              "                                 Index([&#x27;CpuFrequencyGHz&#x27;, &#x27;RamGB&#x27;, &#x27;Memory_GB&#x27;], dtype=&#x27;object&#x27;))])</pre></div></div></div><div class=\"sk-parallel\"><div class=\"sk-parallel-item\"><div class=\"sk-item\"><div class=\"sk-label-container\"><div class=\"sk-label sk-toggleable\"><input class=\"sk-toggleable__control sk-hidden--visually\" id=\"sk-estimator-id-34\" type=\"checkbox\" ><label for=\"sk-estimator-id-34\" class=\"sk-toggleable__label sk-toggleable__label-arrow\">categorical</label><div class=\"sk-toggleable__content\"><pre>Index([&#x27;Laptop_Type&#x27;, &#x27;OpSys&#x27;, &#x27;Touchscreen&#x27;, &#x27;Ips&#x27;, &#x27;Cpu_Processor&#x27;,\n",
              "       &#x27;GpuManufacturer&#x27;, &#x27;StorageDevice&#x27;, &#x27;CompanyName&#x27;],\n",
              "      dtype=&#x27;object&#x27;)</pre></div></div></div><div class=\"sk-serial\"><div class=\"sk-item\"><div class=\"sk-serial\"><div class=\"sk-item\"><div class=\"sk-estimator sk-toggleable\"><input class=\"sk-toggleable__control sk-hidden--visually\" id=\"sk-estimator-id-35\" type=\"checkbox\" ><label for=\"sk-estimator-id-35\" class=\"sk-toggleable__label sk-toggleable__label-arrow\">SimpleImputer</label><div class=\"sk-toggleable__content\"><pre>SimpleImputer(fill_value=&#x27;missing&#x27;, strategy=&#x27;most_frequent&#x27;)</pre></div></div></div><div class=\"sk-item\"><div class=\"sk-estimator sk-toggleable\"><input class=\"sk-toggleable__control sk-hidden--visually\" id=\"sk-estimator-id-36\" type=\"checkbox\" ><label for=\"sk-estimator-id-36\" class=\"sk-toggleable__label sk-toggleable__label-arrow\">OneHotEncoder</label><div class=\"sk-toggleable__content\"><pre>OneHotEncoder(handle_unknown=&#x27;ignore&#x27;)</pre></div></div></div></div></div></div></div></div><div class=\"sk-parallel-item\"><div class=\"sk-item\"><div class=\"sk-label-container\"><div class=\"sk-label sk-toggleable\"><input class=\"sk-toggleable__control sk-hidden--visually\" id=\"sk-estimator-id-37\" type=\"checkbox\" ><label for=\"sk-estimator-id-37\" class=\"sk-toggleable__label sk-toggleable__label-arrow\">numeric</label><div class=\"sk-toggleable__content\"><pre>Index([&#x27;CpuFrequencyGHz&#x27;, &#x27;RamGB&#x27;, &#x27;Memory_GB&#x27;], dtype=&#x27;object&#x27;)</pre></div></div></div><div class=\"sk-serial\"><div class=\"sk-item\"><div class=\"sk-serial\"><div class=\"sk-item\"><div class=\"sk-estimator sk-toggleable\"><input class=\"sk-toggleable__control sk-hidden--visually\" id=\"sk-estimator-id-38\" type=\"checkbox\" ><label for=\"sk-estimator-id-38\" class=\"sk-toggleable__label sk-toggleable__label-arrow\">SimpleImputer</label><div class=\"sk-toggleable__content\"><pre>SimpleImputer()</pre></div></div></div><div class=\"sk-item\"><div class=\"sk-estimator sk-toggleable\"><input class=\"sk-toggleable__control sk-hidden--visually\" id=\"sk-estimator-id-39\" type=\"checkbox\" ><label for=\"sk-estimator-id-39\" class=\"sk-toggleable__label sk-toggleable__label-arrow\">StandardScaler</label><div class=\"sk-toggleable__content\"><pre>StandardScaler()</pre></div></div></div></div></div></div></div></div><div class=\"sk-parallel-item\"><div class=\"sk-item\"><div class=\"sk-label-container\"><div class=\"sk-label sk-toggleable\"><input class=\"sk-toggleable__control sk-hidden--visually\" id=\"sk-estimator-id-40\" type=\"checkbox\" ><label for=\"sk-estimator-id-40\" class=\"sk-toggleable__label sk-toggleable__label-arrow\">remainder</label><div class=\"sk-toggleable__content\"><pre></pre></div></div></div><div class=\"sk-serial\"><div class=\"sk-item\"><div class=\"sk-estimator sk-toggleable\"><input class=\"sk-toggleable__control sk-hidden--visually\" id=\"sk-estimator-id-41\" type=\"checkbox\" ><label for=\"sk-estimator-id-41\" class=\"sk-toggleable__label sk-toggleable__label-arrow\">passthrough</label><div class=\"sk-toggleable__content\"><pre>passthrough</pre></div></div></div></div></div></div></div></div></div></div>"
            ]
          },
          "metadata": {},
          "execution_count": 153
        }
      ]
    },
    {
      "cell_type": "code",
      "source": [
        "# Importing train_test_split to divide the dataset into training and testing subsets\n",
        "from sklearn.model_selection import train_test_split\n",
        "\n",
        "# Splitting the data for training and testing the model\n",
        "x_train,x_test, y_train, y_test = train_test_split(X, y, test_size=0.20, random_state=42)"
      ],
      "metadata": {
        "id": "wpbi607V67tn"
      },
      "id": "wpbi607V67tn",
      "execution_count": 154,
      "outputs": []
    },
    {
      "cell_type": "code",
      "source": [
        "%%capture\n",
        "!pip install xgboost"
      ],
      "metadata": {
        "id": "HQhX1wB0DZiu"
      },
      "id": "HQhX1wB0DZiu",
      "execution_count": 155,
      "outputs": []
    },
    {
      "cell_type": "code",
      "execution_count": 156,
      "id": "amarCwWie2QL",
      "metadata": {
        "id": "amarCwWie2QL",
        "colab": {
          "base_uri": "https://localhost:8080/",
          "height": 228
        },
        "outputId": "ed4380cf-8add-49bf-e6a6-99efa52b2595"
      },
      "outputs": [
        {
          "output_type": "execute_result",
          "data": {
            "text/plain": [
              "Pipeline(steps=[('columntransformer',\n",
              "                 ColumnTransformer(remainder='passthrough',\n",
              "                                   transformers=[('categorical',\n",
              "                                                  Pipeline(steps=[('imputation_constant',\n",
              "                                                                   SimpleImputer(fill_value='missing',\n",
              "                                                                                 strategy='most_frequent')),\n",
              "                                                                  ('OneHotEncoder',\n",
              "                                                                   OneHotEncoder(handle_unknown='ignore'))]),\n",
              "                                                  Index(['Laptop_Type', 'OpSys', 'Touchscreen', 'Ips', 'Cpu_Processor',\n",
              "       'GpuManufacturer', 'StorageDevice', 'CompanyName'],\n",
              "      dtype='object')),\n",
              "                                                 ('numeric',\n",
              "                                                  Pipeline(steps=[('imputation',\n",
              "                                                                   SimpleImputer()),\n",
              "                                                                  ('StandardScaler',\n",
              "                                                                   StandardScaler())]),\n",
              "                                                  Index(['CpuFrequencyGHz', 'RamGB', 'Memory_GB'], dtype='object'))])),\n",
              "                ('randomforestregressor', RandomForestRegressor())])"
            ],
            "text/html": [
              "<style>#sk-container-id-8 {color: black;background-color: white;}#sk-container-id-8 pre{padding: 0;}#sk-container-id-8 div.sk-toggleable {background-color: white;}#sk-container-id-8 label.sk-toggleable__label {cursor: pointer;display: block;width: 100%;margin-bottom: 0;padding: 0.3em;box-sizing: border-box;text-align: center;}#sk-container-id-8 label.sk-toggleable__label-arrow:before {content: \"▸\";float: left;margin-right: 0.25em;color: #696969;}#sk-container-id-8 label.sk-toggleable__label-arrow:hover:before {color: black;}#sk-container-id-8 div.sk-estimator:hover label.sk-toggleable__label-arrow:before {color: black;}#sk-container-id-8 div.sk-toggleable__content {max-height: 0;max-width: 0;overflow: hidden;text-align: left;background-color: #f0f8ff;}#sk-container-id-8 div.sk-toggleable__content pre {margin: 0.2em;color: black;border-radius: 0.25em;background-color: #f0f8ff;}#sk-container-id-8 input.sk-toggleable__control:checked~div.sk-toggleable__content {max-height: 200px;max-width: 100%;overflow: auto;}#sk-container-id-8 input.sk-toggleable__control:checked~label.sk-toggleable__label-arrow:before {content: \"▾\";}#sk-container-id-8 div.sk-estimator input.sk-toggleable__control:checked~label.sk-toggleable__label {background-color: #d4ebff;}#sk-container-id-8 div.sk-label input.sk-toggleable__control:checked~label.sk-toggleable__label {background-color: #d4ebff;}#sk-container-id-8 input.sk-hidden--visually {border: 0;clip: rect(1px 1px 1px 1px);clip: rect(1px, 1px, 1px, 1px);height: 1px;margin: -1px;overflow: hidden;padding: 0;position: absolute;width: 1px;}#sk-container-id-8 div.sk-estimator {font-family: monospace;background-color: #f0f8ff;border: 1px dotted black;border-radius: 0.25em;box-sizing: border-box;margin-bottom: 0.5em;}#sk-container-id-8 div.sk-estimator:hover {background-color: #d4ebff;}#sk-container-id-8 div.sk-parallel-item::after {content: \"\";width: 100%;border-bottom: 1px solid gray;flex-grow: 1;}#sk-container-id-8 div.sk-label:hover label.sk-toggleable__label {background-color: #d4ebff;}#sk-container-id-8 div.sk-serial::before {content: \"\";position: absolute;border-left: 1px solid gray;box-sizing: border-box;top: 0;bottom: 0;left: 50%;z-index: 0;}#sk-container-id-8 div.sk-serial {display: flex;flex-direction: column;align-items: center;background-color: white;padding-right: 0.2em;padding-left: 0.2em;position: relative;}#sk-container-id-8 div.sk-item {position: relative;z-index: 1;}#sk-container-id-8 div.sk-parallel {display: flex;align-items: stretch;justify-content: center;background-color: white;position: relative;}#sk-container-id-8 div.sk-item::before, #sk-container-id-8 div.sk-parallel-item::before {content: \"\";position: absolute;border-left: 1px solid gray;box-sizing: border-box;top: 0;bottom: 0;left: 50%;z-index: -1;}#sk-container-id-8 div.sk-parallel-item {display: flex;flex-direction: column;z-index: 1;position: relative;background-color: white;}#sk-container-id-8 div.sk-parallel-item:first-child::after {align-self: flex-end;width: 50%;}#sk-container-id-8 div.sk-parallel-item:last-child::after {align-self: flex-start;width: 50%;}#sk-container-id-8 div.sk-parallel-item:only-child::after {width: 0;}#sk-container-id-8 div.sk-dashed-wrapped {border: 1px dashed gray;margin: 0 0.4em 0.5em 0.4em;box-sizing: border-box;padding-bottom: 0.4em;background-color: white;}#sk-container-id-8 div.sk-label label {font-family: monospace;font-weight: bold;display: inline-block;line-height: 1.2em;}#sk-container-id-8 div.sk-label-container {text-align: center;}#sk-container-id-8 div.sk-container {/* jupyter's `normalize.less` sets `[hidden] { display: none; }` but bootstrap.min.css set `[hidden] { display: none !important; }` so we also need the `!important` here to be able to override the default hidden behavior on the sphinx rendered scikit-learn.org. See: https://github.com/scikit-learn/scikit-learn/issues/21755 */display: inline-block !important;position: relative;}#sk-container-id-8 div.sk-text-repr-fallback {display: none;}</style><div id=\"sk-container-id-8\" class=\"sk-top-container\"><div class=\"sk-text-repr-fallback\"><pre>Pipeline(steps=[(&#x27;columntransformer&#x27;,\n",
              "                 ColumnTransformer(remainder=&#x27;passthrough&#x27;,\n",
              "                                   transformers=[(&#x27;categorical&#x27;,\n",
              "                                                  Pipeline(steps=[(&#x27;imputation_constant&#x27;,\n",
              "                                                                   SimpleImputer(fill_value=&#x27;missing&#x27;,\n",
              "                                                                                 strategy=&#x27;most_frequent&#x27;)),\n",
              "                                                                  (&#x27;OneHotEncoder&#x27;,\n",
              "                                                                   OneHotEncoder(handle_unknown=&#x27;ignore&#x27;))]),\n",
              "                                                  Index([&#x27;Laptop_Type&#x27;, &#x27;OpSys&#x27;, &#x27;Touchscreen&#x27;, &#x27;Ips&#x27;, &#x27;Cpu_Processor&#x27;,\n",
              "       &#x27;GpuManufacturer&#x27;, &#x27;StorageDevice&#x27;, &#x27;CompanyName&#x27;],\n",
              "      dtype=&#x27;object&#x27;)),\n",
              "                                                 (&#x27;numeric&#x27;,\n",
              "                                                  Pipeline(steps=[(&#x27;imputation&#x27;,\n",
              "                                                                   SimpleImputer()),\n",
              "                                                                  (&#x27;StandardScaler&#x27;,\n",
              "                                                                   StandardScaler())]),\n",
              "                                                  Index([&#x27;CpuFrequencyGHz&#x27;, &#x27;RamGB&#x27;, &#x27;Memory_GB&#x27;], dtype=&#x27;object&#x27;))])),\n",
              "                (&#x27;randomforestregressor&#x27;, RandomForestRegressor())])</pre><b>In a Jupyter environment, please rerun this cell to show the HTML representation or trust the notebook. <br />On GitHub, the HTML representation is unable to render, please try loading this page with nbviewer.org.</b></div><div class=\"sk-container\" hidden><div class=\"sk-item sk-dashed-wrapped\"><div class=\"sk-label-container\"><div class=\"sk-label sk-toggleable\"><input class=\"sk-toggleable__control sk-hidden--visually\" id=\"sk-estimator-id-42\" type=\"checkbox\" ><label for=\"sk-estimator-id-42\" class=\"sk-toggleable__label sk-toggleable__label-arrow\">Pipeline</label><div class=\"sk-toggleable__content\"><pre>Pipeline(steps=[(&#x27;columntransformer&#x27;,\n",
              "                 ColumnTransformer(remainder=&#x27;passthrough&#x27;,\n",
              "                                   transformers=[(&#x27;categorical&#x27;,\n",
              "                                                  Pipeline(steps=[(&#x27;imputation_constant&#x27;,\n",
              "                                                                   SimpleImputer(fill_value=&#x27;missing&#x27;,\n",
              "                                                                                 strategy=&#x27;most_frequent&#x27;)),\n",
              "                                                                  (&#x27;OneHotEncoder&#x27;,\n",
              "                                                                   OneHotEncoder(handle_unknown=&#x27;ignore&#x27;))]),\n",
              "                                                  Index([&#x27;Laptop_Type&#x27;, &#x27;OpSys&#x27;, &#x27;Touchscreen&#x27;, &#x27;Ips&#x27;, &#x27;Cpu_Processor&#x27;,\n",
              "       &#x27;GpuManufacturer&#x27;, &#x27;StorageDevice&#x27;, &#x27;CompanyName&#x27;],\n",
              "      dtype=&#x27;object&#x27;)),\n",
              "                                                 (&#x27;numeric&#x27;,\n",
              "                                                  Pipeline(steps=[(&#x27;imputation&#x27;,\n",
              "                                                                   SimpleImputer()),\n",
              "                                                                  (&#x27;StandardScaler&#x27;,\n",
              "                                                                   StandardScaler())]),\n",
              "                                                  Index([&#x27;CpuFrequencyGHz&#x27;, &#x27;RamGB&#x27;, &#x27;Memory_GB&#x27;], dtype=&#x27;object&#x27;))])),\n",
              "                (&#x27;randomforestregressor&#x27;, RandomForestRegressor())])</pre></div></div></div><div class=\"sk-serial\"><div class=\"sk-item sk-dashed-wrapped\"><div class=\"sk-label-container\"><div class=\"sk-label sk-toggleable\"><input class=\"sk-toggleable__control sk-hidden--visually\" id=\"sk-estimator-id-43\" type=\"checkbox\" ><label for=\"sk-estimator-id-43\" class=\"sk-toggleable__label sk-toggleable__label-arrow\">columntransformer: ColumnTransformer</label><div class=\"sk-toggleable__content\"><pre>ColumnTransformer(remainder=&#x27;passthrough&#x27;,\n",
              "                  transformers=[(&#x27;categorical&#x27;,\n",
              "                                 Pipeline(steps=[(&#x27;imputation_constant&#x27;,\n",
              "                                                  SimpleImputer(fill_value=&#x27;missing&#x27;,\n",
              "                                                                strategy=&#x27;most_frequent&#x27;)),\n",
              "                                                 (&#x27;OneHotEncoder&#x27;,\n",
              "                                                  OneHotEncoder(handle_unknown=&#x27;ignore&#x27;))]),\n",
              "                                 Index([&#x27;Laptop_Type&#x27;, &#x27;OpSys&#x27;, &#x27;Touchscreen&#x27;, &#x27;Ips&#x27;, &#x27;Cpu_Processor&#x27;,\n",
              "       &#x27;GpuManufacturer&#x27;, &#x27;StorageDevice&#x27;, &#x27;CompanyName&#x27;],\n",
              "      dtype=&#x27;object&#x27;)),\n",
              "                                (&#x27;numeric&#x27;,\n",
              "                                 Pipeline(steps=[(&#x27;imputation&#x27;,\n",
              "                                                  SimpleImputer()),\n",
              "                                                 (&#x27;StandardScaler&#x27;,\n",
              "                                                  StandardScaler())]),\n",
              "                                 Index([&#x27;CpuFrequencyGHz&#x27;, &#x27;RamGB&#x27;, &#x27;Memory_GB&#x27;], dtype=&#x27;object&#x27;))])</pre></div></div></div><div class=\"sk-parallel\"><div class=\"sk-parallel-item\"><div class=\"sk-item\"><div class=\"sk-label-container\"><div class=\"sk-label sk-toggleable\"><input class=\"sk-toggleable__control sk-hidden--visually\" id=\"sk-estimator-id-44\" type=\"checkbox\" ><label for=\"sk-estimator-id-44\" class=\"sk-toggleable__label sk-toggleable__label-arrow\">categorical</label><div class=\"sk-toggleable__content\"><pre>Index([&#x27;Laptop_Type&#x27;, &#x27;OpSys&#x27;, &#x27;Touchscreen&#x27;, &#x27;Ips&#x27;, &#x27;Cpu_Processor&#x27;,\n",
              "       &#x27;GpuManufacturer&#x27;, &#x27;StorageDevice&#x27;, &#x27;CompanyName&#x27;],\n",
              "      dtype=&#x27;object&#x27;)</pre></div></div></div><div class=\"sk-serial\"><div class=\"sk-item\"><div class=\"sk-serial\"><div class=\"sk-item\"><div class=\"sk-estimator sk-toggleable\"><input class=\"sk-toggleable__control sk-hidden--visually\" id=\"sk-estimator-id-45\" type=\"checkbox\" ><label for=\"sk-estimator-id-45\" class=\"sk-toggleable__label sk-toggleable__label-arrow\">SimpleImputer</label><div class=\"sk-toggleable__content\"><pre>SimpleImputer(fill_value=&#x27;missing&#x27;, strategy=&#x27;most_frequent&#x27;)</pre></div></div></div><div class=\"sk-item\"><div class=\"sk-estimator sk-toggleable\"><input class=\"sk-toggleable__control sk-hidden--visually\" id=\"sk-estimator-id-46\" type=\"checkbox\" ><label for=\"sk-estimator-id-46\" class=\"sk-toggleable__label sk-toggleable__label-arrow\">OneHotEncoder</label><div class=\"sk-toggleable__content\"><pre>OneHotEncoder(handle_unknown=&#x27;ignore&#x27;)</pre></div></div></div></div></div></div></div></div><div class=\"sk-parallel-item\"><div class=\"sk-item\"><div class=\"sk-label-container\"><div class=\"sk-label sk-toggleable\"><input class=\"sk-toggleable__control sk-hidden--visually\" id=\"sk-estimator-id-47\" type=\"checkbox\" ><label for=\"sk-estimator-id-47\" class=\"sk-toggleable__label sk-toggleable__label-arrow\">numeric</label><div class=\"sk-toggleable__content\"><pre>Index([&#x27;CpuFrequencyGHz&#x27;, &#x27;RamGB&#x27;, &#x27;Memory_GB&#x27;], dtype=&#x27;object&#x27;)</pre></div></div></div><div class=\"sk-serial\"><div class=\"sk-item\"><div class=\"sk-serial\"><div class=\"sk-item\"><div class=\"sk-estimator sk-toggleable\"><input class=\"sk-toggleable__control sk-hidden--visually\" id=\"sk-estimator-id-48\" type=\"checkbox\" ><label for=\"sk-estimator-id-48\" class=\"sk-toggleable__label sk-toggleable__label-arrow\">SimpleImputer</label><div class=\"sk-toggleable__content\"><pre>SimpleImputer()</pre></div></div></div><div class=\"sk-item\"><div class=\"sk-estimator sk-toggleable\"><input class=\"sk-toggleable__control sk-hidden--visually\" id=\"sk-estimator-id-49\" type=\"checkbox\" ><label for=\"sk-estimator-id-49\" class=\"sk-toggleable__label sk-toggleable__label-arrow\">StandardScaler</label><div class=\"sk-toggleable__content\"><pre>StandardScaler()</pre></div></div></div></div></div></div></div></div><div class=\"sk-parallel-item\"><div class=\"sk-item\"><div class=\"sk-label-container\"><div class=\"sk-label sk-toggleable\"><input class=\"sk-toggleable__control sk-hidden--visually\" id=\"sk-estimator-id-50\" type=\"checkbox\" ><label for=\"sk-estimator-id-50\" class=\"sk-toggleable__label sk-toggleable__label-arrow\">remainder</label><div class=\"sk-toggleable__content\"><pre></pre></div></div></div><div class=\"sk-serial\"><div class=\"sk-item\"><div class=\"sk-estimator sk-toggleable\"><input class=\"sk-toggleable__control sk-hidden--visually\" id=\"sk-estimator-id-51\" type=\"checkbox\" ><label for=\"sk-estimator-id-51\" class=\"sk-toggleable__label sk-toggleable__label-arrow\">passthrough</label><div class=\"sk-toggleable__content\"><pre>passthrough</pre></div></div></div></div></div></div></div></div><div class=\"sk-item\"><div class=\"sk-estimator sk-toggleable\"><input class=\"sk-toggleable__control sk-hidden--visually\" id=\"sk-estimator-id-52\" type=\"checkbox\" ><label for=\"sk-estimator-id-52\" class=\"sk-toggleable__label sk-toggleable__label-arrow\">RandomForestRegressor</label><div class=\"sk-toggleable__content\"><pre>RandomForestRegressor()</pre></div></div></div></div></div></div></div>"
            ]
          },
          "metadata": {},
          "execution_count": 156
        }
      ],
      "source": [
        "# Importing various regression models\n",
        "from sklearn.linear_model import LinearRegression\n",
        "from sklearn.ensemble import RandomForestRegressor\n",
        "from sklearn.metrics import mean_squared_error\n",
        "from sklearn.neighbors import KNeighborsRegressor\n",
        "from sklearn.svm import SVR\n",
        "from xgboost import XGBRegressor\n",
        "from sklearn.tree import DecisionTreeRegressor\n",
        "\n",
        "# Creating a pipeline that combines preprocessing and the respective regressor\n",
        "final=make_pipeline(preprocessor,RandomForestRegressor())\n",
        "\n",
        "# Displaying the pipeline object to verify its configuration\n",
        "final\n"
      ]
    },
    {
      "cell_type": "code",
      "source": [
        "# Fitting the pipeline to the training data\n",
        "final.fit(x_train,y_train)\n",
        "\n",
        "#Predict on the test data\n",
        "y_pred = final.predict(x_test)\n",
        "\n",
        "#Calculate MSE and RMSE\n",
        "MSE = mean_squared_error(y_test, y_pred)\n",
        "RMSE = MSE ** 0.5\n",
        "\n",
        "# Print RMSE\n",
        "print(\"RMSE:\", RMSE)"
      ],
      "metadata": {
        "colab": {
          "base_uri": "https://localhost:8080/"
        },
        "id": "nueffZoo_QHu",
        "outputId": "8419e685-e32b-469e-fa5a-678120e87a76"
      },
      "id": "nueffZoo_QHu",
      "execution_count": 157,
      "outputs": [
        {
          "output_type": "stream",
          "name": "stdout",
          "text": [
            "RMSE: 14987.458542368366\n"
          ]
        }
      ]
    },
    {
      "cell_type": "markdown",
      "id": "7WjH5jPW6SQX",
      "metadata": {
        "id": "7WjH5jPW6SQX"
      },
      "source": [
        "Root Mean Square Error for the model:\n",
        "XGBRegressor = 15410,\n",
        "RandomForestRegressor = 14862,\n",
        "LinearRegression = 17711,\n",
        "KNeighborsRegressor  =17844,\n",
        "DecisionTreeRegressor = 19393,\n",
        "SVR = 34397."
      ]
    },
    {
      "cell_type": "code",
      "execution_count": null,
      "id": "claDYa9rm4i_",
      "metadata": {
        "id": "claDYa9rm4i_"
      },
      "outputs": [],
      "source": [
        "# creating Gradio Application\n",
        "%%capture\n",
        "!pip install gradio"
      ]
    },
    {
      "cell_type": "code",
      "source": [
        "# Displaying the column names of the DataFrame X\n",
        "X.columns"
      ],
      "metadata": {
        "id": "beV0elev9P5Q"
      },
      "id": "beV0elev9P5Q",
      "execution_count": null,
      "outputs": []
    },
    {
      "cell_type": "code",
      "execution_count": null,
      "id": "nmaksw06l8wJ",
      "metadata": {
        "id": "nmaksw06l8wJ"
      },
      "outputs": [],
      "source": [
        "# Importing Gradio library for creating a web-based interface for model predictions\n",
        "import gradio as gr\n",
        "\n",
        "# Defining a function to make predictions on laptop prices based on user inputs\n",
        "def prediction_Price(Laptop_Type, OpSys,Touchscreen, Ips, Cpu_Processor,\n",
        "       CpuFrequencyGHz, GpuManufacturer, StorageDevice, CompanyName,\n",
        "       RamGB, Memory_GB):\n",
        "      # Creating a DataFrame from the input parameters\n",
        "  inputs=pd.DataFrame([[Laptop_Type, OpSys,Touchscreen, Ips, Cpu_Processor,\n",
        "       CpuFrequencyGHz, GpuManufacturer, StorageDevice, CompanyName,\n",
        "       RamGB, Memory_GB]],columns=['Laptop_Type', 'OpSys', 'Touchscreen', 'Ips',\n",
        "                                   'Cpu_Processor','CpuFrequencyGHz', 'GpuManufacturer',\n",
        "                                   'StorageDevice', 'CompanyName','RamGB', 'Memory_GB'])\n",
        "\n",
        " # Using the trained pipeline 'final' to make a prediction based on the input DataFrame\n",
        "  return final.predict(inputs)[0]\n"
      ]
    },
    {
      "cell_type": "code",
      "source": [
        "# Displaying the first 5 rows of the 'y_test' Series\n",
        "y_test.head()"
      ],
      "metadata": {
        "id": "YJ_1tq6xNlZA"
      },
      "id": "YJ_1tq6xNlZA",
      "execution_count": null,
      "outputs": []
    },
    {
      "cell_type": "code",
      "source": [
        "# Displaying the first 5 rows of the 'x_test' Series\n",
        "x_test.head(5)"
      ],
      "metadata": {
        "id": "wwzzshByLqzc"
      },
      "id": "wwzzshByLqzc",
      "execution_count": null,
      "outputs": []
    },
    {
      "cell_type": "code",
      "execution_count": null,
      "id": "NrtG2ihV3M72",
      "metadata": {
        "id": "NrtG2ihV3M72"
      },
      "outputs": [],
      "source": [
        "# Creating a Gradio Dropdown or Number component for the features of dataframe\n",
        "\n",
        "Laptop_Type = gr.Dropdown(label=\"Laptop Type\", choices=['Ultrabook', 'Notebook', 'Gaming', '2 in 1 Convertible', 'Workstation', 'Netbook'])\n",
        "OpSys = gr.Dropdown(label=\"OpSys\", choices=['mac',  'Windows', 'Others/No OS/Linux'])\n",
        "Touchscreen= gr.Dropdown(label=\"Touchscreen\", choices=['Yes', 'No'])\n",
        "Ips = gr.Dropdown(label=\"Ips\", choices=['Yes', 'No'])\n",
        "Cpu_Processor = gr.Dropdown(label=\"Cpu Processor\", choices=['Intel Core i3','Intel Core i5', 'Intel Core i7', 'AMD Processor','Other Intel Processor'])\n",
        "CpuFrequencyGHz = gr.Number(label=\"Cpu Frequency(Between 0.0 to 3.5)GHz\")\n",
        "GpuManufacturer = gr.Dropdown(label=\"Gpu Manufacturer\", choices=['Intel', 'AMD', 'Nvidia'])\n",
        "StorageDevice = gr.Dropdown(label=\"Storage Device\", choices=['SSD', 'Flash Storage', 'HDD', 'Hybrid'])\n",
        "CompanyName = gr.Dropdown(label=\"Company\", choices=['Apple', 'HP', 'Acer', 'Asus', 'Dell', 'Lenovo', 'MSI','Razer', 'Others'])\n",
        "RamGB = gr.Dropdown(label=\"Ram(GB)\",choices=[ 2, 4,  6,  8, 12, 14])\n",
        "Memory_GB = gr.Dropdown(label=\"Memory(GB)\",choices=[ 16, 32, 64, 128,180, 256,500, 512, 1000,2000])\n",
        "\n",
        "# Creating a list of input components for the Gradio interface\n",
        "inputs = [Laptop_Type, OpSys,Touchscreen, Ips, Cpu_Processor,\n",
        "       CpuFrequencyGHz, GpuManufacturer, StorageDevice, CompanyName,\n",
        "       RamGB, Memory_GB]\n",
        "\n",
        "# Creating an output component for the Gradio interface to display the predicted price\n",
        "outputs = gr.Number(label=\"Prediction Price\")\n",
        "\n",
        "# Creating a Gradio interface for the laptop price prediction model\n",
        "app = gr.Interface(fn=prediction_Price, inputs=inputs, outputs=outputs, title=\"Prediction Price of a Laptop\")\n",
        "\n",
        "# Launching the Gradio interface\n",
        "app.launch(debug=True)\n"
      ]
    }
  ],
  "metadata": {
    "colab": {
      "provenance": []
    },
    "kernelspec": {
      "display_name": "Python 3 (ipykernel)",
      "language": "python",
      "name": "python3"
    },
    "language_info": {
      "codemirror_mode": {
        "name": "ipython",
        "version": 3
      },
      "file_extension": ".py",
      "mimetype": "text/x-python",
      "name": "python",
      "nbconvert_exporter": "python",
      "pygments_lexer": "ipython3",
      "version": "3.11.7"
    }
  },
  "nbformat": 4,
  "nbformat_minor": 5
}